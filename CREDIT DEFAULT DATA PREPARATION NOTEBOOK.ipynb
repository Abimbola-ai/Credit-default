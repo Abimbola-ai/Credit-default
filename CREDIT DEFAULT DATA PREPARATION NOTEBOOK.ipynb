{
 "cells": [
  {
   "cell_type": "markdown",
   "metadata": {},
   "source": [
    "### Kowope Mart is a Nigerian-based retail company with a vision to provide quality goods, education and automobile services to its customers at affordable price and reduce if not eradicate charges on card payments and increase customer satisfaction with credit rewards that can be used within the Mall. To achieve this, the company has partnered with DSBank on co-branded credit card with additional functionality such that customers can request for loan, pay for goods even with zero-balance and then pay back within an agreed period of time. \n",
    "\n",
    "### This innovative strategy has increased sales for the company. However, there has been recent cases of credit defaults and Kowope Mart will like to have a system that profiles customers who are worthy of the card with minimum if not zero risk of defaulting.You have been employed as a Data Scientist to leverage Machine learning to predict customers who are likely to default or not.This is Qualification Competition for the Data Science Nigeria AI Bootcamp."
   ]
  },
  {
   "cell_type": "markdown",
   "metadata": {},
   "source": [
    "## The data is a structure dataset pull from the Kowope Mart’s database with few important features that can be used to predict defaulters in retail network. The data sample has been split into train and test with a volume of 56,000 and 24,000.\n",
    "\n",
    "## The files for download are:\n",
    "### train.csv - you will use this to train your model.\n",
    "### test.csv - you will use this to test your model.\n",
    "### SampleSubmission.csv - is an example of what your submission file should look like. The order of the rows does not matter, but the names of the UIDs must be correct. You must predict growth_stage for the corresponding images.\n",
    "\n"
   ]
  },
  {
   "cell_type": "markdown",
   "metadata": {},
   "source": [
    "## Variables\n",
    "\n",
    "##### Application_ID: Unique Customer Application Identification number\n",
    "\n",
    "\n",
    "\n",
    "### Risk Scoring features: There's a minimum payments you are expected to make on your lines of credit or credit cards at certain periods, when you miss those payments. Your credit score is affected and you are in delinquency period. Every credit cards and lines of credits impacts Risk scoring significantly. High credit card balance could lower your credit scores even with one time payments, if it raises your credit utilization ratio. Scoring models don't consider lines of credit when calculating revolving utilization ratio.\n",
    "\n",
    "#### form_field1: Customer Creditworthiness score based on historical data. \n",
    "###### (Important feature affected by repayment history, type of credit, new credit, current debt, length of credit. (Determines ability to borrow money, ranks borrower's riskiness but not borrower's default probability, does not account for economic conditions). 800-850 excellent, Very good 740-799, Good 670-739, Fair 580-669, Poor 300-579. Payment history accounts for 35% of credit score, Total owed 30%, Length of credit history counts 15% longer credit histories 10% type of credits, new credits 10% credit inquiries\n",
    "\n",
    "##### form_field2: A score that measures the number and riskiness of credit enquiries made by a borrower. (Related to no of enquiries for credit. usually there is a riskiness limit, the more the riskier. (studies show people with 6-8 inquiries are more likely to file for bankruptcy). Multiple enquiries lowers your credit score\n",
    "\n",
    "### Severity features: Severity is a function of amount, time since default, and number of defaults\n",
    "\n",
    "#### form_field3: Severity of default by the borrower on any loan(s).\n",
    "#### form_field4: Severity of default by the borrower on auto loan(s). (Auto loans are usually backed by collateral)\n",
    "#### form_field5: Severity of default by the borrower on education loan(s).\n",
    "\n",
    "\n",
    "### Credit features\n",
    "#### form_field6: Minimum of credit available on all credit cards that is automatically renewed as debts are paid off on the customer’s cards (in NGN) (The smaller credit limit of a particular card)\n",
    "#### form_field7: Maximum of credit available on customer’s active credit lines (in NGN)\n",
    "#### form_field8: Maximum of credit available on all active credit cards that is automatically renewed as debts are paid off on the customer’s cards (in NGN) (Max credit limit of a card)\n",
    "#### form_field9: Sum of available credit on credit cards that the borrower has missed 1 payment (in NGN)  (Borrower already missed one payment, is currently in deliquency period before default. What is now the sum of available credit on those credit cards, is borrower still nearing default.\n",
    "#### form_field10: Total amount of credit available on accepted credit lines (in NGN) (Credit status)\n",
    "#### form_field11: The amount of dues collected post-default where the due amount was more than 500 (in NGN) (penalty dues post-default collected)\n",
    "#### form_field12: Sum of the amount due on active credit cards (in NGN) (Statement balance)\n",
    "#### form_field13: Annual amount paid towards all credit cards during the previous year (in NGN) \n",
    "#### form_field14: Annual income (in NGN)\n",
    "#### form_field15: The estimated market value of a property owned/used by the borrower (in NGN)\n",
    "\n",
    "\n",
    "### Credit card features:\n",
    "#### form_field16: Number of active credit card that is automatically renewed as debts are paid off on which full credit limit is utilized by the borrower \n",
    "#### form_field17: Number of active credit cards on which full credit limit is utilized by the borrower\n",
    "#### form_field18: Number of active credit lines on which full credit limit is utilized by the borrower\n",
    "#### form_field19: Number of active credit cards on which at least 75% credit limit is utilized by the borrower\n",
    "#### form_field20: Number of active credit lines on which at least 75% credit limit is utilized by the borrower\n",
    "#### form_field21: Average utilization of active revolving credit card loans (%)\n",
    "#### form_field22: Average utilization of line on all active credit lines activated in last 2 years (%)\n",
    "#### form_field23: Average utilization of line on all active credit cards activated in last 1 year (%)\n",
    "#### form_field24: Average utilization of line on credit cards on which the borrower has missed 1 payment during the last 6 months (%)\n",
    "\n",
    "## Tenure is pre-agreed time period (in months or years) between the lender and borrower, for the borrower to repay the principal and interest in full to the lender\n",
    "#### form_field25: Average tenure of active revolving credit cards (in days) (Average tenure of revolving credits on credit cards, balance not paid yet)\n",
    "#### form_field26: Tenure of oldest credit card among all active credit cards (in days)\n",
    "#### form_field27: Tenure of oldest revolving credit card among all active revolving credit cards (in days)\n",
    "\n",
    "\n",
    "### Time-related features:\n",
    "#### form_field28: Number of days since last missed payment on any credit line\n",
    "#### form_field29: Tenure of the oldest credit line (in days)\n",
    "#### form_field30: Maximum tenure on all auto loans (in days)\n",
    "#### form_field31: Maximum tenure on all education loans (in days)\n",
    "#### form_field32: Sum of tenures (in months) of active credit cards\n",
    "#### form_field33: Sum of tenures (in months) of active credit cards\n",
    "#### form_field34: Number of active credit lines over the last 6 months on which the borrower has missed 1 payment\n",
    "#### form_field35: Number of revolving credit cards over the last 2 years on which the borrower has missed 1 payment\n",
    "#### form_field36: Number of active credit lines\n",
    "#### form_field37: Number of credit cards with an active tenure of at least 2 years\n",
    "#### form_field38: Number of credit lines activated in the last 2 years\n",
    "#### form_field39: Number of credit lines on which the borrower has current delinquency (Period between missing a loan payment and having the loan default, it's like a grace period after loan expiry date before penalizing the borrower after missing a payment).\n",
    "\n",
    "\n",
    "### Percentage related features:\n",
    "#### form_field40: Utilization of line on active education loans (%)\n",
    "#### form_field41: Utilization of line on active auto loans (%)\n",
    "\n",
    "\n",
    "### Other features:\n",
    "#### form_field42: Financial stress index of the borrower. This index is a function of collection trades, bankruptcies files, tax liens invoked, etc.\n",
    "#### form_field43: Number of credit lines on which the borrower has never missed a payment in the last 2 years, yet considered as high-risk loans based on the market prediction of the economic scenario\n",
    "#### form_field44: Ratio of the maximum amount due on all active credit lines and the sum of amounts due on all active credit lines\n",
    "#### form_field45: Number of mortgage loans on which the borrower has missed 2 payments\n",
    "#### form_field46: Number of auto loans on which the borrower has missed 2 payments\n",
    "#### form_field47: Type of product that the applicant applied for. (C = Charge; L = Lending)\n",
    "#### form_field48: Undefined Variable\n",
    "#### form_field49: Undefined Variable\n",
    "#### form_field50: Ratio of the minimum amount due on all active credit lines and the sum of amounts due on all active credit lines\n",
    "\n",
    "\n",
    "### Target features:\n",
    "#### default_status: defaulted or not. (yes:1, no: 0)\n",
    "\n"
   ]
  },
  {
   "cell_type": "markdown",
   "metadata": {},
   "source": [
    "#### This risk prediction can be approached as a binary classification utilizing the most predictive features. In this notebook we focus on analyzing and preparing the data to achieve the optimum AUC score on the credit default risk prediction."
   ]
  },
  {
   "cell_type": "code",
   "execution_count": null,
   "metadata": {},
   "outputs": [],
   "source": [
    "#import necessary dependecies\n",
    "import seaborn as sns\n",
    "from sklearn.ensemble import RandomForestClassifier, GradientBoostingClassifier, AdaBoostClassifier\n",
    "from sklearn.neighbors import KNeighborsClassifier\n",
    "from sklearn.cluster import KMeans\n",
    "import math\n",
    "from sklearn.preprocessing import LabelEncoder\n",
    "from sklearn.pipeline import Pipeline\n",
    "import os\n",
    "import warnings\n",
    "import numpy as np  \n",
    "import pandas as pd\n",
    "import matplotlib.pyplot as plt\n",
    "from sklearn.metrics import roc_curve, auc, log_loss\n",
    "from sklearn.feature_selection import mutual_info_classif\n",
    "from sklearn.preprocessing import StandardScaler, RobustScaler, MinMaxScaler\n",
    "from scipy.stats import mode\n",
    "from sklearn.metrics import silhouette_score\n",
    "from itertools import permutations\n",
    "from tqdm import tqdm\n",
    "#import swifter\n",
    "from itertools import combinations\n",
    "from sklearn.model_selection import train_test_split, StratifiedShuffleSplit, cross_val_score, KFold, GridSearchCV, StratifiedKFold\n",
    "from sklearn.metrics import balanced_accuracy_score, auc, mean_squared_error, roc_curve, confusion_matrix, precision_score, recall_score, f1_score,\\\n",
    "log_loss, roc_auc_score\n",
    "from sklearn.impute import SimpleImputer\n",
    "#from imblearn.over_sampling import SMOTE\n",
    "#from imblearn.pipeline import Pipeline\n",
    "\n",
    "%matplotlib inline\n",
    "warnings.filterwarnings('ignore')\n",
    "from typing import List"
   ]
  },
  {
   "cell_type": "code",
   "execution_count": null,
   "metadata": {},
   "outputs": [],
   "source": [
    "os.getcwd()"
   ]
  },
  {
   "cell_type": "code",
   "execution_count": null,
   "metadata": {},
   "outputs": [],
   "source": [
    "#Load the datasets\n",
    "\n",
    "train = pd.read_csv('train.csv')\n",
    "\n",
    "test = pd.read_csv('test.csv')\n",
    "\n",
    "submission = pd.read_csv('Submission.csv')"
   ]
  },
  {
   "cell_type": "code",
   "execution_count": null,
   "metadata": {},
   "outputs": [],
   "source": [
    "print(train.shape, test.shape, submission.shape)"
   ]
  },
  {
   "cell_type": "code",
   "execution_count": null,
   "metadata": {},
   "outputs": [],
   "source": [
    "train.head()"
   ]
  },
  {
   "cell_type": "code",
   "execution_count": null,
   "metadata": {},
   "outputs": [],
   "source": [
    "test.head()"
   ]
  },
  {
   "cell_type": "code",
   "execution_count": null,
   "metadata": {},
   "outputs": [],
   "source": [
    "submission.head()"
   ]
  },
  {
   "cell_type": "code",
   "execution_count": null,
   "metadata": {},
   "outputs": [],
   "source": [
    "#Renaming the columns to make more interpretable\n",
    "\n",
    "rename_col = {\"form_field1\":'Creditworth_score',\n",
    "           \"form_field2\":'CreditEnquiredRisk',\n",
    "           \"form_field3\":'LoanDefaultSeverityAll',\n",
    "           \"form_field4\":'LoanDefaultSeverityAuto',\n",
    "           \"form_field5\":'LoanDefaultSeverityEdu',\n",
    "           \"form_field6\":'MinCreditAvailAfterPaymentsCards',\n",
    "           \"form_field7\":'MaxCreditAvailActivelines',\n",
    "           \"form_field8\":'MaxCreditAvailAfterPaymentsCards',\n",
    "           \"form_field9\":'SumOfAvailCreditOnCardsMissed1Pay',\n",
    "                                            \n",
    "           \"form_field10\":'TotalCreditAvailActivelines',\n",
    "           \"form_field11\":'PostDefaultDuesCollectedA500',\n",
    "                                            \n",
    "           \"form_field12\":'TotalDueActiveCards',\n",
    "           \"form_field13\":'AnnualPaidPreviousYearAllCards',\n",
    "                                            \n",
    "           \"form_field14\":'AnnualIncome',\n",
    "           \"form_field15\":'PropertyMarketValue',\n",
    "                                            \n",
    "           \"form_field16\":'NumActiveCCardsRenewedFullCreditUsed',\n",
    "           \"form_field17\":'NumActiveCCardsFullCreditUsed',\n",
    "                                            \n",
    "           \"form_field18\":'NumActiveCLinesFullCreditUsed',\n",
    "           \"form_field19\":'NumActiveCCards75pCreditUsed',\n",
    "                                            \n",
    "           \"form_field20\":'NumActiveCLines75pCreditUsed',\n",
    "           \"form_field21\":'%AverageUtilCCard',\n",
    "                                            \n",
    "           \"form_field22\":'%AvgUtilOfCLines2Yrs',\n",
    "           \"form_field23\":'%AvgUtilOfCCards1Yr',\n",
    "                                            \n",
    "           \"form_field24\":'%AvgUtilOfCLines6MoMiss1',\n",
    "           \"form_field25\":'AvgTenureofActiveRevolveCardsinDays',\n",
    "                                            \n",
    "           \"form_field26\":'TenureofOldestCCardsinDays',\n",
    "           \"form_field27\":'TenureofOldestRevolveCCardsinDays',\n",
    "                                            \n",
    "           \"form_field28\":'NumDaysonlastmissedCLine',\n",
    "           \"form_field29\":'TenureofOldestCLineinDays',\n",
    "                                            \n",
    "           \"form_field30\":'MaxTenureonAutoLoansinDays',\n",
    "           \"form_field31\":'MaxTenureonEduLoansinDays',\n",
    "                                            \n",
    "           \"form_field32\":'SumTenureonActiveCCardsinMonth',\n",
    "           \"form_field33\":'SumTenureonActiveCLinesinMonth',\n",
    "                                            \n",
    "           \"form_field34\":'NumOfCLineslast6MoMiss1', \n",
    "           \"form_field35\":'NumOfRevolveCCardslast2YrMiss1',\n",
    "                                            \n",
    "           \"form_field36\":'NumActiveCLines',\n",
    "           \"form_field37\":'NumCCardsActiveTenure2Yrs',\n",
    "                                            \n",
    "           \"form_field38\":'NumActivatedCLinesinlast2Yrs',\n",
    "           \"form_field39\":'NumActiveCLinesDeliquent',\n",
    "                                            \n",
    "           \"form_field40\":'%UtilCLinesonEduLoan',\n",
    "           \"form_field41\":'%UtilCLinesonAutoLoan',\n",
    "                                            \n",
    "           \n",
    "           \n",
    "           \"form_field42\":'FinanceStressIndex',\n",
    "           \"form_field43\":'NumberCLinesPaidHighRisk',\n",
    "                                            \n",
    "           \"form_field44\":'RatioDueCCLinesMaxSumCCLines',\n",
    "           \"form_field45\":'NumOfMortgageLoansMissed2x',\n",
    "                                            \n",
    "           \"form_field46\":'NumOfAutoLoansMissed2x',\n",
    "           \"form_field50\": 'RatioDueCCLinesMinSumCCLines',\n",
    "                                            \n",
    "           'form_field47': 'ProductType', \n",
    "              \n",
    "           'default_status_no': 'default_status'}"
   ]
  },
  {
   "cell_type": "code",
   "execution_count": null,
   "metadata": {},
   "outputs": [],
   "source": [
    "train = train.rename(columns = rename_col)\n",
    "\n",
    "test = test.rename(columns = rename_col)\n",
    "\n"
   ]
  },
  {
   "cell_type": "code",
   "execution_count": null,
   "metadata": {},
   "outputs": [],
   "source": [
    "train.head()"
   ]
  },
  {
   "cell_type": "code",
   "execution_count": null,
   "metadata": {},
   "outputs": [],
   "source": [
    "test.head()"
   ]
  },
  {
   "cell_type": "code",
   "execution_count": null,
   "metadata": {},
   "outputs": [],
   "source": [
    "train.dtypes"
   ]
  },
  {
   "cell_type": "markdown",
   "metadata": {},
   "source": [
    "Mostly numerical variables with ProductType categorical"
   ]
  },
  {
   "cell_type": "markdown",
   "metadata": {},
   "source": [
    "## EDA:"
   ]
  },
  {
   "cell_type": "markdown",
   "metadata": {},
   "source": [
    "### Data Overview:"
   ]
  },
  {
   "cell_type": "code",
   "execution_count": null,
   "metadata": {},
   "outputs": [],
   "source": [
    "#Merging train and test for joint analysis\n",
    "\n",
    "train['combiner'] = 'x'\n",
    "test['combiner'] = 'y'\n",
    "\n"
   ]
  },
  {
   "cell_type": "code",
   "execution_count": null,
   "metadata": {},
   "outputs": [],
   "source": [
    "data = pd.concat([train, test])"
   ]
  },
  {
   "cell_type": "code",
   "execution_count": null,
   "metadata": {},
   "outputs": [],
   "source": [
    "data.reset_index(drop = True, inplace = True)"
   ]
  },
  {
   "cell_type": "code",
   "execution_count": null,
   "metadata": {},
   "outputs": [],
   "source": [
    "data.head()"
   ]
  },
  {
   "cell_type": "code",
   "execution_count": null,
   "metadata": {},
   "outputs": [],
   "source": [
    "data.tail()"
   ]
  },
  {
   "cell_type": "code",
   "execution_count": null,
   "metadata": {},
   "outputs": [],
   "source": [
    "data.describe()"
   ]
  },
  {
   "cell_type": "code",
   "execution_count": null,
   "metadata": {},
   "outputs": [],
   "source": [
    "data.isnull().sum()"
   ]
  },
  {
   "cell_type": "markdown",
   "metadata": {},
   "source": [
    "There are significant null values, not all credit variables is available. "
   ]
  },
  {
   "cell_type": "code",
   "execution_count": null,
   "metadata": {},
   "outputs": [],
   "source": [
    "#Percentage of null values per feature\n",
    "\n",
    "data.isnull().sum()/len(data)"
   ]
  },
  {
   "cell_type": "markdown",
   "metadata": {},
   "source": [
    "Initially we will leave all null values and build a baseline model with null values, also as we continue with analysis, we will decide how to handle nulls per features."
   ]
  },
  {
   "cell_type": "code",
   "execution_count": null,
   "metadata": {},
   "outputs": [],
   "source": [
    "#Categorical variables\n",
    "\n",
    "data.describe(include = 'object')"
   ]
  },
  {
   "cell_type": "code",
   "execution_count": null,
   "metadata": {},
   "outputs": [],
   "source": [
    "data['Applicant_ID'].nunique()"
   ]
  },
  {
   "cell_type": "code",
   "execution_count": null,
   "metadata": {},
   "outputs": [],
   "source": [
    "#Checking duplicated columns\n",
    "\n",
    "len(data[data.duplicated()])"
   ]
  },
  {
   "cell_type": "markdown",
   "metadata": {},
   "source": [
    "#### Build Quick Baseline Model"
   ]
  },
  {
   "cell_type": "code",
   "execution_count": null,
   "metadata": {},
   "outputs": [],
   "source": [
    "#Label Encode Product Type\n",
    "\n",
    "labenc = LabelEncoder()\n",
    "\n",
    "data['ProductType'] = labenc.fit_transform (data['ProductType'])\n"
   ]
  },
  {
   "cell_type": "code",
   "execution_count": null,
   "metadata": {},
   "outputs": [],
   "source": [
    "# imp_cols = list(set(data.columns) - set(data[['Applicant_ID', 'combiner','default_status']]))"
   ]
  },
  {
   "cell_type": "code",
   "execution_count": null,
   "metadata": {},
   "outputs": [],
   "source": [
    "# data_imp = data.copy()"
   ]
  },
  {
   "cell_type": "code",
   "execution_count": null,
   "metadata": {},
   "outputs": [],
   "source": [
    "# imp_mean =SimpleImputer(missing_values = np.nan, strategy = 'mean')\n",
    "\n",
    "# data_imp[imp_cols] = imp_mean.fit_transform(data_imp[imp_cols])"
   ]
  },
  {
   "cell_type": "code",
   "execution_count": null,
   "metadata": {},
   "outputs": [],
   "source": [
    "train = data[data['combiner'] == 'x']"
   ]
  },
  {
   "cell_type": "code",
   "execution_count": null,
   "metadata": {},
   "outputs": [],
   "source": [
    "labstat = LabelEncoder()\n",
    "\n",
    "train['default_status'] = labstat.fit_transform(train['default_status'])"
   ]
  },
  {
   "cell_type": "code",
   "execution_count": null,
   "metadata": {},
   "outputs": [],
   "source": [
    "target = train[['default_status']]"
   ]
  },
  {
   "cell_type": "markdown",
   "metadata": {},
   "source": [
    "#### LightGbm Baseline"
   ]
  },
  {
   "cell_type": "code",
   "execution_count": null,
   "metadata": {},
   "outputs": [],
   "source": [
    "target['default_status']"
   ]
  },
  {
   "cell_type": "code",
   "execution_count": null,
   "metadata": {},
   "outputs": [],
   "source": [
    "#Cross-Validation routine\n",
    "\n",
    "from lightgbm import LGBMClassifier\n",
    "\n",
    "from xgboost import XGBClassifier\n",
    "\n",
    "rand = 40\n",
    "\n",
    "fold = StratifiedKFold(n_splits= 5, shuffle= True, random_state= rand)\n",
    "\n",
    "i = 1\n",
    "\n",
    "err = []\n",
    "\n",
    "#Standardize\n",
    "#scaler = StandardScaler()\n",
    "\n",
    "for train_index, test_index in fold.split(train, target):\n",
    "\n",
    "    print('fold n°: ', i)\n",
    "\n",
    "    x_data, x_val = train.iloc[train_index], train.iloc[test_index]\n",
    "\n",
    "    y_data, y_val = target.iloc[train_index], target.iloc[test_index]\n",
    "    \n",
    "    \n",
    "\n",
    "    x_data = x_data.drop(['default_status','combiner', 'Applicant_ID'], axis = 1)\n",
    "    \n",
    "    x_val = x_val.drop(['default_status','combiner', 'Applicant_ID'], axis = 1)\n",
    "    \n",
    "    \n",
    "#     x_data['ProductType'].fillna(0.5, inplace = True)\n",
    "    \n",
    "#     x_val['ProductType'].fillna(0.5, inplace = True)\n",
    "    \n",
    "  \n",
    "    lgb_model = LGBMClassifier(n_estimators = 1100, learning_rate = 0.01,  reg_lambda = 10, random_state = rand)\n",
    "    \n",
    "#     'subsample': 0.4, 'reg_alpha': 5, 'n_estimators': 1200, 'min_child_weight': 1, \\\n",
    "#                     'max_depth': 6, 'learning_rate': 0.05, 'gamma': 0, 'colsample_bytree': 0.8}\n",
    "\n",
    "     \n",
    "        \n",
    "    lgb_model.fit(x_data, y_data['default_status'].ravel(), eval_set= [(x_val, y_val['default_status'].ravel())], \\\n",
    "              early_stopping_rounds= 500,\\\n",
    "              verbose= 100, eval_metric = ['auc'])\n",
    "        \n",
    "    y_train_pred = lgb_model.predict_proba(x_data)[:,1]\n",
    "\n",
    "    y_test_pred = lgb_model.predict_proba(x_val)[:,1]\n",
    "    \n",
    "    \n",
    "    \n",
    "        \n",
    "    print('auc train', roc_auc_score(y_data, y_train_pred))\n",
    "    print('auc test',  roc_auc_score(y_val, y_test_pred))\n",
    "    \n",
    "    \n",
    "    \n",
    "    err.append(roc_auc_score(y_val, y_test_pred))\n",
    "\n",
    "\n",
    "    i = i + 1\n",
    "        \n",
    "print('Mean auc test: ', np.mean(err)) "
   ]
  },
  {
   "cell_type": "code",
   "execution_count": null,
   "metadata": {},
   "outputs": [],
   "source": [
    "test = data[data['combiner'] == 'y']"
   ]
  },
  {
   "cell_type": "code",
   "execution_count": null,
   "metadata": {},
   "outputs": [],
   "source": [
    "train.head()"
   ]
  },
  {
   "cell_type": "code",
   "execution_count": null,
   "metadata": {},
   "outputs": [],
   "source": [
    "import lightgbm as lgb\n",
    "\n",
    "#fitting the model\n",
    "\n",
    "lgb_model.fit(train.drop(['default_status','combiner', 'Applicant_ID'], axis = 1), target['default_status'].ravel())\n",
    "\n",
    "\n",
    "#Test set predictions\n",
    "\n",
    "test['default_status']  = lgb_model.predict_proba(test.drop(['default_status', 'combiner', 'Applicant_ID'],\\\n",
    "                                                            axis = 1))[:,1]"
   ]
  },
  {
   "cell_type": "code",
   "execution_count": null,
   "metadata": {},
   "outputs": [],
   "source": [
    "test['default_status'].head()"
   ]
  },
  {
   "cell_type": "markdown",
   "metadata": {},
   "source": [
    "#### Exploring feature importance"
   ]
  },
  {
   "cell_type": "code",
   "execution_count": null,
   "metadata": {},
   "outputs": [],
   "source": [
    "lgb.plot_importance(lgb_model, importance_type = \"gain\")"
   ]
  },
  {
   "cell_type": "code",
   "execution_count": null,
   "metadata": {},
   "outputs": [],
   "source": [
    "zip_imp = zip(lgb_model.feature_importances_, train.drop(['default_status','combiner', 'Applicant_ID'], axis = 1).columns)"
   ]
  },
  {
   "cell_type": "code",
   "execution_count": null,
   "metadata": {},
   "outputs": [],
   "source": [
    "feat_imp = list(zip_imp)"
   ]
  },
  {
   "cell_type": "code",
   "execution_count": null,
   "metadata": {},
   "outputs": [],
   "source": [
    "feat_imp.sort(reverse = True)"
   ]
  },
  {
   "cell_type": "code",
   "execution_count": null,
   "metadata": {},
   "outputs": [],
   "source": [
    "feat_imp"
   ]
  },
  {
   "cell_type": "markdown",
   "metadata": {},
   "source": [
    "#### LightGBM Baseline score 0.842\n",
    "#### EDA Continued:"
   ]
  },
  {
   "cell_type": "code",
   "execution_count": null,
   "metadata": {},
   "outputs": [],
   "source": [
    "data['ProductType'] = labstat.inverse_transform(data['ProductType'])"
   ]
  },
  {
   "cell_type": "code",
   "execution_count": null,
   "metadata": {},
   "outputs": [],
   "source": [
    "data.isnull().sum() / len(data)"
   ]
  },
  {
   "cell_type": "markdown",
   "metadata": {},
   "source": [
    "#### Feature Relationships with Default Status"
   ]
  },
  {
   "cell_type": "code",
   "execution_count": null,
   "metadata": {},
   "outputs": [],
   "source": [
    "data.columns"
   ]
  },
  {
   "cell_type": "code",
   "execution_count": null,
   "metadata": {},
   "outputs": [],
   "source": []
  },
  {
   "cell_type": "code",
   "execution_count": null,
   "metadata": {},
   "outputs": [],
   "source": []
  },
  {
   "cell_type": "code",
   "execution_count": null,
   "metadata": {},
   "outputs": [],
   "source": []
  },
  {
   "cell_type": "code",
   "execution_count": null,
   "metadata": {},
   "outputs": [],
   "source": []
  },
  {
   "cell_type": "code",
   "execution_count": null,
   "metadata": {},
   "outputs": [],
   "source": []
  },
  {
   "cell_type": "code",
   "execution_count": null,
   "metadata": {},
   "outputs": [],
   "source": []
  },
  {
   "cell_type": "code",
   "execution_count": null,
   "metadata": {},
   "outputs": [],
   "source": []
  },
  {
   "cell_type": "code",
   "execution_count": null,
   "metadata": {},
   "outputs": [],
   "source": []
  },
  {
   "cell_type": "code",
   "execution_count": null,
   "metadata": {},
   "outputs": [],
   "source": []
  },
  {
   "cell_type": "markdown",
   "metadata": {},
   "source": [
    "#### Create Baseline Submission"
   ]
  },
  {
   "cell_type": "code",
   "execution_count": null,
   "metadata": {},
   "outputs": [],
   "source": [
    "submission.head()"
   ]
  },
  {
   "cell_type": "code",
   "execution_count": null,
   "metadata": {},
   "outputs": [],
   "source": [
    "sub_test = test[['Applicant_ID', 'default_status']]"
   ]
  },
  {
   "cell_type": "code",
   "execution_count": null,
   "metadata": {},
   "outputs": [],
   "source": [
    "sub_test.reset_index(drop = True, inplace = True)"
   ]
  },
  {
   "cell_type": "code",
   "execution_count": null,
   "metadata": {},
   "outputs": [],
   "source": [
    "sub_test.to_csv(\"submission5.csv\", index = False)"
   ]
  },
  {
   "cell_type": "code",
   "execution_count": null,
   "metadata": {},
   "outputs": [],
   "source": [
    "sub_test"
   ]
  },
  {
   "cell_type": "code",
   "execution_count": null,
   "metadata": {},
   "outputs": [],
   "source": []
  }
 ],
 "metadata": {
  "kernelspec": {
   "display_name": "Python 3",
   "language": "python",
   "name": "python3"
  },
  "language_info": {
   "codemirror_mode": {
    "name": "ipython",
    "version": 3
   },
   "file_extension": ".py",
   "mimetype": "text/x-python",
   "name": "python",
   "nbconvert_exporter": "python",
   "pygments_lexer": "ipython3",
   "version": "3.7.4"
  }
 },
 "nbformat": 4,
 "nbformat_minor": 2
}
