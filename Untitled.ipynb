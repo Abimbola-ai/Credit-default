{
 "cells": [
  {
   "cell_type": "code",
   "execution_count": null,
   "metadata": {},
   "outputs": [],
   "source": [
    "train_rename[['MinCreditAvailAfterPayments',\n",
    "       'MaxCreditAvailActiveAll', 'MaxCreditAvailAfterPayments', 'TotalCreditAvailActiveAll',\n",
    "       'PostDefaultDuesCollectedA500', 'TotalDueActive',\n",
    "       'AllAnnualPaidPreviousYear', 'AnnualIncome', 'PropertyMarketValue',\n",
    "       'NumActiveCCardsPaidOffFullCreditUsed', 'NumActiveCCardsFullCreditUsed',\n",
    "       'NumActiveFullCLinesFullCreditUsed', 'NumActiveCCards75pCreditUsed',\n",
    "       'NumActiveCLines75pCreditUsed', '%AverageUseOfCCardLoans',\n",
    "       '%AverageUseOfCLines2Yrs', '%AverageUseOfCCards1Yr',\n",
    "       '%AverageUseOfCLines6MoMiss1',\n",
    "       'AverageTenureofActiveRevolveCardsinDays', 'TenureofOldestCCardsinDays',\n",
    "       'TenureofOldestRevolvingCCardsinDays', 'NumOfDaysonlastmissedCLine',\n",
    "       'TenureofOldestCLineinDays', 'MaxTenureonAutoLoansinDays',\n",
    "       'MaxTenureonEduLoansinDays', 'SumTenureonActiveCCardsinMonth',\n",
    "       'SumTenureonActiveCLinesinMonth', 'NumOfCLineslast6MoMiss1',\n",
    "       'NumOfRevolveCCardslast2YrMiss1', 'NumActiveCLines',\n",
    "       'NumCCardsActiveTenure2Yrs', 'ActivatedCLinesinlast2Yrs',\n",
    "       'NumActiveCLinesDeliquent', '%UseCLinesonEduLoan',\n",
    "       '%UseCLinesonAutoLoan', 'FinanceStressIndex',\n",
    "       'NumberCLinesPaidHighRisk', 'DebtRatio1', 'NumOfHomeLoansMissed2x',\n",
    "       'NumOfAutoLoansMissed2x', 'form_field48', 'form_field49', 'DebtRatio1',\n",
    "       'ProductApplicatn']].fillna(0, inplace=True)"
   ]
  }
 ],
 "metadata": {
  "kernelspec": {
   "display_name": "Python 3",
   "language": "python",
   "name": "python3"
  },
  "language_info": {
   "codemirror_mode": {
    "name": "ipython",
    "version": 3
   },
   "file_extension": ".py",
   "mimetype": "text/x-python",
   "name": "python",
   "nbconvert_exporter": "python",
   "pygments_lexer": "ipython3",
   "version": "3.7.4"
  }
 },
 "nbformat": 4,
 "nbformat_minor": 2
}
