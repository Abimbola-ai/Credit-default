{
 "cells": [
  {
   "cell_type": "code",
   "execution_count": 1,
   "metadata": {},
   "outputs": [],
   "source": [
    "#Import necessary libraries\n",
    "import pandas as pd\n",
    "import seaborn as sns\n",
    "import matplotlib.pyplot as plt\n",
    "import numpy as np\n",
    "import itertools\n",
    "import matplotlib.gridspec as gridspec\n",
    "import warnings\n",
    "warnings.filterwarnings('ignore')\n",
    "\n",
    "%matplotlib inline"
   ]
  },
  {
   "cell_type": "code",
   "execution_count": 2,
   "metadata": {},
   "outputs": [],
   "source": [
    "test = pd.read_csv(\"test.csv\", sep=',',index_col=[0])\n",
    "train = pd.read_csv(\"train.csv\", sep = ',',index_col=[0])\n",
    "submission = pd.read_csv(\"submission.csv\", sep=',',index_col=[0])"
   ]
  },
  {
   "cell_type": "code",
   "execution_count": 3,
   "metadata": {},
   "outputs": [
    {
     "data": {
      "text/html": [
       "<div>\n",
       "<style scoped>\n",
       "    .dataframe tbody tr th:only-of-type {\n",
       "        vertical-align: middle;\n",
       "    }\n",
       "\n",
       "    .dataframe tbody tr th {\n",
       "        vertical-align: top;\n",
       "    }\n",
       "\n",
       "    .dataframe thead th {\n",
       "        text-align: right;\n",
       "    }\n",
       "</style>\n",
       "<table border=\"1\" class=\"dataframe\">\n",
       "  <thead>\n",
       "    <tr style=\"text-align: right;\">\n",
       "      <th></th>\n",
       "      <th>Applicant_ID</th>\n",
       "      <th>form_field1</th>\n",
       "      <th>form_field2</th>\n",
       "      <th>form_field3</th>\n",
       "      <th>form_field4</th>\n",
       "      <th>form_field5</th>\n",
       "      <th>form_field6</th>\n",
       "      <th>form_field7</th>\n",
       "      <th>form_field8</th>\n",
       "      <th>form_field9</th>\n",
       "      <th>...</th>\n",
       "      <th>form_field41</th>\n",
       "      <th>form_field42</th>\n",
       "      <th>form_field43</th>\n",
       "      <th>form_field44</th>\n",
       "      <th>form_field45</th>\n",
       "      <th>form_field46</th>\n",
       "      <th>form_field47</th>\n",
       "      <th>form_field48</th>\n",
       "      <th>form_field49</th>\n",
       "      <th>form_field50</th>\n",
       "    </tr>\n",
       "  </thead>\n",
       "  <tbody>\n",
       "    <tr>\n",
       "      <td>0</td>\n",
       "      <td>Apcnt_1000032</td>\n",
       "      <td>3236.0</td>\n",
       "      <td>0.34875</td>\n",
       "      <td>10.2006</td>\n",
       "      <td>0.0000</td>\n",
       "      <td>0.0</td>\n",
       "      <td>418564.0</td>\n",
       "      <td>418564.0</td>\n",
       "      <td>418564.0</td>\n",
       "      <td>540710.0</td>\n",
       "      <td>...</td>\n",
       "      <td>NaN</td>\n",
       "      <td>0.825000</td>\n",
       "      <td>1.01</td>\n",
       "      <td>0.800000</td>\n",
       "      <td>NaN</td>\n",
       "      <td>0.0</td>\n",
       "      <td>charge</td>\n",
       "      <td>NaN</td>\n",
       "      <td>0.000000</td>\n",
       "      <td>0.011221</td>\n",
       "    </tr>\n",
       "    <tr>\n",
       "      <td>1</td>\n",
       "      <td>Apcnt_1000048</td>\n",
       "      <td>3284.0</td>\n",
       "      <td>1.27360</td>\n",
       "      <td>2.9606</td>\n",
       "      <td>9.0198</td>\n",
       "      <td>0.0</td>\n",
       "      <td>0.0</td>\n",
       "      <td>9858816.0</td>\n",
       "      <td>49014.0</td>\n",
       "      <td>1510098.0</td>\n",
       "      <td>...</td>\n",
       "      <td>18.8415</td>\n",
       "      <td>0.507694</td>\n",
       "      <td>4.04</td>\n",
       "      <td>0.623248</td>\n",
       "      <td>1.0</td>\n",
       "      <td>0.0</td>\n",
       "      <td>lending</td>\n",
       "      <td>NaN</td>\n",
       "      <td>0.504974</td>\n",
       "      <td>0.043525</td>\n",
       "    </tr>\n",
       "    <tr>\n",
       "      <td>2</td>\n",
       "      <td>Apcnt_1000052</td>\n",
       "      <td>NaN</td>\n",
       "      <td>0.27505</td>\n",
       "      <td>0.0600</td>\n",
       "      <td>0.0000</td>\n",
       "      <td>0.0</td>\n",
       "      <td>NaN</td>\n",
       "      <td>NaN</td>\n",
       "      <td>NaN</td>\n",
       "      <td>NaN</td>\n",
       "      <td>...</td>\n",
       "      <td>NaN</td>\n",
       "      <td>NaN</td>\n",
       "      <td>0.00</td>\n",
       "      <td>NaN</td>\n",
       "      <td>NaN</td>\n",
       "      <td>NaN</td>\n",
       "      <td>charge</td>\n",
       "      <td>NaN</td>\n",
       "      <td>0.000000</td>\n",
       "      <td>NaN</td>\n",
       "    </tr>\n",
       "    <tr>\n",
       "      <td>3</td>\n",
       "      <td>Apcnt_1000076</td>\n",
       "      <td>3232.0</td>\n",
       "      <td>0.28505</td>\n",
       "      <td>2.8032</td>\n",
       "      <td>0.0000</td>\n",
       "      <td>0.0</td>\n",
       "      <td>0.0</td>\n",
       "      <td>473802.0</td>\n",
       "      <td>473802.0</td>\n",
       "      <td>1724437.0</td>\n",
       "      <td>...</td>\n",
       "      <td>NaN</td>\n",
       "      <td>0.916663</td>\n",
       "      <td>2.02</td>\n",
       "      <td>0.464224</td>\n",
       "      <td>NaN</td>\n",
       "      <td>NaN</td>\n",
       "      <td>charge</td>\n",
       "      <td>90.163742</td>\n",
       "      <td>0.788809</td>\n",
       "      <td>0.104029</td>\n",
       "    </tr>\n",
       "    <tr>\n",
       "      <td>4</td>\n",
       "      <td>Apcnt_1000080</td>\n",
       "      <td>3466.0</td>\n",
       "      <td>2.09545</td>\n",
       "      <td>0.8318</td>\n",
       "      <td>2.5182</td>\n",
       "      <td>0.0</td>\n",
       "      <td>19839.0</td>\n",
       "      <td>1150662.0</td>\n",
       "      <td>1150662.0</td>\n",
       "      <td>7860523.0</td>\n",
       "      <td>...</td>\n",
       "      <td>NaN</td>\n",
       "      <td>0.234047</td>\n",
       "      <td>23.23</td>\n",
       "      <td>0.726688</td>\n",
       "      <td>0.0</td>\n",
       "      <td>0.0</td>\n",
       "      <td>lending</td>\n",
       "      <td>1303.587148</td>\n",
       "      <td>1.637733</td>\n",
       "      <td>0.163124</td>\n",
       "    </tr>\n",
       "  </tbody>\n",
       "</table>\n",
       "<p>5 rows × 51 columns</p>\n",
       "</div>"
      ],
      "text/plain": [
       "    Applicant_ID  form_field1  form_field2  form_field3  form_field4  \\\n",
       "0  Apcnt_1000032       3236.0      0.34875      10.2006       0.0000   \n",
       "1  Apcnt_1000048       3284.0      1.27360       2.9606       9.0198   \n",
       "2  Apcnt_1000052          NaN      0.27505       0.0600       0.0000   \n",
       "3  Apcnt_1000076       3232.0      0.28505       2.8032       0.0000   \n",
       "4  Apcnt_1000080       3466.0      2.09545       0.8318       2.5182   \n",
       "\n",
       "   form_field5  form_field6  form_field7  form_field8  form_field9  ...  \\\n",
       "0          0.0     418564.0     418564.0     418564.0     540710.0  ...   \n",
       "1          0.0          0.0    9858816.0      49014.0    1510098.0  ...   \n",
       "2          0.0          NaN          NaN          NaN          NaN  ...   \n",
       "3          0.0          0.0     473802.0     473802.0    1724437.0  ...   \n",
       "4          0.0      19839.0    1150662.0    1150662.0    7860523.0  ...   \n",
       "\n",
       "   form_field41  form_field42  form_field43  form_field44  form_field45  \\\n",
       "0           NaN      0.825000          1.01      0.800000           NaN   \n",
       "1       18.8415      0.507694          4.04      0.623248           1.0   \n",
       "2           NaN           NaN          0.00           NaN           NaN   \n",
       "3           NaN      0.916663          2.02      0.464224           NaN   \n",
       "4           NaN      0.234047         23.23      0.726688           0.0   \n",
       "\n",
       "   form_field46  form_field47  form_field48  form_field49  form_field50  \n",
       "0           0.0        charge           NaN      0.000000      0.011221  \n",
       "1           0.0       lending           NaN      0.504974      0.043525  \n",
       "2           NaN        charge           NaN      0.000000           NaN  \n",
       "3           NaN        charge     90.163742      0.788809      0.104029  \n",
       "4           0.0       lending   1303.587148      1.637733      0.163124  \n",
       "\n",
       "[5 rows x 51 columns]"
      ]
     },
     "execution_count": 3,
     "metadata": {},
     "output_type": "execute_result"
    }
   ],
   "source": [
    "test.head()"
   ]
  },
  {
   "cell_type": "code",
   "execution_count": 4,
   "metadata": {},
   "outputs": [],
   "source": [
    "#train.dtypes"
   ]
  },
  {
   "cell_type": "code",
   "execution_count": 5,
   "metadata": {},
   "outputs": [],
   "source": [
    "test.to_csv('test.csv')\n",
    "train.to_csv('train.csv')\n",
    "submission.to_csv('submission.csv')"
   ]
  },
  {
   "cell_type": "code",
   "execution_count": 6,
   "metadata": {},
   "outputs": [],
   "source": [
    "#train.head().T"
   ]
  },
  {
   "cell_type": "code",
   "execution_count": 7,
   "metadata": {},
   "outputs": [],
   "source": [
    "# Convert ff47 and ff50 categorical variables to 0 and 1\n",
    "new_train = pd.get_dummies(train, columns=['form_field47','default_status'])"
   ]
  },
  {
   "cell_type": "code",
   "execution_count": 8,
   "metadata": {},
   "outputs": [],
   "source": [
    "# Drop duplicate columns\n",
    "train_drop = new_train.drop(['form_field47_lending','default_status_yes'], axis=1)"
   ]
  },
  {
   "cell_type": "code",
   "execution_count": 9,
   "metadata": {},
   "outputs": [],
   "source": [
    "# Rename the columns\n",
    "train_rename = train_drop.rename(columns = {\"form_field1\":'Creditworthiness_score',\"form_field2\":'CreditEnquiredRisk',\n",
    "                                            \"form_field3\":'LoanDefaultSeverityAll',\"form_field4\":'LoanDefaultSeverityAuto',\n",
    "                                            \"form_field5\":'LoanDefaultSeverityEdu',\"form_field6\":'MinCreditAvailAfterPayments',\n",
    "                                            \"form_field7\":'MaxCreditAvailActiveAll',\"form_field8\":'MaxCreditAvailAfterPayments',\"form_field9\":'SumOfAvailCreditMissed1Pay',\n",
    "                                            \"form_field10\":'TotalCreditAvailActiveAll',\"form_field11\":'PostDefaultDuesCollectedA500',\n",
    "                                            \"form_field12\":'TotalDueActive',\"form_field13\":'AllAnnualPaidPreviousYear',\n",
    "                                            \"form_field14\":'AnnualIncome',\"form_field15\":'PropertyMarketValue',\n",
    "                                            \"form_field16\":'NumActiveCCardsPaidOffFullCreditUsed',\"form_field17\":'NumActiveCCardsFullCreditUsed',\n",
    "                                            \"form_field18\":'NumActiveFullCLinesFullCreditUsed',\"form_field19\":'NumActiveCCards75pCreditUsed',\n",
    "                                            \"form_field20\":'NumActiveCLines75pCreditUsed',\"form_field21\":'%AverageUseOfCCardLoans',\n",
    "                                            \"form_field22\":'%AverageUseOfCLines2Yrs',\"form_field23\":'%AverageUseOfCCards1Yr',\n",
    "                                            \"form_field24\":'%AverageUseOfCLines6MoMiss1',\"form_field25\":'AverageTenureofActiveRevolveCardsinDays',\n",
    "                                            \"form_field26\":'TenureofOldestCCardsinDays',\"form_field27\":'TenureofOldestRevolvingCCardsinDays',\n",
    "                                            \"form_field28\":'NumOfDaysonlastmissedCLine',\"form_field29\":'TenureofOldestCLineinDays',\n",
    "                                            \"form_field30\":'MaxTenureonAutoLoansinDays',\"form_field31\":'MaxTenureonEduLoansinDays',\n",
    "                                            \"form_field32\":'SumTenureonActiveCCardsinMonth',\"form_field33\":'SumTenureonActiveCLinesinMonth',\n",
    "                                            \"form_field34\":'NumOfCLineslast6MoMiss1', \"form_field35\":'NumOfRevolveCCardslast2YrMiss1',\n",
    "                                            \"form_field36\":'NumActiveCLines',\"form_field37\":'NumCCardsActiveTenure2Yrs',\n",
    "                                            \"form_field38\":'ActivatedCLinesinlast2Yrs',\"form_field39\":'NumActiveCLinesDeliquent',\n",
    "                                            \"form_field40\":'%UseCLinesonEduLoan',\"form_field41\":'%UseCLinesonAutoLoan',\n",
    "                                            \"form_field42\":'FinanceStressIndex',\"form_field43\":'NumberCLinesPaidHighRisk',\n",
    "                                            \"form_field44\":'DebtRatio1Max',\"form_field45\":'NumOfHomeLoansMissed2x',\n",
    "                                            \"form_field46\":'NumOfAutoLoansMissed2x',\"form_field50\":'DebtRatio1Min',\n",
    "                                            'form_field47_charge': 'ProductApplicatn', 'default_status_no': 'default_status'}, inplace = False)"
   ]
  },
  {
   "cell_type": "code",
   "execution_count": 10,
   "metadata": {},
   "outputs": [
    {
     "data": {
      "text/plain": [
       "56000"
      ]
     },
     "execution_count": 10,
     "metadata": {},
     "output_type": "execute_result"
    }
   ],
   "source": [
    "len(train_rename)"
   ]
  },
  {
   "cell_type": "code",
   "execution_count": 11,
   "metadata": {},
   "outputs": [],
   "source": [
    "#train_rename.isnull().sum()"
   ]
  },
  {
   "cell_type": "code",
   "execution_count": 12,
   "metadata": {},
   "outputs": [],
   "source": [
    "#train_1.isnull().sum()"
   ]
  },
  {
   "cell_type": "code",
   "execution_count": 13,
   "metadata": {},
   "outputs": [],
   "source": [
    "# Begin cleaning process\n",
    "#Fill with mean\n",
    "#train_1['Creditworthiness_score'] = train_1['Creditworthiness_score'].fillna(train_1['Creditworthiness_score'].mean())\n",
    "#train_1 = train_1.fillna(train_1.mean())\n"
   ]
  },
  {
   "cell_type": "code",
   "execution_count": 14,
   "metadata": {},
   "outputs": [],
   "source": [
    "#train_1.isnull().sum()"
   ]
  },
  {
   "cell_type": "code",
   "execution_count": 15,
   "metadata": {},
   "outputs": [],
   "source": [
    "#train_final = train_rename.dropna()"
   ]
  },
  {
   "cell_type": "code",
   "execution_count": 16,
   "metadata": {},
   "outputs": [],
   "source": [
    "#Checking for correlation between features\n",
    "#fig, ax = plt.subplots(figsize=(20,10))\n",
    "#corr = train_1[train_1.columns].corr()\n",
    "#sns.heatmap(corr, annot=True, linewidths=0.5)"
   ]
  },
  {
   "cell_type": "code",
   "execution_count": 17,
   "metadata": {},
   "outputs": [],
   "source": [
    "#train_1.fillna(0, inplace=True)"
   ]
  },
  {
   "cell_type": "code",
   "execution_count": 18,
   "metadata": {},
   "outputs": [
    {
     "data": {
      "text/plain": [
       "(56000, 52)"
      ]
     },
     "execution_count": 18,
     "metadata": {},
     "output_type": "execute_result"
    }
   ],
   "source": [
    "train_rename.shape"
   ]
  },
  {
   "cell_type": "code",
   "execution_count": 19,
   "metadata": {},
   "outputs": [],
   "source": [
    "#train_rename.tail(20)"
   ]
  },
  {
   "cell_type": "code",
   "execution_count": 20,
   "metadata": {},
   "outputs": [],
   "source": [
    "#train_rename['Creditworthiness_score'] = pd.to_numeric(train_rename['Creditworthiness_score'], errors='coerce')"
   ]
  },
  {
   "cell_type": "code",
   "execution_count": 21,
   "metadata": {},
   "outputs": [],
   "source": [
    "#train_rename.isnull().sum() #Investigate each variable to determine what to do with the null values"
   ]
  },
  {
   "cell_type": "code",
   "execution_count": 22,
   "metadata": {},
   "outputs": [],
   "source": [
    "#train_rename.isnull()==True"
   ]
  },
  {
   "cell_type": "code",
   "execution_count": 23,
   "metadata": {},
   "outputs": [],
   "source": [
    "#Exploratory data analysis\n",
    "#train_rename.describe().T"
   ]
  },
  {
   "cell_type": "code",
   "execution_count": 24,
   "metadata": {},
   "outputs": [],
   "source": [
    "#train_rename.head(20)"
   ]
  },
  {
   "cell_type": "code",
   "execution_count": 25,
   "metadata": {},
   "outputs": [
    {
     "data": {
      "text/plain": [
       "1    0.755089\n",
       "0    0.244911\n",
       "Name: default_status, dtype: float64"
      ]
     },
     "execution_count": 25,
     "metadata": {},
     "output_type": "execute_result"
    }
   ],
   "source": [
    "train_rename['default_status'].value_counts(normalize=True)"
   ]
  },
  {
   "cell_type": "code",
   "execution_count": 26,
   "metadata": {},
   "outputs": [],
   "source": [
    "#train_rename.info()"
   ]
  },
  {
   "cell_type": "code",
   "execution_count": 27,
   "metadata": {},
   "outputs": [],
   "source": [
    "#Fill with mode\n",
    "#cols = ['LoanDefaultSeverityAll','LoanDefaultSeverityAuto', 'LoanDefaultSeverityEdu']\n",
    "#train_rename['LoanDefaultSeverityAll'] = train_rename['LoanDefaultSeverityAll'].fillna(train_rename['LoanDefaultSeverityAll'].mode()[0])\n",
    "#train_rename['LoanDefaultSeverityAuto'].fillna(train_rename['LoanDefaultSeverityAuto'].mode()[0])\n",
    "#train_rename['LoanDefaultSeverityEdu'].fillna(train_rename['LoanDefaultSeverityEdu'].mode()[0])\n",
    "\n",
    "#Fill with zero\n",
    "#train_rename[cols]=train_rename.filter(cols).fillna(mode.iloc[0])\n"
   ]
  },
  {
   "cell_type": "code",
   "execution_count": 28,
   "metadata": {},
   "outputs": [],
   "source": [
    "#train_feature = train_1.drop(['Applicant_ID'], axis=1)"
   ]
  },
  {
   "cell_type": "code",
   "execution_count": 29,
   "metadata": {},
   "outputs": [],
   "source": [
    "#len(train_feature)"
   ]
  },
  {
   "cell_type": "markdown",
   "metadata": {},
   "source": [
    "## Model"
   ]
  },
  {
   "cell_type": "code",
   "execution_count": 35,
   "metadata": {},
   "outputs": [],
   "source": [
    "from sklearn.preprocessing import StandardScaler, MinMaxScaler\n",
    "from sklearn.model_selection import train_test_split\n",
    "from sklearn.metrics import accuracy_score, precision_score, recall_score, confusion_matrix, precision_recall_curve, f1_score\n",
    "from sklearn.decomposition import PCA\n",
    "from sklearn import linear_model\n",
    "from sklearn.pipeline import Pipeline\n",
    "from sklearn.preprocessing import RobustScaler\n",
    "from sklearn.metrics import roc_curve, auc, log_loss\n",
    "from sklearn.feature_selection import mutual_info_classif\n",
    "from sklearn.preprocessing import StandardScaler, RobustScaler, MinMaxScaler\n",
    "from scipy.stats import mode\n",
    "from sklearn.metrics import silhouette_score\n",
    "from itertools import permutations\n",
    "from tqdm import tqdm\n",
    "#import swifter\n",
    "from itertools import combinations\n",
    "from sklearn.model_selection import train_test_split, StratifiedShuffleSplit, cross_val_score, KFold, GridSearchCV, StratifiedKFold\n",
    "from sklearn.metrics import balanced_accuracy_score, auc, mean_squared_error, roc_curve, confusion_matrix, precision_score, recall_score, f1_score,\\\n",
    "log_loss, roc_auc_score\n",
    "from sklearn.impute import SimpleImputer\n",
    "#from imblearn.over_sampling import SMOTE\n",
    "#from imblearn.pipeline import Pipeline"
   ]
  },
  {
   "cell_type": "code",
   "execution_count": 36,
   "metadata": {},
   "outputs": [],
   "source": [
    "#Values for predictor, dropping off the target\n",
    "X = train_rename.drop(['Applicant_ID','default_status'], axis=1)\n",
    "\n",
    "#Values for target\n",
    "y = train_rename['default_status'].values # y is output (or dependent) variable\n",
    "\n",
    "# Standardize the data\n",
    "#X = RobustScaler().fit_transform(X)"
   ]
  },
  {
   "cell_type": "code",
   "execution_count": 37,
   "metadata": {},
   "outputs": [
    {
     "name": "stdout",
     "output_type": "stream",
     "text": [
      "Training until validation scores don't improve for 500 rounds\n",
      "[100]\tvalid_0's auc: 0.835921\tvalid_0's binary_logloss: 0.445909\n",
      "[200]\tvalid_0's auc: 0.844506\tvalid_0's binary_logloss: 0.414395\n",
      "[300]\tvalid_0's auc: 0.850111\tvalid_0's binary_logloss: 0.400883\n",
      "[400]\tvalid_0's auc: 0.855107\tvalid_0's binary_logloss: 0.392906\n",
      "[500]\tvalid_0's auc: 0.859565\tvalid_0's binary_logloss: 0.387098\n",
      "[600]\tvalid_0's auc: 0.863529\tvalid_0's binary_logloss: 0.382375\n",
      "[700]\tvalid_0's auc: 0.867105\tvalid_0's binary_logloss: 0.37827\n",
      "[800]\tvalid_0's auc: 0.870252\tvalid_0's binary_logloss: 0.374719\n",
      "[900]\tvalid_0's auc: 0.873304\tvalid_0's binary_logloss: 0.371346\n",
      "[1000]\tvalid_0's auc: 0.876154\tvalid_0's binary_logloss: 0.368182\n",
      "[1100]\tvalid_0's auc: 0.878898\tvalid_0's binary_logloss: 0.365137\n",
      "[1200]\tvalid_0's auc: 0.881541\tvalid_0's binary_logloss: 0.362236\n",
      "[1300]\tvalid_0's auc: 0.884037\tvalid_0's binary_logloss: 0.35947\n",
      "[1400]\tvalid_0's auc: 0.886457\tvalid_0's binary_logloss: 0.356743\n",
      "[1500]\tvalid_0's auc: 0.888819\tvalid_0's binary_logloss: 0.354091\n",
      "Did not meet early stopping. Best iteration is:\n",
      "[1500]\tvalid_0's auc: 0.888819\tvalid_0's binary_logloss: 0.354091\n",
      "auc train 0.8888188067783535\n",
      "Mean auc test:  nan\n"
     ]
    }
   ],
   "source": [
    "#Cross-Validation routine\n",
    "\n",
    "from lightgbm import LGBMClassifier\n",
    "\n",
    "from xgboost import XGBClassifier\n",
    "\n",
    "rand = 40\n",
    "\n",
    "fold = StratifiedKFold(n_splits= 5, shuffle= True, random_state= rand)\n",
    "\n",
    "i = 1\n",
    "\n",
    "err = []\n",
    "\n",
    "#Standardize\n",
    "#scaler = StandardScaler()\n",
    "\n",
    "#for train_index, test_index in fold.split(train, target):\n",
    "\n",
    "    #print('fold n°: ', i)\n",
    "\n",
    "    #x_data, x_val = train.iloc[train_index], train.iloc[test_index]\n",
    "\n",
    "    #y_data, y_val = target.iloc[train_index], target.iloc[test_index]\n",
    "    \n",
    "    \n",
    "\n",
    "    #x_data = x_data.drop(['default_status','combiner', 'Applicant_ID'], axis = 1)\n",
    "    \n",
    "    #x_val = x_val.drop(['default_status','combiner', 'Applicant_ID'], axis = 1)\n",
    "    \n",
    "    \n",
    "#     x_data['ProductType'].fillna(0.5, inplace = True)\n",
    "    \n",
    "#     x_val['ProductType'].fillna(0.5, inplace = True)\n",
    "    \n",
    "lgb_model = LGBMClassifier(n_estimators = 1500, learning_rate = 0.01,  reg_lambda = 10, random_state = rand)\n",
    "    \n",
    "#     'subsample': 0.4, 'reg_alpha': 5, 'n_estimators': 1200, 'min_child_weight': 1, \\\n",
    "#                     'max_depth': 6, 'learning_rate': 0.05, 'gamma': 0, 'colsample_bytree': 0.8}\n",
    "\n",
    "     \n",
    "        \n",
    "lgb_model.fit(X, y.ravel(), eval_set= [(X, y.ravel())], \\\n",
    "              early_stopping_rounds= 500,\\\n",
    "              verbose= 100, eval_metric = ['auc'])\n",
    "        \n",
    "y_train_pred = lgb_model.predict_proba(X)[:,1]\n",
    "\n",
    "    #y_test_pred = lgb_model.predict_proba(x_val)[:,1]\n",
    "    \n",
    "    \n",
    "    \n",
    "        \n",
    "print('auc train', roc_auc_score(y, y_train_pred))\n",
    "    #print('auc test',  roc_auc_score(y_val, y_test_pred))\n",
    "    \n",
    "    \n",
    "    \n",
    "#err.append(roc_auc_score(y, y_test_pred))\n",
    "\n",
    "\n",
    "i = i + 1\n",
    "print('Mean auc test: ', np.mean(err)) "
   ]
  },
  {
   "cell_type": "code",
   "execution_count": 38,
   "metadata": {},
   "outputs": [],
   "source": [
    "#conda install lightgbm"
   ]
  },
  {
   "cell_type": "markdown",
   "metadata": {},
   "source": [
    "## Test Data"
   ]
  },
  {
   "cell_type": "code",
   "execution_count": 39,
   "metadata": {},
   "outputs": [],
   "source": [
    "# Convert ff47 and ff50 categorical variables to 0 and 1\n",
    "new_test = pd.get_dummies(test, columns=['form_field47'])"
   ]
  },
  {
   "cell_type": "code",
   "execution_count": 40,
   "metadata": {},
   "outputs": [],
   "source": [
    "test_rename = new_test.rename(columns = {\"form_field1\":'Creditworthiness_score',\"form_field2\":'CreditEnquiredRisk',\n",
    "                                            \"form_field3\":'LoanDefaultSeverityAll',\"form_field4\":'LoanDefaultSeverityAuto',\n",
    "                                            \"form_field5\":'LoanDefaultSeverityEdu',\"form_field6\":'MinCreditAvailAfterPayments',\n",
    "                                            \"form_field7\":'MaxCreditAvailActiveAll',\"form_field8\":'MaxCreditAvailAfterPayments',\"form_field9\":'SumOfAvailCreditMissed1Pay',\n",
    "                                            \"form_field10\":'TotalCreditAvailActiveAll',\"form_field11\":'PostDefaultDuesCollectedA500',\n",
    "                                            \"form_field12\":'TotalDueActive',\"form_field13\":'AllAnnualPaidPreviousYear',\n",
    "                                            \"form_field14\":'AnnualIncome',\"form_field15\":'PropertyMarketValue',\n",
    "                                            \"form_field16\":'NumActiveCCardsPaidOffFullCreditUsed',\"form_field17\":'NumActiveCCardsFullCreditUsed',\n",
    "                                            \"form_field18\":'NumActiveFullCLinesFullCreditUsed',\"form_field19\":'NumActiveCCards75pCreditUsed',\n",
    "                                            \"form_field20\":'NumActiveCLines75pCreditUsed',\"form_field21\":'%AverageUseOfCCardLoans',\n",
    "                                            \"form_field22\":'%AverageUseOfCLines2Yrs',\"form_field23\":'%AverageUseOfCCards1Yr',\n",
    "                                            \"form_field24\":'%AverageUseOfCLines6MoMiss1',\"form_field25\":'AverageTenureofActiveRevolveCardsinDays',\n",
    "                                            \"form_field26\":'TenureofOldestCCardsinDays',\"form_field27\":'TenureofOldestRevolvingCCardsinDays',\n",
    "                                            \"form_field28\":'NumOfDaysonlastmissedCLine',\"form_field29\":'TenureofOldestCLineinDays',\n",
    "                                            \"form_field30\":'MaxTenureonAutoLoansinDays',\"form_field31\":'MaxTenureonEduLoansinDays',\n",
    "                                            \"form_field32\":'SumTenureonActiveCCardsinMonth',\"form_field33\":'SumTenureonActiveCLinesinMonth',\n",
    "                                            \"form_field34\":'NumOfCLineslast6MoMiss1', \"form_field35\":'NumOfRevolveCCardslast2YrMiss1',\n",
    "                                            \"form_field36\":'NumActiveCLines',\"form_field37\":'NumCCardsActiveTenure2Yrs',\n",
    "                                            \"form_field38\":'ActivatedCLinesinlast2Yrs',\"form_field39\":'NumActiveCLinesDeliquent',\n",
    "                                            \"form_field40\":'%UseCLinesonEduLoan',\"form_field41\":'%UseCLinesonAutoLoan',\n",
    "                                            \"form_field42\":'FinanceStressIndex',\"form_field43\":'NumberCLinesPaidHighRisk',\n",
    "                                            \"form_field44\":'DebtRatio1Max',\"form_field45\":'NumOfHomeLoansMissed2x',\n",
    "                                            \"form_field46\":'NumOfAutoLoansMissed2x',\"form_field50\":'DebtRatio1Min',\n",
    "                                            'form_field47_charge': 'ProductApplicatn', 'default_status_no': 'default_status'}, inplace = False)"
   ]
  },
  {
   "cell_type": "code",
   "execution_count": 41,
   "metadata": {},
   "outputs": [
    {
     "data": {
      "text/html": [
       "<div>\n",
       "<style scoped>\n",
       "    .dataframe tbody tr th:only-of-type {\n",
       "        vertical-align: middle;\n",
       "    }\n",
       "\n",
       "    .dataframe tbody tr th {\n",
       "        vertical-align: top;\n",
       "    }\n",
       "\n",
       "    .dataframe thead th {\n",
       "        text-align: right;\n",
       "    }\n",
       "</style>\n",
       "<table border=\"1\" class=\"dataframe\">\n",
       "  <thead>\n",
       "    <tr style=\"text-align: right;\">\n",
       "      <th></th>\n",
       "      <th>Applicant_ID</th>\n",
       "      <th>Creditworthiness_score</th>\n",
       "      <th>CreditEnquiredRisk</th>\n",
       "      <th>LoanDefaultSeverityAll</th>\n",
       "      <th>LoanDefaultSeverityAuto</th>\n",
       "      <th>LoanDefaultSeverityEdu</th>\n",
       "      <th>MinCreditAvailAfterPayments</th>\n",
       "      <th>MaxCreditAvailActiveAll</th>\n",
       "      <th>MaxCreditAvailAfterPayments</th>\n",
       "      <th>SumOfAvailCreditMissed1Pay</th>\n",
       "      <th>...</th>\n",
       "      <th>FinanceStressIndex</th>\n",
       "      <th>NumberCLinesPaidHighRisk</th>\n",
       "      <th>DebtRatio1Max</th>\n",
       "      <th>NumOfHomeLoansMissed2x</th>\n",
       "      <th>NumOfAutoLoansMissed2x</th>\n",
       "      <th>form_field48</th>\n",
       "      <th>form_field49</th>\n",
       "      <th>DebtRatio1Min</th>\n",
       "      <th>ProductApplicatn</th>\n",
       "      <th>form_field47_lending</th>\n",
       "    </tr>\n",
       "  </thead>\n",
       "  <tbody>\n",
       "    <tr>\n",
       "      <td>0</td>\n",
       "      <td>Apcnt_1000032</td>\n",
       "      <td>3236.0</td>\n",
       "      <td>0.34875</td>\n",
       "      <td>10.2006</td>\n",
       "      <td>0.0000</td>\n",
       "      <td>0.0</td>\n",
       "      <td>418564.0</td>\n",
       "      <td>418564.0</td>\n",
       "      <td>418564.0</td>\n",
       "      <td>540710.0</td>\n",
       "      <td>...</td>\n",
       "      <td>0.825000</td>\n",
       "      <td>1.01</td>\n",
       "      <td>0.800000</td>\n",
       "      <td>NaN</td>\n",
       "      <td>0.0</td>\n",
       "      <td>NaN</td>\n",
       "      <td>0.000000</td>\n",
       "      <td>0.011221</td>\n",
       "      <td>1</td>\n",
       "      <td>0</td>\n",
       "    </tr>\n",
       "    <tr>\n",
       "      <td>1</td>\n",
       "      <td>Apcnt_1000048</td>\n",
       "      <td>3284.0</td>\n",
       "      <td>1.27360</td>\n",
       "      <td>2.9606</td>\n",
       "      <td>9.0198</td>\n",
       "      <td>0.0</td>\n",
       "      <td>0.0</td>\n",
       "      <td>9858816.0</td>\n",
       "      <td>49014.0</td>\n",
       "      <td>1510098.0</td>\n",
       "      <td>...</td>\n",
       "      <td>0.507694</td>\n",
       "      <td>4.04</td>\n",
       "      <td>0.623248</td>\n",
       "      <td>1.0</td>\n",
       "      <td>0.0</td>\n",
       "      <td>NaN</td>\n",
       "      <td>0.504974</td>\n",
       "      <td>0.043525</td>\n",
       "      <td>0</td>\n",
       "      <td>1</td>\n",
       "    </tr>\n",
       "    <tr>\n",
       "      <td>2</td>\n",
       "      <td>Apcnt_1000052</td>\n",
       "      <td>NaN</td>\n",
       "      <td>0.27505</td>\n",
       "      <td>0.0600</td>\n",
       "      <td>0.0000</td>\n",
       "      <td>0.0</td>\n",
       "      <td>NaN</td>\n",
       "      <td>NaN</td>\n",
       "      <td>NaN</td>\n",
       "      <td>NaN</td>\n",
       "      <td>...</td>\n",
       "      <td>NaN</td>\n",
       "      <td>0.00</td>\n",
       "      <td>NaN</td>\n",
       "      <td>NaN</td>\n",
       "      <td>NaN</td>\n",
       "      <td>NaN</td>\n",
       "      <td>0.000000</td>\n",
       "      <td>NaN</td>\n",
       "      <td>1</td>\n",
       "      <td>0</td>\n",
       "    </tr>\n",
       "    <tr>\n",
       "      <td>3</td>\n",
       "      <td>Apcnt_1000076</td>\n",
       "      <td>3232.0</td>\n",
       "      <td>0.28505</td>\n",
       "      <td>2.8032</td>\n",
       "      <td>0.0000</td>\n",
       "      <td>0.0</td>\n",
       "      <td>0.0</td>\n",
       "      <td>473802.0</td>\n",
       "      <td>473802.0</td>\n",
       "      <td>1724437.0</td>\n",
       "      <td>...</td>\n",
       "      <td>0.916663</td>\n",
       "      <td>2.02</td>\n",
       "      <td>0.464224</td>\n",
       "      <td>NaN</td>\n",
       "      <td>NaN</td>\n",
       "      <td>90.163742</td>\n",
       "      <td>0.788809</td>\n",
       "      <td>0.104029</td>\n",
       "      <td>1</td>\n",
       "      <td>0</td>\n",
       "    </tr>\n",
       "    <tr>\n",
       "      <td>4</td>\n",
       "      <td>Apcnt_1000080</td>\n",
       "      <td>3466.0</td>\n",
       "      <td>2.09545</td>\n",
       "      <td>0.8318</td>\n",
       "      <td>2.5182</td>\n",
       "      <td>0.0</td>\n",
       "      <td>19839.0</td>\n",
       "      <td>1150662.0</td>\n",
       "      <td>1150662.0</td>\n",
       "      <td>7860523.0</td>\n",
       "      <td>...</td>\n",
       "      <td>0.234047</td>\n",
       "      <td>23.23</td>\n",
       "      <td>0.726688</td>\n",
       "      <td>0.0</td>\n",
       "      <td>0.0</td>\n",
       "      <td>1303.587148</td>\n",
       "      <td>1.637733</td>\n",
       "      <td>0.163124</td>\n",
       "      <td>0</td>\n",
       "      <td>1</td>\n",
       "    </tr>\n",
       "  </tbody>\n",
       "</table>\n",
       "<p>5 rows × 52 columns</p>\n",
       "</div>"
      ],
      "text/plain": [
       "    Applicant_ID  Creditworthiness_score  CreditEnquiredRisk  \\\n",
       "0  Apcnt_1000032                  3236.0             0.34875   \n",
       "1  Apcnt_1000048                  3284.0             1.27360   \n",
       "2  Apcnt_1000052                     NaN             0.27505   \n",
       "3  Apcnt_1000076                  3232.0             0.28505   \n",
       "4  Apcnt_1000080                  3466.0             2.09545   \n",
       "\n",
       "   LoanDefaultSeverityAll  LoanDefaultSeverityAuto  LoanDefaultSeverityEdu  \\\n",
       "0                 10.2006                   0.0000                     0.0   \n",
       "1                  2.9606                   9.0198                     0.0   \n",
       "2                  0.0600                   0.0000                     0.0   \n",
       "3                  2.8032                   0.0000                     0.0   \n",
       "4                  0.8318                   2.5182                     0.0   \n",
       "\n",
       "   MinCreditAvailAfterPayments  MaxCreditAvailActiveAll  \\\n",
       "0                     418564.0                 418564.0   \n",
       "1                          0.0                9858816.0   \n",
       "2                          NaN                      NaN   \n",
       "3                          0.0                 473802.0   \n",
       "4                      19839.0                1150662.0   \n",
       "\n",
       "   MaxCreditAvailAfterPayments  SumOfAvailCreditMissed1Pay  ...  \\\n",
       "0                     418564.0                    540710.0  ...   \n",
       "1                      49014.0                   1510098.0  ...   \n",
       "2                          NaN                         NaN  ...   \n",
       "3                     473802.0                   1724437.0  ...   \n",
       "4                    1150662.0                   7860523.0  ...   \n",
       "\n",
       "   FinanceStressIndex  NumberCLinesPaidHighRisk  DebtRatio1Max  \\\n",
       "0            0.825000                      1.01       0.800000   \n",
       "1            0.507694                      4.04       0.623248   \n",
       "2                 NaN                      0.00            NaN   \n",
       "3            0.916663                      2.02       0.464224   \n",
       "4            0.234047                     23.23       0.726688   \n",
       "\n",
       "   NumOfHomeLoansMissed2x  NumOfAutoLoansMissed2x  form_field48  form_field49  \\\n",
       "0                     NaN                     0.0           NaN      0.000000   \n",
       "1                     1.0                     0.0           NaN      0.504974   \n",
       "2                     NaN                     NaN           NaN      0.000000   \n",
       "3                     NaN                     NaN     90.163742      0.788809   \n",
       "4                     0.0                     0.0   1303.587148      1.637733   \n",
       "\n",
       "   DebtRatio1Min  ProductApplicatn  form_field47_lending  \n",
       "0       0.011221                 1                     0  \n",
       "1       0.043525                 0                     1  \n",
       "2            NaN                 1                     0  \n",
       "3       0.104029                 1                     0  \n",
       "4       0.163124                 0                     1  \n",
       "\n",
       "[5 rows x 52 columns]"
      ]
     },
     "execution_count": 41,
     "metadata": {},
     "output_type": "execute_result"
    }
   ],
   "source": [
    "test_rename.head()"
   ]
  },
  {
   "cell_type": "code",
   "execution_count": 42,
   "metadata": {},
   "outputs": [],
   "source": [
    "# Drop duplicate columns\n",
    "test_drop = test_rename.drop(['form_field47_lending'], axis=1)"
   ]
  },
  {
   "cell_type": "code",
   "execution_count": 43,
   "metadata": {},
   "outputs": [
    {
     "data": {
      "text/plain": [
       "(56000, 52)"
      ]
     },
     "execution_count": 43,
     "metadata": {},
     "output_type": "execute_result"
    }
   ],
   "source": [
    "train_rename.shape"
   ]
  },
  {
   "cell_type": "code",
   "execution_count": 44,
   "metadata": {},
   "outputs": [
    {
     "data": {
      "text/plain": [
       "(24000, 51)"
      ]
     },
     "execution_count": 44,
     "metadata": {},
     "output_type": "execute_result"
    }
   ],
   "source": [
    "test_drop.shape"
   ]
  },
  {
   "cell_type": "code",
   "execution_count": 45,
   "metadata": {},
   "outputs": [],
   "source": [
    "#test_rename = test_rename[col_test]"
   ]
  },
  {
   "cell_type": "code",
   "execution_count": 94,
   "metadata": {},
   "outputs": [],
   "source": [
    "#lgb_model.fit(train_rename.drop(['default_status', 'Applicant_ID'], axis = 1), train_rename['default_status'].ravel())"
   ]
  },
  {
   "cell_type": "code",
   "execution_count": 95,
   "metadata": {},
   "outputs": [],
   "source": [
    "y_pred  = lgb_model.predict_proba(test_drop.drop(['Applicant_ID'],axis = 1))[:,1]"
   ]
  },
  {
   "cell_type": "code",
   "execution_count": 96,
   "metadata": {},
   "outputs": [],
   "source": [
    "#test_1.columns"
   ]
  },
  {
   "cell_type": "code",
   "execution_count": 97,
   "metadata": {},
   "outputs": [],
   "source": [
    "#Fill with mean\n",
    "#test_1['Creditworthiness_score'] = test_1['Creditworthiness_score'].fillna(test_1['Creditworthiness_score'].mean())\n",
    "#test_final = test_1.fillna(test_1.mean())"
   ]
  },
  {
   "cell_type": "code",
   "execution_count": 98,
   "metadata": {},
   "outputs": [],
   "source": [
    "#test_1.shape"
   ]
  },
  {
   "cell_type": "code",
   "execution_count": 99,
   "metadata": {},
   "outputs": [],
   "source": [
    "#test_final = test_rename"
   ]
  },
  {
   "cell_type": "code",
   "execution_count": 100,
   "metadata": {},
   "outputs": [],
   "source": [
    "#test_1.fillna(0, inplace=True)"
   ]
  },
  {
   "cell_type": "code",
   "execution_count": 101,
   "metadata": {},
   "outputs": [],
   "source": [
    "#test_final.head()"
   ]
  },
  {
   "cell_type": "code",
   "execution_count": 102,
   "metadata": {},
   "outputs": [],
   "source": [
    "#test_final = test_rename[new_columns]"
   ]
  },
  {
   "cell_type": "code",
   "execution_count": 103,
   "metadata": {},
   "outputs": [],
   "source": [
    "#test_final.columns"
   ]
  },
  {
   "cell_type": "code",
   "execution_count": 104,
   "metadata": {},
   "outputs": [],
   "source": [
    "#test_final2 = test_final.drop(['DebtRatio1'], axis=1)"
   ]
  },
  {
   "cell_type": "code",
   "execution_count": 105,
   "metadata": {},
   "outputs": [],
   "source": [
    "#test_final.columns"
   ]
  },
  {
   "cell_type": "code",
   "execution_count": 106,
   "metadata": {},
   "outputs": [],
   "source": [
    "#test.shape"
   ]
  },
  {
   "cell_type": "code",
   "execution_count": 107,
   "metadata": {},
   "outputs": [],
   "source": [
    "#test_final.shape"
   ]
  },
  {
   "cell_type": "code",
   "execution_count": 108,
   "metadata": {},
   "outputs": [],
   "source": [
    "#train_feature.shape"
   ]
  },
  {
   "cell_type": "code",
   "execution_count": 109,
   "metadata": {},
   "outputs": [],
   "source": [
    "#test_2 = RobustScaler().fit_transform(test_final)"
   ]
  },
  {
   "cell_type": "code",
   "execution_count": 110,
   "metadata": {},
   "outputs": [],
   "source": [
    "submissions = pd.DataFrame()\n",
    "submissions['Applicant_ID'] = test_drop['Applicant_ID']"
   ]
  },
  {
   "cell_type": "code",
   "execution_count": 111,
   "metadata": {},
   "outputs": [],
   "source": [
    "# predict with probability of 80 % and above\n",
    "#y_pred_proba = pipeline.predict(test_2)\n",
    "#y_pred_proba = logistic_regression.predict_proba(test_final2)[:,1]\n",
    "#y_pred = (y_pred_proba >= 0.2).astype('int')\n",
    "#CM = confusion_matrix(y_pred=y_pred_test, y_true=y_test)\n",
    "#print(\"Recall: \", 100*recall_score(y_pred=y_pred_test, y_true=y_test))\n",
    "#print(\"Precision: \", 100*precision_score(y_pred=y_pred_test, y_true=y_test))\n",
    "#CMatrix(CM)\n",
    "#submissions['probability (%)'] = y_pred_proba*100"
   ]
  },
  {
   "cell_type": "code",
   "execution_count": 112,
   "metadata": {},
   "outputs": [
    {
     "data": {
      "text/plain": [
       "array([0.66996289, 0.63557723, 0.61536595, ..., 0.77794512, 0.50900586,\n",
       "       0.81662142])"
      ]
     },
     "execution_count": 112,
     "metadata": {},
     "output_type": "execute_result"
    }
   ],
   "source": [
    "y_pred"
   ]
  },
  {
   "cell_type": "code",
   "execution_count": 113,
   "metadata": {},
   "outputs": [
    {
     "data": {
      "text/plain": [
       "24000"
      ]
     },
     "execution_count": 113,
     "metadata": {},
     "output_type": "execute_result"
    }
   ],
   "source": [
    "len(y_pred)"
   ]
  },
  {
   "cell_type": "code",
   "execution_count": 114,
   "metadata": {},
   "outputs": [],
   "source": [
    "submissions['default_status'] = y_pred"
   ]
  },
  {
   "cell_type": "code",
   "execution_count": 115,
   "metadata": {},
   "outputs": [
    {
     "data": {
      "text/html": [
       "<div>\n",
       "<style scoped>\n",
       "    .dataframe tbody tr th:only-of-type {\n",
       "        vertical-align: middle;\n",
       "    }\n",
       "\n",
       "    .dataframe tbody tr th {\n",
       "        vertical-align: top;\n",
       "    }\n",
       "\n",
       "    .dataframe thead th {\n",
       "        text-align: right;\n",
       "    }\n",
       "</style>\n",
       "<table border=\"1\" class=\"dataframe\">\n",
       "  <thead>\n",
       "    <tr style=\"text-align: right;\">\n",
       "      <th></th>\n",
       "      <th>Applicant_ID</th>\n",
       "      <th>default_status</th>\n",
       "    </tr>\n",
       "  </thead>\n",
       "  <tbody>\n",
       "    <tr>\n",
       "      <td>0</td>\n",
       "      <td>Apcnt_1000032</td>\n",
       "      <td>0.669963</td>\n",
       "    </tr>\n",
       "    <tr>\n",
       "      <td>1</td>\n",
       "      <td>Apcnt_1000048</td>\n",
       "      <td>0.635577</td>\n",
       "    </tr>\n",
       "    <tr>\n",
       "      <td>2</td>\n",
       "      <td>Apcnt_1000052</td>\n",
       "      <td>0.615366</td>\n",
       "    </tr>\n",
       "    <tr>\n",
       "      <td>3</td>\n",
       "      <td>Apcnt_1000076</td>\n",
       "      <td>0.246722</td>\n",
       "    </tr>\n",
       "    <tr>\n",
       "      <td>4</td>\n",
       "      <td>Apcnt_1000080</td>\n",
       "      <td>0.881149</td>\n",
       "    </tr>\n",
       "  </tbody>\n",
       "</table>\n",
       "</div>"
      ],
      "text/plain": [
       "    Applicant_ID  default_status\n",
       "0  Apcnt_1000032        0.669963\n",
       "1  Apcnt_1000048        0.635577\n",
       "2  Apcnt_1000052        0.615366\n",
       "3  Apcnt_1000076        0.246722\n",
       "4  Apcnt_1000080        0.881149"
      ]
     },
     "execution_count": 115,
     "metadata": {},
     "output_type": "execute_result"
    }
   ],
   "source": [
    "submissions.head()"
   ]
  },
  {
   "cell_type": "code",
   "execution_count": 116,
   "metadata": {},
   "outputs": [
    {
     "data": {
      "text/plain": [
       "24000"
      ]
     },
     "execution_count": 116,
     "metadata": {},
     "output_type": "execute_result"
    }
   ],
   "source": [
    "len(submissions)"
   ]
  },
  {
   "cell_type": "code",
   "execution_count": 117,
   "metadata": {},
   "outputs": [],
   "source": [
    "submissions.to_csv('submissions_4.csv', index=False)"
   ]
  },
  {
   "cell_type": "code",
   "execution_count": null,
   "metadata": {},
   "outputs": [],
   "source": []
  }
 ],
 "metadata": {
  "kernelspec": {
   "display_name": "Python 3",
   "language": "python",
   "name": "python3"
  },
  "language_info": {
   "codemirror_mode": {
    "name": "ipython",
    "version": 3
   },
   "file_extension": ".py",
   "mimetype": "text/x-python",
   "name": "python",
   "nbconvert_exporter": "python",
   "pygments_lexer": "ipython3",
   "version": "3.7.4"
  }
 },
 "nbformat": 4,
 "nbformat_minor": 2
}
