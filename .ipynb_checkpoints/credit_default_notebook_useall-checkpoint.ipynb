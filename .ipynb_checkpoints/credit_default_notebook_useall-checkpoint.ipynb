{
 "cells": [
  {
   "cell_type": "code",
   "execution_count": null,
   "metadata": {},
   "outputs": [],
   "source": [
    "#Import necessary libraries\n",
    "import pandas as pd\n",
    "import seaborn as sns\n",
    "import matplotlib.pyplot as plt\n",
    "import numpy as np\n",
    "import itertools\n",
    "import matplotlib.gridspec as gridspec\n",
    "import warnings\n",
    "warnings.filterwarnings('ignore')\n",
    "\n",
    "%matplotlib inline"
   ]
  },
  {
   "cell_type": "code",
   "execution_count": null,
   "metadata": {},
   "outputs": [],
   "source": [
    "test = pd.read_csv(\"test.csv\", sep=',',index_col=[0])\n",
    "train = pd.read_csv(\"train.csv\", sep = ',',index_col=[0])\n",
    "submission = pd.read_csv(\"submission.csv\", sep=',',index_col=[0])"
   ]
  },
  {
   "cell_type": "code",
   "execution_count": null,
   "metadata": {},
   "outputs": [],
   "source": [
    "test.head()"
   ]
  },
  {
   "cell_type": "code",
   "execution_count": null,
   "metadata": {},
   "outputs": [],
   "source": [
    "#train.dtypes"
   ]
  },
  {
   "cell_type": "code",
   "execution_count": null,
   "metadata": {},
   "outputs": [],
   "source": [
    "test.to_csv('test.csv')\n",
    "train.to_csv('train.csv')\n",
    "submission.to_csv('submission.csv')"
   ]
  },
  {
   "cell_type": "code",
   "execution_count": null,
   "metadata": {},
   "outputs": [],
   "source": [
    "#train.head().T"
   ]
  },
  {
   "cell_type": "code",
   "execution_count": null,
   "metadata": {},
   "outputs": [],
   "source": [
    "# Convert ff47 and ff50 categorical variables to 0 and 1\n",
    "new_train = pd.get_dummies(train, columns=['form_field47','default_status'])"
   ]
  },
  {
   "cell_type": "code",
   "execution_count": null,
   "metadata": {},
   "outputs": [],
   "source": [
    "# Drop duplicate columns\n",
    "train_drop = new_train.drop(['form_field47_lending','default_status_yes'], axis=1)"
   ]
  },
  {
   "cell_type": "code",
   "execution_count": null,
   "metadata": {},
   "outputs": [],
   "source": [
    "# Rename the columns\n",
    "train_rename = train_drop.rename(columns = {\"form_field1\":'Creditworthiness_score',\"form_field2\":'CreditEnquiredRisk',\n",
    "                                            \"form_field3\":'LoanDefaultSeverityAll',\"form_field4\":'LoanDefaultSeverityAuto',\n",
    "                                            \"form_field5\":'LoanDefaultSeverityEdu',\"form_field6\":'MinCreditAvailAfterPayments',\n",
    "                                            \"form_field7\":'MaxCreditAvailActiveAll',\"form_field8\":'MaxCreditAvailAfterPayments',\"form_field9\":'SumOfAvailCreditMissed1Pay',\n",
    "                                            \"form_field10\":'TotalCreditAvailActiveAll',\"form_field11\":'PostDefaultDuesCollectedA500',\n",
    "                                            \"form_field12\":'TotalDueActive',\"form_field13\":'AllAnnualPaidPreviousYear',\n",
    "                                            \"form_field14\":'AnnualIncome',\"form_field15\":'PropertyMarketValue',\n",
    "                                            \"form_field16\":'NumActiveCCardsPaidOffFullCreditUsed',\"form_field17\":'NumActiveCCardsFullCreditUsed',\n",
    "                                            \"form_field18\":'NumActiveFullCLinesFullCreditUsed',\"form_field19\":'NumActiveCCards75pCreditUsed',\n",
    "                                            \"form_field20\":'NumActiveCLines75pCreditUsed',\"form_field21\":'%AverageUseOfCCardLoans',\n",
    "                                            \"form_field22\":'%AverageUseOfCLines2Yrs',\"form_field23\":'%AverageUseOfCCards1Yr',\n",
    "                                            \"form_field24\":'%AverageUseOfCLines6MoMiss1',\"form_field25\":'AverageTenureofActiveRevolveCardsinDays',\n",
    "                                            \"form_field26\":'TenureofOldestCCardsinDays',\"form_field27\":'TenureofOldestRevolvingCCardsinDays',\n",
    "                                            \"form_field28\":'NumOfDaysonlastmissedCLine',\"form_field29\":'TenureofOldestCLineinDays',\n",
    "                                            \"form_field30\":'MaxTenureonAutoLoansinDays',\"form_field31\":'MaxTenureonEduLoansinDays',\n",
    "                                            \"form_field32\":'SumTenureonActiveCCardsinMonth',\"form_field33\":'SumTenureonActiveCLinesinMonth',\n",
    "                                            \"form_field34\":'NumOfCLineslast6MoMiss1', \"form_field35\":'NumOfRevolveCCardslast2YrMiss1',\n",
    "                                            \"form_field36\":'NumActiveCLines',\"form_field37\":'NumCCardsActiveTenure2Yrs',\n",
    "                                            \"form_field38\":'ActivatedCLinesinlast2Yrs',\"form_field39\":'NumActiveCLinesDeliquent',\n",
    "                                            \"form_field40\":'%UseCLinesonEduLoan',\"form_field41\":'%UseCLinesonAutoLoan',\n",
    "                                            \"form_field42\":'FinanceStressIndex',\"form_field43\":'NumberCLinesPaidHighRisk',\n",
    "                                            \"form_field44\":'DebtRatio1Max',\"form_field45\":'NumOfHomeLoansMissed2x',\n",
    "                                            \"form_field46\":'NumOfAutoLoansMissed2x',\"form_field50\":'DebtRatio1Min',\n",
    "                                            'form_field47_charge': 'ProductApplicatn', 'default_status_no': 'default_status'}, inplace = False)"
   ]
  },
  {
   "cell_type": "code",
   "execution_count": null,
   "metadata": {},
   "outputs": [],
   "source": [
    "# Begin cleaning process\n",
    "#Fill with mean\n",
    "train_rename['Creditworthiness_score'] = train_rename['Creditworthiness_score'].fillna(train_rename['Creditworthiness_score'].mean())\n",
    "\n"
   ]
  },
  {
   "cell_type": "code",
   "execution_count": null,
   "metadata": {},
   "outputs": [],
   "source": [
    "train_final = train_rename"
   ]
  },
  {
   "cell_type": "code",
   "execution_count": null,
   "metadata": {},
   "outputs": [],
   "source": [
    "train_final.fillna(0, inplace=True)"
   ]
  },
  {
   "cell_type": "code",
   "execution_count": null,
   "metadata": {},
   "outputs": [],
   "source": [
    "train_final.shape"
   ]
  },
  {
   "cell_type": "code",
   "execution_count": null,
   "metadata": {},
   "outputs": [],
   "source": [
    "#train_rename.tail(20)"
   ]
  },
  {
   "cell_type": "code",
   "execution_count": null,
   "metadata": {},
   "outputs": [],
   "source": [
    "#train_rename['Creditworthiness_score'] = pd.to_numeric(train_rename['Creditworthiness_score'], errors='coerce')"
   ]
  },
  {
   "cell_type": "code",
   "execution_count": null,
   "metadata": {},
   "outputs": [],
   "source": [
    "#train_rename.isnull().sum() #Investigate each variable to determine what to do with the null values"
   ]
  },
  {
   "cell_type": "code",
   "execution_count": null,
   "metadata": {},
   "outputs": [],
   "source": [
    "#train_rename.isnull()==True"
   ]
  },
  {
   "cell_type": "code",
   "execution_count": null,
   "metadata": {},
   "outputs": [],
   "source": [
    "#Exploratory data analysis\n",
    "train_rename.describe().T"
   ]
  },
  {
   "cell_type": "code",
   "execution_count": null,
   "metadata": {},
   "outputs": [
    {
     "data": {
      "text/plain": [
       "<matplotlib.axes._subplots.AxesSubplot at 0x7feda06c9550>"
      ]
     },
     "execution_count": 66,
     "metadata": {},
     "output_type": "execute_result"
    }
   ],
   "source": [
    "#Checking for correlation between features\n",
    "fig, ax = plt.subplots(figsize=(20,10))\n",
    "corr = train_rename[train_rename.columns].corr()\n",
    "sns.heatmap(corr, annot=True, linewidths=0.5)"
   ]
  },
  {
   "cell_type": "code",
   "execution_count": 19,
   "metadata": {},
   "outputs": [],
   "source": [
    "#train_rename.head(20)"
   ]
  },
  {
   "cell_type": "code",
   "execution_count": 20,
   "metadata": {},
   "outputs": [
    {
     "data": {
      "text/plain": [
       "1    0.755089\n",
       "0    0.244911\n",
       "Name: default_status, dtype: float64"
      ]
     },
     "execution_count": 20,
     "metadata": {},
     "output_type": "execute_result"
    }
   ],
   "source": [
    "train_rename['default_status'].value_counts(normalize=True)"
   ]
  },
  {
   "cell_type": "code",
   "execution_count": 21,
   "metadata": {},
   "outputs": [],
   "source": [
    "#train_rename.info()"
   ]
  },
  {
   "cell_type": "code",
   "execution_count": 22,
   "metadata": {},
   "outputs": [],
   "source": [
    "#Fill with mode\n",
    "#cols = ['LoanDefaultSeverityAll','LoanDefaultSeverityAuto', 'LoanDefaultSeverityEdu']\n",
    "#train_rename['LoanDefaultSeverityAll'] = train_rename['LoanDefaultSeverityAll'].fillna(train_rename['LoanDefaultSeverityAll'].mode()[0])\n",
    "#train_rename['LoanDefaultSeverityAuto'].fillna(train_rename['LoanDefaultSeverityAuto'].mode()[0])\n",
    "#train_rename['LoanDefaultSeverityEdu'].fillna(train_rename['LoanDefaultSeverityEdu'].mode()[0])\n",
    "\n",
    "#Fill with zero\n",
    "#train_rename[cols]=train_rename.filter(cols).fillna(mode.iloc[0])\n"
   ]
  },
  {
   "cell_type": "code",
   "execution_count": 23,
   "metadata": {},
   "outputs": [],
   "source": [
    "train_feature = train_final.drop(['Applicant_ID'], axis=1)"
   ]
  },
  {
   "cell_type": "markdown",
   "metadata": {},
   "source": [
    "## Model"
   ]
  },
  {
   "cell_type": "code",
   "execution_count": 24,
   "metadata": {},
   "outputs": [],
   "source": [
    "from sklearn.preprocessing import StandardScaler, MinMaxScaler, RobustScaler\n",
    "from sklearn.model_selection import train_test_split\n",
    "from sklearn.metrics import accuracy_score, precision_score, recall_score, confusion_matrix, precision_recall_curve, f1_score\n"
   ]
  },
  {
   "cell_type": "code",
   "execution_count": 25,
   "metadata": {},
   "outputs": [],
   "source": [
    "#Values for predictor, dropping off the target\n",
    "X = train_feature.drop(['default_status'], axis=1)\n",
    "\n",
    "#Values for target\n",
    "y = train_feature['default_status'].values # y is output (or dependent) variable\n",
    "\n",
    "# Standardize the data\n",
    "X = RobustScaler().fit_transform(X)"
   ]
  },
  {
   "cell_type": "code",
   "execution_count": 26,
   "metadata": {},
   "outputs": [
    {
     "data": {
      "text/plain": [
       "((44800, 50), (11200, 50), (44800,), (11200,))"
      ]
     },
     "execution_count": 26,
     "metadata": {},
     "output_type": "execute_result"
    }
   ],
   "source": [
    "#Train Test split \n",
    "\n",
    "X_train, X_test, y_train, y_test = train_test_split(X,y, test_size=0.20, stratify=y\n",
    "                                                   , random_state=42)\n",
    "X_train.shape, X_test.shape, y_train.shape, y_test.shape"
   ]
  },
  {
   "cell_type": "code",
   "execution_count": 27,
   "metadata": {},
   "outputs": [],
   "source": [
    "def CMatrix(CM, labels=['0','1']):\n",
    "    df = pd.DataFrame(data=CM, index = labels, columns=labels)\n",
    "    df.index.name = 'TRUE'\n",
    "    df.columns.name = 'PREDICTION'\n",
    "    df.loc['Total'] = df.sum()\n",
    "    df['Total'] = df.sum(axis=1)\n",
    "    return df"
   ]
  },
  {
   "cell_type": "code",
   "execution_count": 28,
   "metadata": {},
   "outputs": [],
   "source": [
    "# Dataframe for evaluation metrics\n",
    "metrics = pd.DataFrame(index=['accuracy', 'precision', 'recall', 'f1_score'], \n",
    "                      columns=['Logistic-Reg','Decision-Tree', 'RandomForest-Class', 'Gradient-Boost', 'SVM', 'XG'])"
   ]
  },
  {
   "cell_type": "code",
   "execution_count": 29,
   "metadata": {},
   "outputs": [],
   "source": [
    "fitting = pd.DataFrame(index=['Train_score', 'Test_score'], \n",
    "                      columns=['Logistic-Reg','Decision-Tree', 'RandomForest-Class', 'Gradient-Boost', 'SVM','XG'])"
   ]
  },
  {
   "cell_type": "markdown",
   "metadata": {},
   "source": [
    "## Logistic Regression"
   ]
  },
  {
   "cell_type": "code",
   "execution_count": 31,
   "metadata": {},
   "outputs": [
    {
     "data": {
      "text/html": [
       "<div>\n",
       "<style scoped>\n",
       "    .dataframe tbody tr th:only-of-type {\n",
       "        vertical-align: middle;\n",
       "    }\n",
       "\n",
       "    .dataframe tbody tr th {\n",
       "        vertical-align: top;\n",
       "    }\n",
       "\n",
       "    .dataframe thead th {\n",
       "        text-align: right;\n",
       "    }\n",
       "</style>\n",
       "<table border=\"1\" class=\"dataframe\">\n",
       "  <thead>\n",
       "    <tr style=\"text-align: right;\">\n",
       "      <th>PREDICTION</th>\n",
       "      <th>0</th>\n",
       "      <th>1</th>\n",
       "      <th>Total</th>\n",
       "    </tr>\n",
       "    <tr>\n",
       "      <th>TRUE</th>\n",
       "      <th></th>\n",
       "      <th></th>\n",
       "      <th></th>\n",
       "    </tr>\n",
       "  </thead>\n",
       "  <tbody>\n",
       "    <tr>\n",
       "      <td>0</td>\n",
       "      <td>1090</td>\n",
       "      <td>1653</td>\n",
       "      <td>2743</td>\n",
       "    </tr>\n",
       "    <tr>\n",
       "      <td>1</td>\n",
       "      <td>565</td>\n",
       "      <td>7892</td>\n",
       "      <td>8457</td>\n",
       "    </tr>\n",
       "    <tr>\n",
       "      <td>Total</td>\n",
       "      <td>1655</td>\n",
       "      <td>9545</td>\n",
       "      <td>11200</td>\n",
       "    </tr>\n",
       "  </tbody>\n",
       "</table>\n",
       "</div>"
      ],
      "text/plain": [
       "PREDICTION     0     1  Total\n",
       "TRUE                         \n",
       "0           1090  1653   2743\n",
       "1            565  7892   8457\n",
       "Total       1655  9545  11200"
      ]
     },
     "execution_count": 31,
     "metadata": {},
     "output_type": "execute_result"
    }
   ],
   "source": [
    "# 1. Import the estimator object (model)\n",
    "from sklearn.linear_model import LogisticRegression\n",
    "\n",
    "# 2. Create an instance of the estimator\n",
    "logistic_regression = LogisticRegression(n_jobs=-1, random_state=15)\n",
    "\n",
    "# 3. Use the trainning data to train the estimator\n",
    "logistic_regression.fit(X_train, y_train)\n",
    "\n",
    "# 4. Evaluate the model\n",
    "y_pred_test = logistic_regression.predict(X_test)\n",
    "metrics.loc['accuracy','Logistic-Reg'] = accuracy_score(y_pred=y_pred_test, y_true=y_test)\n",
    "metrics.loc['precision','Logistic-Reg'] = precision_score(y_pred=y_pred_test, y_true=y_test)\n",
    "metrics.loc['recall','Logistic-Reg'] = recall_score(y_pred=y_pred_test, y_true=y_test)\n",
    "metrics.loc['f1_score','Logistic-Reg'] = f1_score(y_pred=y_pred_test, y_true=y_test)\n",
    "fitting.loc['Train_score','Logistic-Reg'] = logistic_regression.score(X_train, y_train)\n",
    "fitting.loc['Test_score','Logistic-Reg'] = logistic_regression.score(X_test, y_test)\n",
    "#Confusion matrix\n",
    "CM = confusion_matrix(y_pred=y_pred_test, y_true=y_test)\n",
    "CMatrix(CM)"
   ]
  },
  {
   "cell_type": "markdown",
   "metadata": {},
   "source": [
    "## B. Classification Trees"
   ]
  },
  {
   "cell_type": "code",
   "execution_count": 32,
   "metadata": {},
   "outputs": [
    {
     "data": {
      "text/html": [
       "<div>\n",
       "<style scoped>\n",
       "    .dataframe tbody tr th:only-of-type {\n",
       "        vertical-align: middle;\n",
       "    }\n",
       "\n",
       "    .dataframe tbody tr th {\n",
       "        vertical-align: top;\n",
       "    }\n",
       "\n",
       "    .dataframe thead th {\n",
       "        text-align: right;\n",
       "    }\n",
       "</style>\n",
       "<table border=\"1\" class=\"dataframe\">\n",
       "  <thead>\n",
       "    <tr style=\"text-align: right;\">\n",
       "      <th>PREDICTION</th>\n",
       "      <th>0</th>\n",
       "      <th>1</th>\n",
       "      <th>Total</th>\n",
       "    </tr>\n",
       "    <tr>\n",
       "      <th>TRUE</th>\n",
       "      <th></th>\n",
       "      <th></th>\n",
       "      <th></th>\n",
       "    </tr>\n",
       "  </thead>\n",
       "  <tbody>\n",
       "    <tr>\n",
       "      <td>0</td>\n",
       "      <td>1267</td>\n",
       "      <td>1476</td>\n",
       "      <td>2743</td>\n",
       "    </tr>\n",
       "    <tr>\n",
       "      <td>1</td>\n",
       "      <td>1275</td>\n",
       "      <td>7182</td>\n",
       "      <td>8457</td>\n",
       "    </tr>\n",
       "    <tr>\n",
       "      <td>Total</td>\n",
       "      <td>2542</td>\n",
       "      <td>8658</td>\n",
       "      <td>11200</td>\n",
       "    </tr>\n",
       "  </tbody>\n",
       "</table>\n",
       "</div>"
      ],
      "text/plain": [
       "PREDICTION     0     1  Total\n",
       "TRUE                         \n",
       "0           1267  1476   2743\n",
       "1           1275  7182   8457\n",
       "Total       2542  8658  11200"
      ]
     },
     "execution_count": 32,
     "metadata": {},
     "output_type": "execute_result"
    }
   ],
   "source": [
    "# 1. Import the estimator object (model)\n",
    "from sklearn.tree import DecisionTreeClassifier\n",
    "\n",
    "# 2. Create an instance of the estimator\n",
    "class_tree = DecisionTreeClassifier(min_samples_split=30, min_samples_leaf=10, random_state=10)\n",
    "\n",
    "# 3. Use the trainning data to train the estimator\n",
    "class_tree.fit(X_train, y_train)\n",
    "\n",
    "# 4. Evaluate the model\n",
    "y_pred_test = class_tree.predict(X_test)\n",
    "metrics.loc['accuracy','Decision-Tree'] = accuracy_score(y_pred=y_pred_test, y_true=y_test)\n",
    "metrics.loc['precision','Decision-Tree'] = precision_score(y_pred=y_pred_test, y_true=y_test)\n",
    "metrics.loc['recall','Decision-Tree'] = recall_score(y_pred=y_pred_test, y_true=y_test)\n",
    "metrics.loc['f1_score','Decision-Tree'] = f1_score(y_pred=y_pred_test, y_true=y_test)\n",
    "fitting.loc['Train_score','Decision-Tree'] = class_tree.score(X_train, y_train)\n",
    "fitting.loc['Test_score','Decision-Tree'] = class_tree.score(X_test, y_test)\n",
    "#Confusion matrix\n",
    "CM = confusion_matrix(y_pred=y_pred_test, y_true=y_test)\n",
    "CMatrix(CM)"
   ]
  },
  {
   "cell_type": "markdown",
   "metadata": {},
   "source": [
    "## C. Random Forest Classifier"
   ]
  },
  {
   "cell_type": "code",
   "execution_count": 33,
   "metadata": {},
   "outputs": [
    {
     "data": {
      "text/html": [
       "<div>\n",
       "<style scoped>\n",
       "    .dataframe tbody tr th:only-of-type {\n",
       "        vertical-align: middle;\n",
       "    }\n",
       "\n",
       "    .dataframe tbody tr th {\n",
       "        vertical-align: top;\n",
       "    }\n",
       "\n",
       "    .dataframe thead th {\n",
       "        text-align: right;\n",
       "    }\n",
       "</style>\n",
       "<table border=\"1\" class=\"dataframe\">\n",
       "  <thead>\n",
       "    <tr style=\"text-align: right;\">\n",
       "      <th>PREDICTION</th>\n",
       "      <th>0</th>\n",
       "      <th>1</th>\n",
       "      <th>Total</th>\n",
       "    </tr>\n",
       "    <tr>\n",
       "      <th>TRUE</th>\n",
       "      <th></th>\n",
       "      <th></th>\n",
       "      <th></th>\n",
       "    </tr>\n",
       "  </thead>\n",
       "  <tbody>\n",
       "    <tr>\n",
       "      <td>0</td>\n",
       "      <td>776</td>\n",
       "      <td>1967</td>\n",
       "      <td>2743</td>\n",
       "    </tr>\n",
       "    <tr>\n",
       "      <td>1</td>\n",
       "      <td>361</td>\n",
       "      <td>8096</td>\n",
       "      <td>8457</td>\n",
       "    </tr>\n",
       "    <tr>\n",
       "      <td>Total</td>\n",
       "      <td>1137</td>\n",
       "      <td>10063</td>\n",
       "      <td>11200</td>\n",
       "    </tr>\n",
       "  </tbody>\n",
       "</table>\n",
       "</div>"
      ],
      "text/plain": [
       "PREDICTION     0      1  Total\n",
       "TRUE                          \n",
       "0            776   1967   2743\n",
       "1            361   8096   8457\n",
       "Total       1137  10063  11200"
      ]
     },
     "execution_count": 33,
     "metadata": {},
     "output_type": "execute_result"
    }
   ],
   "source": [
    "# 1. Import the estimator object (model)\n",
    "from sklearn.ensemble import RandomForestClassifier as RF\n",
    "\n",
    "# 2. Create an instance of the estimator\n",
    "rf = RF(n_estimators=18, min_samples_split=15, max_depth=5, random_state=42)\n",
    "\n",
    "# 3. Use the trainning data to train the estimator\n",
    "rf.fit(X_train, y_train)\n",
    "\n",
    "# 4. Evaluate the model\n",
    "y_pred_test = rf.predict(X_test)\n",
    "metrics.loc['accuracy','RandomForest-Class'] = accuracy_score(y_pred=y_pred_test, y_true=y_test)\n",
    "metrics.loc['precision','RandomForest-Class'] = precision_score(y_pred=y_pred_test, y_true=y_test)\n",
    "metrics.loc['recall','RandomForest-Class'] = recall_score(y_pred=y_pred_test, y_true=y_test)\n",
    "metrics.loc['f1_score','RandomForest-Class'] = f1_score(y_pred=y_pred_test, y_true=y_test)\n",
    "fitting.loc['Train_score','RandomForest-Class'] = rf.score(X_train, y_train)\n",
    "fitting.loc['Test_score','RandomForest-Class'] = rf.score(X_test, y_test)\n",
    "#Confusion matrix\n",
    "CM = confusion_matrix(y_pred=y_pred_test, y_true=y_test)\n",
    "CMatrix(CM)"
   ]
  },
  {
   "cell_type": "markdown",
   "metadata": {},
   "source": [
    "## D. Gradient Boosting"
   ]
  },
  {
   "cell_type": "code",
   "execution_count": 34,
   "metadata": {},
   "outputs": [
    {
     "data": {
      "text/html": [
       "<div>\n",
       "<style scoped>\n",
       "    .dataframe tbody tr th:only-of-type {\n",
       "        vertical-align: middle;\n",
       "    }\n",
       "\n",
       "    .dataframe tbody tr th {\n",
       "        vertical-align: top;\n",
       "    }\n",
       "\n",
       "    .dataframe thead th {\n",
       "        text-align: right;\n",
       "    }\n",
       "</style>\n",
       "<table border=\"1\" class=\"dataframe\">\n",
       "  <thead>\n",
       "    <tr style=\"text-align: right;\">\n",
       "      <th>PREDICTION</th>\n",
       "      <th>0</th>\n",
       "      <th>1</th>\n",
       "      <th>Total</th>\n",
       "    </tr>\n",
       "    <tr>\n",
       "      <th>TRUE</th>\n",
       "      <th></th>\n",
       "      <th></th>\n",
       "      <th></th>\n",
       "    </tr>\n",
       "  </thead>\n",
       "  <tbody>\n",
       "    <tr>\n",
       "      <td>0</td>\n",
       "      <td>1176</td>\n",
       "      <td>1567</td>\n",
       "      <td>2743</td>\n",
       "    </tr>\n",
       "    <tr>\n",
       "      <td>1</td>\n",
       "      <td>680</td>\n",
       "      <td>7777</td>\n",
       "      <td>8457</td>\n",
       "    </tr>\n",
       "    <tr>\n",
       "      <td>Total</td>\n",
       "      <td>1856</td>\n",
       "      <td>9344</td>\n",
       "      <td>11200</td>\n",
       "    </tr>\n",
       "  </tbody>\n",
       "</table>\n",
       "</div>"
      ],
      "text/plain": [
       "PREDICTION     0     1  Total\n",
       "TRUE                         \n",
       "0           1176  1567   2743\n",
       "1            680  7777   8457\n",
       "Total       1856  9344  11200"
      ]
     },
     "execution_count": 34,
     "metadata": {},
     "output_type": "execute_result"
    }
   ],
   "source": [
    "# 1. Import the estimator object (model)\n",
    "from sklearn.ensemble import GradientBoostingClassifier as GB\n",
    "\n",
    "# 2. Create an instance of the estimator\n",
    "g_clf = GB(n_estimators=700, learning_rate=0.5, max_depth=15)\n",
    "\n",
    "# 3. Use the trainning data to train the estimator\n",
    "g_clf.fit(X_train, y_train)\n",
    "\n",
    "# 4. Evaluate the model\n",
    "y_pred_test = g_clf.predict(X_test)\n",
    "metrics.loc['accuracy','Gradient-Boost'] = accuracy_score(y_pred=y_pred_test, y_true=y_test)\n",
    "metrics.loc['precision','Gradient-Boost'] = precision_score(y_pred=y_pred_test, y_true=y_test)\n",
    "metrics.loc['recall','Gradient-Boost'] = recall_score(y_pred=y_pred_test, y_true=y_test)\n",
    "metrics.loc['f1_score','Gradient-Boost'] = f1_score(y_pred=y_pred_test, y_true=y_test)\n",
    "fitting.loc['Train_score','Gradient-Boost'] = g_clf.score(X_train, y_train)\n",
    "fitting.loc['Test_score','Gradient-Boost'] = g_clf.score(X_test, y_test)\n",
    "#Confusion matrix\n",
    "CM = confusion_matrix(y_pred=y_pred_test, y_true=y_test)\n",
    "CMatrix(CM)"
   ]
  },
  {
   "cell_type": "markdown",
   "metadata": {},
   "source": [
    "## E. Support Vector Machine"
   ]
  },
  {
   "cell_type": "code",
   "execution_count": 35,
   "metadata": {},
   "outputs": [
    {
     "data": {
      "text/html": [
       "<div>\n",
       "<style scoped>\n",
       "    .dataframe tbody tr th:only-of-type {\n",
       "        vertical-align: middle;\n",
       "    }\n",
       "\n",
       "    .dataframe tbody tr th {\n",
       "        vertical-align: top;\n",
       "    }\n",
       "\n",
       "    .dataframe thead th {\n",
       "        text-align: right;\n",
       "    }\n",
       "</style>\n",
       "<table border=\"1\" class=\"dataframe\">\n",
       "  <thead>\n",
       "    <tr style=\"text-align: right;\">\n",
       "      <th>PREDICTION</th>\n",
       "      <th>0</th>\n",
       "      <th>1</th>\n",
       "      <th>Total</th>\n",
       "    </tr>\n",
       "    <tr>\n",
       "      <th>TRUE</th>\n",
       "      <th></th>\n",
       "      <th></th>\n",
       "      <th></th>\n",
       "    </tr>\n",
       "  </thead>\n",
       "  <tbody>\n",
       "    <tr>\n",
       "      <td>0</td>\n",
       "      <td>851</td>\n",
       "      <td>1892</td>\n",
       "      <td>2743</td>\n",
       "    </tr>\n",
       "    <tr>\n",
       "      <td>1</td>\n",
       "      <td>378</td>\n",
       "      <td>8079</td>\n",
       "      <td>8457</td>\n",
       "    </tr>\n",
       "    <tr>\n",
       "      <td>Total</td>\n",
       "      <td>1229</td>\n",
       "      <td>9971</td>\n",
       "      <td>11200</td>\n",
       "    </tr>\n",
       "  </tbody>\n",
       "</table>\n",
       "</div>"
      ],
      "text/plain": [
       "PREDICTION     0     1  Total\n",
       "TRUE                         \n",
       "0            851  1892   2743\n",
       "1            378  8079   8457\n",
       "Total       1229  9971  11200"
      ]
     },
     "execution_count": 35,
     "metadata": {},
     "output_type": "execute_result"
    }
   ],
   "source": [
    "# 1. Import the estimator object (model)\n",
    "from sklearn.svm import SVC\n",
    "\n",
    "# 2. Create an instance of the estimator\n",
    "s_clf = SVC(kernel='linear')\n",
    "\n",
    "# 3. Use the trainning data to train the estimator\n",
    "s_clf.fit(X_train, y_train)\n",
    "\n",
    "# 4. Evaluate the model\n",
    "y_pred_test = s_clf.predict(X_test)\n",
    "metrics.loc['accuracy','SVM'] = accuracy_score(y_pred=y_pred_test, y_true=y_test)\n",
    "metrics.loc['precision','SVM'] = precision_score(y_pred=y_pred_test, y_true=y_test)\n",
    "metrics.loc['recall','SVM'] = recall_score(y_pred=y_pred_test, y_true=y_test)\n",
    "metrics.loc['f1_score','SVM'] = f1_score(y_pred=y_pred_test, y_true=y_test)\n",
    "fitting.loc['Train_score','SVM'] = s_clf.score(X_train, y_train)\n",
    "fitting.loc['Test_score','SVM'] = s_clf.score(X_test, y_test)\n",
    "#Confusion matrix\n",
    "CM = confusion_matrix(y_pred=y_pred_test, y_true=y_test)\n",
    "CMatrix(CM)"
   ]
  },
  {
   "cell_type": "markdown",
   "metadata": {},
   "source": [
    "### F. XG Boost"
   ]
  },
  {
   "cell_type": "code",
   "execution_count": 36,
   "metadata": {},
   "outputs": [
    {
     "data": {
      "text/html": [
       "<div>\n",
       "<style scoped>\n",
       "    .dataframe tbody tr th:only-of-type {\n",
       "        vertical-align: middle;\n",
       "    }\n",
       "\n",
       "    .dataframe tbody tr th {\n",
       "        vertical-align: top;\n",
       "    }\n",
       "\n",
       "    .dataframe thead th {\n",
       "        text-align: right;\n",
       "    }\n",
       "</style>\n",
       "<table border=\"1\" class=\"dataframe\">\n",
       "  <thead>\n",
       "    <tr style=\"text-align: right;\">\n",
       "      <th>PREDICTION</th>\n",
       "      <th>0</th>\n",
       "      <th>1</th>\n",
       "      <th>Total</th>\n",
       "    </tr>\n",
       "    <tr>\n",
       "      <th>TRUE</th>\n",
       "      <th></th>\n",
       "      <th></th>\n",
       "      <th></th>\n",
       "    </tr>\n",
       "  </thead>\n",
       "  <tbody>\n",
       "    <tr>\n",
       "      <td>0</td>\n",
       "      <td>776</td>\n",
       "      <td>1967</td>\n",
       "      <td>2743</td>\n",
       "    </tr>\n",
       "    <tr>\n",
       "      <td>1</td>\n",
       "      <td>361</td>\n",
       "      <td>8096</td>\n",
       "      <td>8457</td>\n",
       "    </tr>\n",
       "    <tr>\n",
       "      <td>Total</td>\n",
       "      <td>1137</td>\n",
       "      <td>10063</td>\n",
       "      <td>11200</td>\n",
       "    </tr>\n",
       "  </tbody>\n",
       "</table>\n",
       "</div>"
      ],
      "text/plain": [
       "PREDICTION     0      1  Total\n",
       "TRUE                          \n",
       "0            776   1967   2743\n",
       "1            361   8096   8457\n",
       "Total       1137  10063  11200"
      ]
     },
     "execution_count": 36,
     "metadata": {},
     "output_type": "execute_result"
    }
   ],
   "source": [
    "# 1. Import the estimator object (model)\n",
    "import xgboost as xgb\n",
    "\n",
    "# 2. Create an instance of the estimator\n",
    "\n",
    "model=xgb.XGBClassifier(random_state=1,learning_rate=0.01)\n",
    "\n",
    "\n",
    "# 3. Use the trainning data to train the estimator\n",
    "model.fit(X_train, y_train)\n",
    "\n",
    "# 4. Evaluate the model\n",
    "y_pred_test = rf.predict(X_test)\n",
    "metrics.loc['accuracy','XG'] = accuracy_score(y_pred=y_pred_test, y_true=y_test)\n",
    "metrics.loc['precision','XG'] = precision_score(y_pred=y_pred_test, y_true=y_test)\n",
    "metrics.loc['recall','XG'] = recall_score(y_pred=y_pred_test, y_true=y_test)\n",
    "metrics.loc['f1_score','XG'] = f1_score(y_pred=y_pred_test, y_true=y_test)\n",
    "fitting.loc['Train_score','XG'] = model.score(X_train, y_train)\n",
    "fitting.loc['Test_score','XG'] = model.score(X_test, y_test)\n",
    "#Confusion matrix\n",
    "CM = confusion_matrix(y_pred=y_pred_test, y_true=y_test)\n",
    "CMatrix(CM)"
   ]
  },
  {
   "cell_type": "markdown",
   "metadata": {},
   "source": [
    "## Model Evaluation"
   ]
  },
  {
   "cell_type": "code",
   "execution_count": 37,
   "metadata": {},
   "outputs": [
    {
     "data": {
      "image/png": "[encoded data removed]",
      "text/plain": [
       "<Figure size 864x720 with 1 Axes>"
      ]
     },
     "metadata": {
      "needs_background": "light"
     },
     "output_type": "display_data"
    }
   ],
   "source": [
    "fig, ax = plt.subplots(figsize=(12,10))\n",
    "metrics.plot(kind='barh', ax=ax)\n",
    "ax.grid();"
   ]
  },
  {
   "cell_type": "code",
   "execution_count": 38,
   "metadata": {},
   "outputs": [
    {
     "data": {
      "text/html": [
       "<div>\n",
       "<style scoped>\n",
       "    .dataframe tbody tr th:only-of-type {\n",
       "        vertical-align: middle;\n",
       "    }\n",
       "\n",
       "    .dataframe tbody tr th {\n",
       "        vertical-align: top;\n",
       "    }\n",
       "\n",
       "    .dataframe thead th {\n",
       "        text-align: right;\n",
       "    }\n",
       "</style>\n",
       "<table border=\"1\" class=\"dataframe\">\n",
       "  <thead>\n",
       "    <tr style=\"text-align: right;\">\n",
       "      <th></th>\n",
       "      <th>Logistic-Reg</th>\n",
       "      <th>Decision-Tree</th>\n",
       "      <th>RandomForest-Class</th>\n",
       "      <th>Gradient-Boost</th>\n",
       "      <th>SVM</th>\n",
       "      <th>XG</th>\n",
       "    </tr>\n",
       "  </thead>\n",
       "  <tbody>\n",
       "    <tr>\n",
       "      <td>accuracy</td>\n",
       "      <td>80.1964</td>\n",
       "      <td>75.4375</td>\n",
       "      <td>79.2143</td>\n",
       "      <td>79.9375</td>\n",
       "      <td>79.7321</td>\n",
       "      <td>79.214286</td>\n",
       "    </tr>\n",
       "    <tr>\n",
       "      <td>precision</td>\n",
       "      <td>82.682</td>\n",
       "      <td>82.9522</td>\n",
       "      <td>80.4531</td>\n",
       "      <td>83.2299</td>\n",
       "      <td>81.025</td>\n",
       "      <td>80.453145</td>\n",
       "    </tr>\n",
       "    <tr>\n",
       "      <td>recall</td>\n",
       "      <td>93.3191</td>\n",
       "      <td>84.9237</td>\n",
       "      <td>95.7313</td>\n",
       "      <td>91.9593</td>\n",
       "      <td>95.5303</td>\n",
       "      <td>95.731347</td>\n",
       "    </tr>\n",
       "    <tr>\n",
       "      <td>f1_score</td>\n",
       "      <td>87.6791</td>\n",
       "      <td>83.9264</td>\n",
       "      <td>87.4298</td>\n",
       "      <td>87.3771</td>\n",
       "      <td>87.6818</td>\n",
       "      <td>87.429806</td>\n",
       "    </tr>\n",
       "  </tbody>\n",
       "</table>\n",
       "</div>"
      ],
      "text/plain": [
       "          Logistic-Reg Decision-Tree RandomForest-Class Gradient-Boost  \\\n",
       "accuracy       80.1964       75.4375            79.2143        79.9375   \n",
       "precision       82.682       82.9522            80.4531        83.2299   \n",
       "recall         93.3191       84.9237            95.7313        91.9593   \n",
       "f1_score       87.6791       83.9264            87.4298        87.3771   \n",
       "\n",
       "               SVM         XG  \n",
       "accuracy   79.7321  79.214286  \n",
       "precision   81.025  80.453145  \n",
       "recall     95.5303  95.731347  \n",
       "f1_score   87.6818  87.429806  "
      ]
     },
     "execution_count": 38,
     "metadata": {},
     "output_type": "execute_result"
    }
   ],
   "source": [
    "100*metrics"
   ]
  },
  {
   "cell_type": "code",
   "execution_count": 39,
   "metadata": {},
   "outputs": [
    {
     "data": {
      "image/png": "[encoded data removed]",
      "text/plain": [
       "<Figure size 864x576 with 1 Axes>"
      ]
     },
     "metadata": {
      "needs_background": "light"
     },
     "output_type": "display_data"
    }
   ],
   "source": [
    "# Plot performance on test and train data\n",
    "fig, ax = plt.subplots(figsize=(12,8))\n",
    "fitting.T.plot(kind='barh', ax=ax)\n",
    "ax.set_title('Scores for the Test and Train Data')\n",
    "ax.legend(loc=1);"
   ]
  },
  {
   "cell_type": "code",
   "execution_count": 40,
   "metadata": {},
   "outputs": [
    {
     "data": {
      "text/html": [
       "<div>\n",
       "<style scoped>\n",
       "    .dataframe tbody tr th:only-of-type {\n",
       "        vertical-align: middle;\n",
       "    }\n",
       "\n",
       "    .dataframe tbody tr th {\n",
       "        vertical-align: top;\n",
       "    }\n",
       "\n",
       "    .dataframe thead th {\n",
       "        text-align: right;\n",
       "    }\n",
       "</style>\n",
       "<table border=\"1\" class=\"dataframe\">\n",
       "  <thead>\n",
       "    <tr style=\"text-align: right;\">\n",
       "      <th></th>\n",
       "      <th>Logistic-Reg</th>\n",
       "      <th>Decision-Tree</th>\n",
       "      <th>RandomForest-Class</th>\n",
       "      <th>Gradient-Boost</th>\n",
       "      <th>SVM</th>\n",
       "      <th>XG</th>\n",
       "    </tr>\n",
       "  </thead>\n",
       "  <tbody>\n",
       "    <tr>\n",
       "      <td>Train_score</td>\n",
       "      <td>80.2254</td>\n",
       "      <td>86.6339</td>\n",
       "      <td>79.3772</td>\n",
       "      <td>99.9955</td>\n",
       "      <td>79.692</td>\n",
       "      <td>78.948661</td>\n",
       "    </tr>\n",
       "    <tr>\n",
       "      <td>Test_score</td>\n",
       "      <td>80.1964</td>\n",
       "      <td>75.4375</td>\n",
       "      <td>79.2143</td>\n",
       "      <td>79.9375</td>\n",
       "      <td>79.7321</td>\n",
       "      <td>78.866071</td>\n",
       "    </tr>\n",
       "  </tbody>\n",
       "</table>\n",
       "</div>"
      ],
      "text/plain": [
       "            Logistic-Reg Decision-Tree RandomForest-Class Gradient-Boost  \\\n",
       "Train_score      80.2254       86.6339            79.3772        99.9955   \n",
       "Test_score       80.1964       75.4375            79.2143        79.9375   \n",
       "\n",
       "                 SVM         XG  \n",
       "Train_score   79.692  78.948661  \n",
       "Test_score   79.7321  78.866071  "
      ]
     },
     "execution_count": 40,
     "metadata": {},
     "output_type": "execute_result"
    }
   ],
   "source": [
    "\n",
    "100*fitting"
   ]
  },
  {
   "cell_type": "code",
   "execution_count": 41,
   "metadata": {},
   "outputs": [],
   "source": [
    "clf_labels = ['Logistic-Reg','Decision-Tree', 'RandomForest-Class', 'Gradient-Boost', 'SVM', 'XG']\n",
    "all_clf = [logistic_regression, class_tree, rf, g_clf, s_clf, model]"
   ]
  },
  {
   "cell_type": "code",
   "execution_count": 42,
   "metadata": {},
   "outputs": [
    {
     "data": {
      "image/png": "[encoded data removed]",
      "text/plain": [
       "<Figure size 432x288 with 1 Axes>"
      ]
     },
     "metadata": {
      "needs_background": "light"
     },
     "output_type": "display_data"
    }
   ],
   "source": [
    "from sklearn.metrics import roc_curve\n",
    "from sklearn.metrics import auc\n",
    "colors = ['black', 'orange', 'blue', 'green']\n",
    "linestyles = [':', '--', '-.', '-']\n",
    "for clf, label, clr, ls \\\n",
    "   in zip(all_clf, clf_labels, colors, linestyles):\n",
    "    # assuming the label of the positive class is 1\n",
    "    y_pred = clf.fit(X_train,\n",
    "                     y_train).predict_proba(X_test)[:, 1]\n",
    "    fpr, tpr, thresholds = roc_curve(y_true=y_test,\n",
    "                                     y_score=y_pred)\n",
    "    roc_auc = auc(x=fpr, y=tpr)\n",
    "    plt.plot(fpr, tpr,\n",
    "              color=clr,\n",
    "              linestyle=ls,\n",
    "             label='%s (auc = %0.2f)' % (label, roc_auc))\n",
    "plt.legend(loc='lower right')\n",
    "plt.plot([0, 1], [0, 1],\n",
    "          linestyle='--',\n",
    "          color='gray',\n",
    "          linewidth=2)\n",
    "plt.xlim([-0.1, 1.1])\n",
    "plt.ylim([-0.1, 1.1])\n",
    "plt.grid(alpha=0.5)\n",
    "plt.xlabel('False positive rate (FPR)')\n",
    "plt.ylabel('True positive rate (TPR)')\n",
    "plt.show()\n"
   ]
  },
  {
   "cell_type": "markdown",
   "metadata": {},
   "source": [
    "## Feature importance"
   ]
  },
  {
   "cell_type": "code",
   "execution_count": 43,
   "metadata": {},
   "outputs": [
    {
     "data": {
      "text/plain": [
       "Creditworthiness_score                     0.151660\n",
       "CreditEnquiredRisk                         0.032132\n",
       "LoanDefaultSeverityAll                     0.009193\n",
       "LoanDefaultSeverityAuto                    0.009682\n",
       "LoanDefaultSeverityEdu                     0.000586\n",
       "MinCreditAvailAfterPayments                0.160523\n",
       "MaxCreditAvailActiveAll                    0.033917\n",
       "MaxCreditAvailAfterPayments                0.107956\n",
       "SumOfAvailCreditMissed1Pay                 0.035590\n",
       "TotalCreditAvailActiveAll                  0.033541\n",
       "PostDefaultDuesCollectedA500               0.005933\n",
       "TotalDueActive                             0.000835\n",
       "AllAnnualPaidPreviousYear                  0.018190\n",
       "AnnualIncome                               0.000000\n",
       "PropertyMarketValue                        0.000122\n",
       "NumActiveCCardsPaidOffFullCreditUsed       0.012570\n",
       "NumActiveCCardsFullCreditUsed              0.011127\n",
       "NumActiveFullCLinesFullCreditUsed          0.010436\n",
       "NumActiveCCards75pCreditUsed               0.006239\n",
       "NumActiveCLines75pCreditUsed               0.013720\n",
       "%AverageUseOfCCardLoans                    0.005820\n",
       "%AverageUseOfCLines2Yrs                    0.011899\n",
       "%AverageUseOfCCards1Yr                     0.007991\n",
       "%AverageUseOfCLines6MoMiss1                0.004919\n",
       "AverageTenureofActiveRevolveCardsinDays    0.020723\n",
       "TenureofOldestCCardsinDays                 0.019378\n",
       "TenureofOldestRevolvingCCardsinDays        0.000531\n",
       "NumOfDaysonlastmissedCLine                 0.052762\n",
       "TenureofOldestCLineinDays                  0.001395\n",
       "MaxTenureonAutoLoansinDays                 0.001198\n",
       "MaxTenureonEduLoansinDays                  0.000043\n",
       "SumTenureonActiveCCardsinMonth             0.062239\n",
       "SumTenureonActiveCLinesinMonth             0.000107\n",
       "NumOfCLineslast6MoMiss1                    0.004094\n",
       "NumOfRevolveCCardslast2YrMiss1             0.004271\n",
       "NumActiveCLines                            0.005020\n",
       "NumCCardsActiveTenure2Yrs                  0.042276\n",
       "ActivatedCLinesinlast2Yrs                  0.012142\n",
       "NumActiveCLinesDeliquent                   0.001671\n",
       "%UseCLinesonEduLoan                        0.001635\n",
       "%UseCLinesonAutoLoan                       0.000000\n",
       "FinanceStressIndex                         0.036398\n",
       "NumberCLinesPaidHighRisk                   0.001178\n",
       "DebtRatio1Max                              0.000765\n",
       "NumOfHomeLoansMissed2x                     0.000084\n",
       "NumOfAutoLoansMissed2x                     0.000000\n",
       "form_field48                               0.000344\n",
       "form_field49                               0.009194\n",
       "DebtRatio1Min                              0.000000\n",
       "ProductApplicatn                           0.037973\n",
       "dtype: float64"
      ]
     },
     "execution_count": 43,
     "metadata": {},
     "output_type": "execute_result"
    }
   ],
   "source": [
    "# Feature importance according to the random forest model\n",
    "feature_names = train_final.drop(['Applicant_ID','default_status'], axis=1).columns\n",
    "feat_importance = pd.Series(data=rf.feature_importances_, index=feature_names)\n",
    "feat_importance"
   ]
  },
  {
   "cell_type": "markdown",
   "metadata": {},
   "source": [
    "## Test Data"
   ]
  },
  {
   "cell_type": "code",
   "execution_count": 44,
   "metadata": {},
   "outputs": [],
   "source": [
    "test_rename = test.rename(columns = {\"form_field1\":'Creditworthiness_score',\"form_field2\":'CreditEnquiredRisk',\n",
    "                                            \"form_field3\":'LoanDefaultSeverityAll',\"form_field4\":'LoanDefaultSeverityAuto',\n",
    "                                            \"form_field5\":'LoanDefaultSeverityEdu',\"form_field6\":'MinCreditAvailAfterPayments',\n",
    "                                            \"form_field7\":'MaxCreditAvailActiveAll',\"form_field8\":'MaxCreditAvailAfterPayments',\"form_field9\":'SumOfAvailCreditMissed1Pay',\n",
    "                                            \"form_field10\":'TotalCreditAvailActiveAll',\"form_field11\":'PostDefaultDuesCollectedA500',\n",
    "                                            \"form_field12\":'TotalDueActive',\"form_field13\":'AllAnnualPaidPreviousYear',\n",
    "                                            \"form_field14\":'AnnualIncome',\"form_field15\":'PropertyMarketValue',\n",
    "                                            \"form_field16\":'NumActiveCCardsPaidOffFullCreditUsed',\"form_field17\":'NumActiveCCardsFullCreditUsed',\n",
    "                                            \"form_field18\":'NumActiveFullCLinesFullCreditUsed',\"form_field19\":'NumActiveCCards75pCreditUsed',\n",
    "                                            \"form_field20\":'NumActiveCLines75pCreditUsed',\"form_field21\":'%AverageUseOfCCardLoans',\n",
    "                                            \"form_field22\":'%AverageUseOfCLines2Yrs',\"form_field23\":'%AverageUseOfCCards1Yr',\n",
    "                                            \"form_field24\":'%AverageUseOfCLines6MoMiss1',\"form_field25\":'AverageTenureofActiveRevolveCardsinDays',\n",
    "                                            \"form_field26\":'TenureofOldestCCardsinDays',\"form_field27\":'TenureofOldestRevolvingCCardsinDays',\n",
    "                                            \"form_field28\":'NumOfDaysonlastmissedCLine',\"form_field29\":'TenureofOldestCLineinDays',\n",
    "                                            \"form_field30\":'MaxTenureonAutoLoansinDays',\"form_field31\":'MaxTenureonEduLoansinDays',\n",
    "                                            \"form_field32\":'SumTenureonActiveCCardsinMonth',\"form_field33\":'SumTenureonActiveCLinesinMonth',\n",
    "                                            \"form_field34\":'NumOfCLineslast6MoMiss1', \"form_field35\":'NumOfRevolveCCardslast2YrMiss1',\n",
    "                                            \"form_field36\":'NumActiveCLines',\"form_field37\":'NumCCardsActiveTenure2Yrs',\n",
    "                                            \"form_field38\":'ActivatedCLinesinlast2Yrs',\"form_field39\":'NumActiveCLinesDeliquent',\n",
    "                                            \"form_field40\":'%UseCLinesonEduLoan',\"form_field41\":'%UseCLinesonAutoLoan',\n",
    "                                            \"form_field42\":'FinanceStressIndex',\"form_field43\":'NumberCLinesPaidHighRisk',\n",
    "                                            \"form_field44\":'DebtRatio1Max',\"form_field45\":'NumOfHomeLoansMissed2x',\n",
    "                                            \"form_field46\":'NumOfAutoLoansMissed2x',\"form_field50\":'DebtRatio1Min',\n",
    "                                            'form_field47_charge': 'ProductApplicatn', 'default_status_no': 'default_status'}, inplace = False)"
   ]
  },
  {
   "cell_type": "code",
   "execution_count": 45,
   "metadata": {},
   "outputs": [
    {
     "data": {
      "text/html": [
       "<div>\n",
       "<style scoped>\n",
       "    .dataframe tbody tr th:only-of-type {\n",
       "        vertical-align: middle;\n",
       "    }\n",
       "\n",
       "    .dataframe tbody tr th {\n",
       "        vertical-align: top;\n",
       "    }\n",
       "\n",
       "    .dataframe thead th {\n",
       "        text-align: right;\n",
       "    }\n",
       "</style>\n",
       "<table border=\"1\" class=\"dataframe\">\n",
       "  <thead>\n",
       "    <tr style=\"text-align: right;\">\n",
       "      <th></th>\n",
       "      <th>Applicant_ID</th>\n",
       "      <th>Creditworthiness_score</th>\n",
       "      <th>CreditEnquiredRisk</th>\n",
       "      <th>LoanDefaultSeverityAll</th>\n",
       "      <th>LoanDefaultSeverityAuto</th>\n",
       "      <th>LoanDefaultSeverityEdu</th>\n",
       "      <th>MinCreditAvailAfterPayments</th>\n",
       "      <th>MaxCreditAvailActiveAll</th>\n",
       "      <th>MaxCreditAvailAfterPayments</th>\n",
       "      <th>SumOfAvailCreditMissed1Pay</th>\n",
       "      <th>...</th>\n",
       "      <th>%UseCLinesonAutoLoan</th>\n",
       "      <th>FinanceStressIndex</th>\n",
       "      <th>NumberCLinesPaidHighRisk</th>\n",
       "      <th>DebtRatio1Max</th>\n",
       "      <th>NumOfHomeLoansMissed2x</th>\n",
       "      <th>NumOfAutoLoansMissed2x</th>\n",
       "      <th>form_field47</th>\n",
       "      <th>form_field48</th>\n",
       "      <th>form_field49</th>\n",
       "      <th>DebtRatio1Min</th>\n",
       "    </tr>\n",
       "  </thead>\n",
       "  <tbody>\n",
       "    <tr>\n",
       "      <td>0</td>\n",
       "      <td>Apcnt_1000032</td>\n",
       "      <td>3236.0</td>\n",
       "      <td>0.34875</td>\n",
       "      <td>10.2006</td>\n",
       "      <td>0.0000</td>\n",
       "      <td>0.0</td>\n",
       "      <td>418564.0</td>\n",
       "      <td>418564.0</td>\n",
       "      <td>418564.0</td>\n",
       "      <td>540710.0</td>\n",
       "      <td>...</td>\n",
       "      <td>NaN</td>\n",
       "      <td>0.825000</td>\n",
       "      <td>1.01</td>\n",
       "      <td>0.800000</td>\n",
       "      <td>NaN</td>\n",
       "      <td>0.0</td>\n",
       "      <td>charge</td>\n",
       "      <td>NaN</td>\n",
       "      <td>0.000000</td>\n",
       "      <td>0.011221</td>\n",
       "    </tr>\n",
       "    <tr>\n",
       "      <td>1</td>\n",
       "      <td>Apcnt_1000048</td>\n",
       "      <td>3284.0</td>\n",
       "      <td>1.27360</td>\n",
       "      <td>2.9606</td>\n",
       "      <td>9.0198</td>\n",
       "      <td>0.0</td>\n",
       "      <td>0.0</td>\n",
       "      <td>9858816.0</td>\n",
       "      <td>49014.0</td>\n",
       "      <td>1510098.0</td>\n",
       "      <td>...</td>\n",
       "      <td>18.8415</td>\n",
       "      <td>0.507694</td>\n",
       "      <td>4.04</td>\n",
       "      <td>0.623248</td>\n",
       "      <td>1.0</td>\n",
       "      <td>0.0</td>\n",
       "      <td>lending</td>\n",
       "      <td>NaN</td>\n",
       "      <td>0.504974</td>\n",
       "      <td>0.043525</td>\n",
       "    </tr>\n",
       "    <tr>\n",
       "      <td>2</td>\n",
       "      <td>Apcnt_1000052</td>\n",
       "      <td>NaN</td>\n",
       "      <td>0.27505</td>\n",
       "      <td>0.0600</td>\n",
       "      <td>0.0000</td>\n",
       "      <td>0.0</td>\n",
       "      <td>NaN</td>\n",
       "      <td>NaN</td>\n",
       "      <td>NaN</td>\n",
       "      <td>NaN</td>\n",
       "      <td>...</td>\n",
       "      <td>NaN</td>\n",
       "      <td>NaN</td>\n",
       "      <td>0.00</td>\n",
       "      <td>NaN</td>\n",
       "      <td>NaN</td>\n",
       "      <td>NaN</td>\n",
       "      <td>charge</td>\n",
       "      <td>NaN</td>\n",
       "      <td>0.000000</td>\n",
       "      <td>NaN</td>\n",
       "    </tr>\n",
       "    <tr>\n",
       "      <td>3</td>\n",
       "      <td>Apcnt_1000076</td>\n",
       "      <td>3232.0</td>\n",
       "      <td>0.28505</td>\n",
       "      <td>2.8032</td>\n",
       "      <td>0.0000</td>\n",
       "      <td>0.0</td>\n",
       "      <td>0.0</td>\n",
       "      <td>473802.0</td>\n",
       "      <td>473802.0</td>\n",
       "      <td>1724437.0</td>\n",
       "      <td>...</td>\n",
       "      <td>NaN</td>\n",
       "      <td>0.916663</td>\n",
       "      <td>2.02</td>\n",
       "      <td>0.464224</td>\n",
       "      <td>NaN</td>\n",
       "      <td>NaN</td>\n",
       "      <td>charge</td>\n",
       "      <td>90.163742</td>\n",
       "      <td>0.788809</td>\n",
       "      <td>0.104029</td>\n",
       "    </tr>\n",
       "    <tr>\n",
       "      <td>4</td>\n",
       "      <td>Apcnt_1000080</td>\n",
       "      <td>3466.0</td>\n",
       "      <td>2.09545</td>\n",
       "      <td>0.8318</td>\n",
       "      <td>2.5182</td>\n",
       "      <td>0.0</td>\n",
       "      <td>19839.0</td>\n",
       "      <td>1150662.0</td>\n",
       "      <td>1150662.0</td>\n",
       "      <td>7860523.0</td>\n",
       "      <td>...</td>\n",
       "      <td>NaN</td>\n",
       "      <td>0.234047</td>\n",
       "      <td>23.23</td>\n",
       "      <td>0.726688</td>\n",
       "      <td>0.0</td>\n",
       "      <td>0.0</td>\n",
       "      <td>lending</td>\n",
       "      <td>1303.587148</td>\n",
       "      <td>1.637733</td>\n",
       "      <td>0.163124</td>\n",
       "    </tr>\n",
       "  </tbody>\n",
       "</table>\n",
       "<p>5 rows × 51 columns</p>\n",
       "</div>"
      ],
      "text/plain": [
       "    Applicant_ID  Creditworthiness_score  CreditEnquiredRisk  \\\n",
       "0  Apcnt_1000032                  3236.0             0.34875   \n",
       "1  Apcnt_1000048                  3284.0             1.27360   \n",
       "2  Apcnt_1000052                     NaN             0.27505   \n",
       "3  Apcnt_1000076                  3232.0             0.28505   \n",
       "4  Apcnt_1000080                  3466.0             2.09545   \n",
       "\n",
       "   LoanDefaultSeverityAll  LoanDefaultSeverityAuto  LoanDefaultSeverityEdu  \\\n",
       "0                 10.2006                   0.0000                     0.0   \n",
       "1                  2.9606                   9.0198                     0.0   \n",
       "2                  0.0600                   0.0000                     0.0   \n",
       "3                  2.8032                   0.0000                     0.0   \n",
       "4                  0.8318                   2.5182                     0.0   \n",
       "\n",
       "   MinCreditAvailAfterPayments  MaxCreditAvailActiveAll  \\\n",
       "0                     418564.0                 418564.0   \n",
       "1                          0.0                9858816.0   \n",
       "2                          NaN                      NaN   \n",
       "3                          0.0                 473802.0   \n",
       "4                      19839.0                1150662.0   \n",
       "\n",
       "   MaxCreditAvailAfterPayments  SumOfAvailCreditMissed1Pay  ...  \\\n",
       "0                     418564.0                    540710.0  ...   \n",
       "1                      49014.0                   1510098.0  ...   \n",
       "2                          NaN                         NaN  ...   \n",
       "3                     473802.0                   1724437.0  ...   \n",
       "4                    1150662.0                   7860523.0  ...   \n",
       "\n",
       "   %UseCLinesonAutoLoan  FinanceStressIndex  NumberCLinesPaidHighRisk  \\\n",
       "0                   NaN            0.825000                      1.01   \n",
       "1               18.8415            0.507694                      4.04   \n",
       "2                   NaN                 NaN                      0.00   \n",
       "3                   NaN            0.916663                      2.02   \n",
       "4                   NaN            0.234047                     23.23   \n",
       "\n",
       "   DebtRatio1Max  NumOfHomeLoansMissed2x  NumOfAutoLoansMissed2x  \\\n",
       "0       0.800000                     NaN                     0.0   \n",
       "1       0.623248                     1.0                     0.0   \n",
       "2            NaN                     NaN                     NaN   \n",
       "3       0.464224                     NaN                     NaN   \n",
       "4       0.726688                     0.0                     0.0   \n",
       "\n",
       "   form_field47  form_field48  form_field49  DebtRatio1Min  \n",
       "0        charge           NaN      0.000000       0.011221  \n",
       "1       lending           NaN      0.504974       0.043525  \n",
       "2        charge           NaN      0.000000            NaN  \n",
       "3        charge     90.163742      0.788809       0.104029  \n",
       "4       lending   1303.587148      1.637733       0.163124  \n",
       "\n",
       "[5 rows x 51 columns]"
      ]
     },
     "execution_count": 45,
     "metadata": {},
     "output_type": "execute_result"
    }
   ],
   "source": [
    "test_rename.head()"
   ]
  },
  {
   "cell_type": "code",
   "execution_count": 46,
   "metadata": {},
   "outputs": [],
   "source": [
    "# Convert ff47 and ff50 categorical variables to 0 and 1\n",
    "new_test = pd.get_dummies(test, columns=['form_field47'])"
   ]
  },
  {
   "cell_type": "code",
   "execution_count": 47,
   "metadata": {},
   "outputs": [],
   "source": [
    "# Drop duplicate columns\n",
    "test_drop = new_test.drop(['form_field47_lending'], axis=1)"
   ]
  },
  {
   "cell_type": "code",
   "execution_count": 48,
   "metadata": {},
   "outputs": [],
   "source": [
    "# Rename the columns\n",
    "test_rename = test_drop.rename(columns = {\"form_field1\":'Creditworthiness_score',\"form_field2\":'CreditEnquiredRisk',\n",
    "                                            \"form_field3\":'LoanDefaultSeverityAll',\"form_field4\":'LoanDefaultSeverityAuto',\n",
    "                                            \"form_field5\":'LoanDefaultSeverityEdu',\"form_field6\":'MinCreditAvailAfterPayments',\n",
    "                                            \"form_field7\":'MaxCreditAvailActiveAll',\"form_field8\":'MaxCreditAvailAfterPayments',\"form_field9\":'SumOfAvailCreditMissed1Pay',\n",
    "                                            \"form_field10\":'TotalCreditAvailActiveAll',\"form_field11\":'PostDefaultDuesCollectedA500',\n",
    "                                            \"form_field12\":'TotalDueActive',\"form_field13\":'AllAnnualPaidPreviousYear',\n",
    "                                            \"form_field14\":'AnnualIncome',\"form_field15\":'PropertyMarketValue',\n",
    "                                            \"form_field16\":'NumActiveCCardsPaidOffFullCreditUsed',\"form_field17\":'NumActiveCCardsFullCreditUsed',\n",
    "                                            \"form_field18\":'NumActiveFullCLinesFullCreditUsed',\"form_field19\":'NumActiveCCards75pCreditUsed',\n",
    "                                            \"form_field20\":'NumActiveCLines75pCreditUsed',\"form_field21\":'%AverageUseOfCCardLoans',\n",
    "                                            \"form_field22\":'%AverageUseOfCLines2Yrs',\"form_field23\":'%AverageUseOfCCards1Yr',\n",
    "                                            \"form_field24\":'%AverageUseOfCLines6MoMiss1',\"form_field25\":'AverageTenureofActiveRevolveCardsinDays',\n",
    "                                            \"form_field26\":'TenureofOldestCCardsinDays',\"form_field27\":'TenureofOldestRevolvingCCardsinDays',\n",
    "                                            \"form_field28\":'NumOfDaysonlastmissedCLine',\"form_field29\":'TenureofOldestCLineinDays',\n",
    "                                            \"form_field30\":'MaxTenureonAutoLoansinDays',\"form_field31\":'MaxTenureonEduLoansinDays',\n",
    "                                            \"form_field32\":'SumTenureonActiveCCardsinMonth',\"form_field33\":'SumTenureonActiveCLinesinMonth',\n",
    "                                            \"form_field34\":'NumOfCLineslast6MoMiss1', \"form_field35\":'NumOfRevolveCCardslast2YrMiss1',\n",
    "                                            \"form_field36\":'NumActiveCLines',\"form_field37\":'NumCCardsActiveTenure2Yrs',\n",
    "                                            \"form_field38\":'ActivatedCLinesinlast2Yrs',\"form_field39\":'NumActiveCLinesDeliquent',\n",
    "                                            \"form_field40\":'%UseCLinesonEduLoan',\"form_field41\":'%UseCLinesonAutoLoan',\n",
    "                                            \"form_field42\":'FinanceStressIndex',\"form_field43\":'NumberCLinesPaidHighRisk',\n",
    "                                            \"form_field44\":'DebtRatio1Max',\"form_field45\":'NumOfHomeLoansMissed2x',\n",
    "                                            \"form_field46\":'NumOfAutoLoansMissed2x',\"form_field50\":'DebtRatio1Min',\n",
    "                                            'form_field47_charge': 'ProductApplicatn', 'default_status_no': 'default_status'}, inplace = False)"
   ]
  },
  {
   "cell_type": "code",
   "execution_count": 49,
   "metadata": {},
   "outputs": [],
   "source": [
    "#Fill with mean\n",
    "test_rename['Creditworthiness_score'] = test_rename['Creditworthiness_score'].fillna(test_rename['Creditworthiness_score'].mean())"
   ]
  },
  {
   "cell_type": "code",
   "execution_count": 50,
   "metadata": {},
   "outputs": [],
   "source": [
    "test_final = test_rename"
   ]
  },
  {
   "cell_type": "code",
   "execution_count": 51,
   "metadata": {},
   "outputs": [],
   "source": [
    "test_final.fillna(0, inplace=True)"
   ]
  },
  {
   "cell_type": "code",
   "execution_count": 52,
   "metadata": {},
   "outputs": [
    {
     "data": {
      "text/html": [
       "<div>\n",
       "<style scoped>\n",
       "    .dataframe tbody tr th:only-of-type {\n",
       "        vertical-align: middle;\n",
       "    }\n",
       "\n",
       "    .dataframe tbody tr th {\n",
       "        vertical-align: top;\n",
       "    }\n",
       "\n",
       "    .dataframe thead th {\n",
       "        text-align: right;\n",
       "    }\n",
       "</style>\n",
       "<table border=\"1\" class=\"dataframe\">\n",
       "  <thead>\n",
       "    <tr style=\"text-align: right;\">\n",
       "      <th></th>\n",
       "      <th>Applicant_ID</th>\n",
       "      <th>Creditworthiness_score</th>\n",
       "      <th>CreditEnquiredRisk</th>\n",
       "      <th>LoanDefaultSeverityAll</th>\n",
       "      <th>LoanDefaultSeverityAuto</th>\n",
       "      <th>LoanDefaultSeverityEdu</th>\n",
       "      <th>MinCreditAvailAfterPayments</th>\n",
       "      <th>MaxCreditAvailActiveAll</th>\n",
       "      <th>MaxCreditAvailAfterPayments</th>\n",
       "      <th>SumOfAvailCreditMissed1Pay</th>\n",
       "      <th>...</th>\n",
       "      <th>%UseCLinesonAutoLoan</th>\n",
       "      <th>FinanceStressIndex</th>\n",
       "      <th>NumberCLinesPaidHighRisk</th>\n",
       "      <th>DebtRatio1Max</th>\n",
       "      <th>NumOfHomeLoansMissed2x</th>\n",
       "      <th>NumOfAutoLoansMissed2x</th>\n",
       "      <th>form_field48</th>\n",
       "      <th>form_field49</th>\n",
       "      <th>DebtRatio1Min</th>\n",
       "      <th>ProductApplicatn</th>\n",
       "    </tr>\n",
       "  </thead>\n",
       "  <tbody>\n",
       "    <tr>\n",
       "      <td>0</td>\n",
       "      <td>Apcnt_1000032</td>\n",
       "      <td>3236.000000</td>\n",
       "      <td>0.34875</td>\n",
       "      <td>10.2006</td>\n",
       "      <td>0.0000</td>\n",
       "      <td>0.0</td>\n",
       "      <td>418564.0</td>\n",
       "      <td>418564.0</td>\n",
       "      <td>418564.0</td>\n",
       "      <td>540710.0</td>\n",
       "      <td>...</td>\n",
       "      <td>0.0000</td>\n",
       "      <td>0.825000</td>\n",
       "      <td>1.01</td>\n",
       "      <td>0.800000</td>\n",
       "      <td>0.0</td>\n",
       "      <td>0.0</td>\n",
       "      <td>0.000000</td>\n",
       "      <td>0.000000</td>\n",
       "      <td>0.011221</td>\n",
       "      <td>1</td>\n",
       "    </tr>\n",
       "    <tr>\n",
       "      <td>1</td>\n",
       "      <td>Apcnt_1000048</td>\n",
       "      <td>3284.000000</td>\n",
       "      <td>1.27360</td>\n",
       "      <td>2.9606</td>\n",
       "      <td>9.0198</td>\n",
       "      <td>0.0</td>\n",
       "      <td>0.0</td>\n",
       "      <td>9858816.0</td>\n",
       "      <td>49014.0</td>\n",
       "      <td>1510098.0</td>\n",
       "      <td>...</td>\n",
       "      <td>18.8415</td>\n",
       "      <td>0.507694</td>\n",
       "      <td>4.04</td>\n",
       "      <td>0.623248</td>\n",
       "      <td>1.0</td>\n",
       "      <td>0.0</td>\n",
       "      <td>0.000000</td>\n",
       "      <td>0.504974</td>\n",
       "      <td>0.043525</td>\n",
       "      <td>0</td>\n",
       "    </tr>\n",
       "    <tr>\n",
       "      <td>2</td>\n",
       "      <td>Apcnt_1000052</td>\n",
       "      <td>3492.284404</td>\n",
       "      <td>0.27505</td>\n",
       "      <td>0.0600</td>\n",
       "      <td>0.0000</td>\n",
       "      <td>0.0</td>\n",
       "      <td>0.0</td>\n",
       "      <td>0.0</td>\n",
       "      <td>0.0</td>\n",
       "      <td>0.0</td>\n",
       "      <td>...</td>\n",
       "      <td>0.0000</td>\n",
       "      <td>0.000000</td>\n",
       "      <td>0.00</td>\n",
       "      <td>0.000000</td>\n",
       "      <td>0.0</td>\n",
       "      <td>0.0</td>\n",
       "      <td>0.000000</td>\n",
       "      <td>0.000000</td>\n",
       "      <td>0.000000</td>\n",
       "      <td>1</td>\n",
       "    </tr>\n",
       "    <tr>\n",
       "      <td>3</td>\n",
       "      <td>Apcnt_1000076</td>\n",
       "      <td>3232.000000</td>\n",
       "      <td>0.28505</td>\n",
       "      <td>2.8032</td>\n",
       "      <td>0.0000</td>\n",
       "      <td>0.0</td>\n",
       "      <td>0.0</td>\n",
       "      <td>473802.0</td>\n",
       "      <td>473802.0</td>\n",
       "      <td>1724437.0</td>\n",
       "      <td>...</td>\n",
       "      <td>0.0000</td>\n",
       "      <td>0.916663</td>\n",
       "      <td>2.02</td>\n",
       "      <td>0.464224</td>\n",
       "      <td>0.0</td>\n",
       "      <td>0.0</td>\n",
       "      <td>90.163742</td>\n",
       "      <td>0.788809</td>\n",
       "      <td>0.104029</td>\n",
       "      <td>1</td>\n",
       "    </tr>\n",
       "    <tr>\n",
       "      <td>4</td>\n",
       "      <td>Apcnt_1000080</td>\n",
       "      <td>3466.000000</td>\n",
       "      <td>2.09545</td>\n",
       "      <td>0.8318</td>\n",
       "      <td>2.5182</td>\n",
       "      <td>0.0</td>\n",
       "      <td>19839.0</td>\n",
       "      <td>1150662.0</td>\n",
       "      <td>1150662.0</td>\n",
       "      <td>7860523.0</td>\n",
       "      <td>...</td>\n",
       "      <td>0.0000</td>\n",
       "      <td>0.234047</td>\n",
       "      <td>23.23</td>\n",
       "      <td>0.726688</td>\n",
       "      <td>0.0</td>\n",
       "      <td>0.0</td>\n",
       "      <td>1303.587148</td>\n",
       "      <td>1.637733</td>\n",
       "      <td>0.163124</td>\n",
       "      <td>0</td>\n",
       "    </tr>\n",
       "  </tbody>\n",
       "</table>\n",
       "<p>5 rows × 51 columns</p>\n",
       "</div>"
      ],
      "text/plain": [
       "    Applicant_ID  Creditworthiness_score  CreditEnquiredRisk  \\\n",
       "0  Apcnt_1000032             3236.000000             0.34875   \n",
       "1  Apcnt_1000048             3284.000000             1.27360   \n",
       "2  Apcnt_1000052             3492.284404             0.27505   \n",
       "3  Apcnt_1000076             3232.000000             0.28505   \n",
       "4  Apcnt_1000080             3466.000000             2.09545   \n",
       "\n",
       "   LoanDefaultSeverityAll  LoanDefaultSeverityAuto  LoanDefaultSeverityEdu  \\\n",
       "0                 10.2006                   0.0000                     0.0   \n",
       "1                  2.9606                   9.0198                     0.0   \n",
       "2                  0.0600                   0.0000                     0.0   \n",
       "3                  2.8032                   0.0000                     0.0   \n",
       "4                  0.8318                   2.5182                     0.0   \n",
       "\n",
       "   MinCreditAvailAfterPayments  MaxCreditAvailActiveAll  \\\n",
       "0                     418564.0                 418564.0   \n",
       "1                          0.0                9858816.0   \n",
       "2                          0.0                      0.0   \n",
       "3                          0.0                 473802.0   \n",
       "4                      19839.0                1150662.0   \n",
       "\n",
       "   MaxCreditAvailAfterPayments  SumOfAvailCreditMissed1Pay  ...  \\\n",
       "0                     418564.0                    540710.0  ...   \n",
       "1                      49014.0                   1510098.0  ...   \n",
       "2                          0.0                         0.0  ...   \n",
       "3                     473802.0                   1724437.0  ...   \n",
       "4                    1150662.0                   7860523.0  ...   \n",
       "\n",
       "   %UseCLinesonAutoLoan  FinanceStressIndex  NumberCLinesPaidHighRisk  \\\n",
       "0                0.0000            0.825000                      1.01   \n",
       "1               18.8415            0.507694                      4.04   \n",
       "2                0.0000            0.000000                      0.00   \n",
       "3                0.0000            0.916663                      2.02   \n",
       "4                0.0000            0.234047                     23.23   \n",
       "\n",
       "   DebtRatio1Max  NumOfHomeLoansMissed2x  NumOfAutoLoansMissed2x  \\\n",
       "0       0.800000                     0.0                     0.0   \n",
       "1       0.623248                     1.0                     0.0   \n",
       "2       0.000000                     0.0                     0.0   \n",
       "3       0.464224                     0.0                     0.0   \n",
       "4       0.726688                     0.0                     0.0   \n",
       "\n",
       "   form_field48  form_field49  DebtRatio1Min  ProductApplicatn  \n",
       "0      0.000000      0.000000       0.011221                 1  \n",
       "1      0.000000      0.504974       0.043525                 0  \n",
       "2      0.000000      0.000000       0.000000                 1  \n",
       "3     90.163742      0.788809       0.104029                 1  \n",
       "4   1303.587148      1.637733       0.163124                 0  \n",
       "\n",
       "[5 rows x 51 columns]"
      ]
     },
     "execution_count": 52,
     "metadata": {},
     "output_type": "execute_result"
    }
   ],
   "source": [
    "test_final.head()"
   ]
  },
  {
   "cell_type": "code",
   "execution_count": 53,
   "metadata": {},
   "outputs": [],
   "source": [
    "#train_feature.columns"
   ]
  },
  {
   "cell_type": "code",
   "execution_count": 54,
   "metadata": {},
   "outputs": [],
   "source": [
    "#test_final = train_feature[new_columns]"
   ]
  },
  {
   "cell_type": "code",
   "execution_count": 55,
   "metadata": {},
   "outputs": [],
   "source": [
    "#test_final.head()"
   ]
  },
  {
   "cell_type": "code",
   "execution_count": 56,
   "metadata": {},
   "outputs": [
    {
     "data": {
      "text/plain": [
       "Index(['Applicant_ID', 'Creditworthiness_score', 'CreditEnquiredRisk',\n",
       "       'LoanDefaultSeverityAll', 'LoanDefaultSeverityAuto',\n",
       "       'LoanDefaultSeverityEdu', 'MinCreditAvailAfterPayments',\n",
       "       'MaxCreditAvailActiveAll', 'MaxCreditAvailAfterPayments',\n",
       "       'SumOfAvailCreditMissed1Pay', 'TotalCreditAvailActiveAll',\n",
       "       'PostDefaultDuesCollectedA500', 'TotalDueActive',\n",
       "       'AllAnnualPaidPreviousYear', 'AnnualIncome', 'PropertyMarketValue',\n",
       "       'NumActiveCCardsPaidOffFullCreditUsed', 'NumActiveCCardsFullCreditUsed',\n",
       "       'NumActiveFullCLinesFullCreditUsed', 'NumActiveCCards75pCreditUsed',\n",
       "       'NumActiveCLines75pCreditUsed', '%AverageUseOfCCardLoans',\n",
       "       '%AverageUseOfCLines2Yrs', '%AverageUseOfCCards1Yr',\n",
       "       '%AverageUseOfCLines6MoMiss1',\n",
       "       'AverageTenureofActiveRevolveCardsinDays', 'TenureofOldestCCardsinDays',\n",
       "       'TenureofOldestRevolvingCCardsinDays', 'NumOfDaysonlastmissedCLine',\n",
       "       'TenureofOldestCLineinDays', 'MaxTenureonAutoLoansinDays',\n",
       "       'MaxTenureonEduLoansinDays', 'SumTenureonActiveCCardsinMonth',\n",
       "       'SumTenureonActiveCLinesinMonth', 'NumOfCLineslast6MoMiss1',\n",
       "       'NumOfRevolveCCardslast2YrMiss1', 'NumActiveCLines',\n",
       "       'NumCCardsActiveTenure2Yrs', 'ActivatedCLinesinlast2Yrs',\n",
       "       'NumActiveCLinesDeliquent', '%UseCLinesonEduLoan',\n",
       "       '%UseCLinesonAutoLoan', 'FinanceStressIndex',\n",
       "       'NumberCLinesPaidHighRisk', 'DebtRatio1Max', 'NumOfHomeLoansMissed2x',\n",
       "       'NumOfAutoLoansMissed2x', 'form_field48', 'form_field49',\n",
       "       'DebtRatio1Min', 'ProductApplicatn'],\n",
       "      dtype='object')"
      ]
     },
     "execution_count": 56,
     "metadata": {},
     "output_type": "execute_result"
    }
   ],
   "source": [
    "test_final.columns"
   ]
  },
  {
   "cell_type": "code",
   "execution_count": 57,
   "metadata": {},
   "outputs": [],
   "source": [
    "test_final2 = test_final.drop(['Applicant_ID'], axis=1)"
   ]
  },
  {
   "cell_type": "code",
   "execution_count": 58,
   "metadata": {},
   "outputs": [
    {
     "data": {
      "text/plain": [
       "(24000, 50)"
      ]
     },
     "execution_count": 58,
     "metadata": {},
     "output_type": "execute_result"
    }
   ],
   "source": [
    "test_final2.shape"
   ]
  },
  {
   "cell_type": "code",
   "execution_count": 59,
   "metadata": {},
   "outputs": [
    {
     "data": {
      "text/plain": [
       "(56000, 51)"
      ]
     },
     "execution_count": 59,
     "metadata": {},
     "output_type": "execute_result"
    }
   ],
   "source": [
    "train_feature.shape"
   ]
  },
  {
   "cell_type": "code",
   "execution_count": 60,
   "metadata": {},
   "outputs": [],
   "source": [
    "test_final2 = RobustScaler().fit_transform(test_final2)"
   ]
  },
  {
   "cell_type": "code",
   "execution_count": 61,
   "metadata": {},
   "outputs": [],
   "source": [
    "submissions = pd.DataFrame()\n",
    "submissions['Applicant_ID'] = submission['Applicant_ID']"
   ]
  },
  {
   "cell_type": "code",
   "execution_count": 62,
   "metadata": {},
   "outputs": [],
   "source": [
    "# predict with probability of 80 % and above\n",
    "y_pred_proba = logistic_regression.predict_proba(test_final2)[:,1]\n",
    "y_pred = (y_pred_proba >= 0.2).astype('int')\n",
    "submissions['probability (%)'] = y_pred_proba*100"
   ]
  },
  {
   "cell_type": "code",
   "execution_count": 63,
   "metadata": {},
   "outputs": [],
   "source": [
    "submissions['default_status'] = y_pred"
   ]
  },
  {
   "cell_type": "code",
   "execution_count": 64,
   "metadata": {},
   "outputs": [
    {
     "data": {
      "text/html": [
       "<div>\n",
       "<style scoped>\n",
       "    .dataframe tbody tr th:only-of-type {\n",
       "        vertical-align: middle;\n",
       "    }\n",
       "\n",
       "    .dataframe tbody tr th {\n",
       "        vertical-align: top;\n",
       "    }\n",
       "\n",
       "    .dataframe thead th {\n",
       "        text-align: right;\n",
       "    }\n",
       "</style>\n",
       "<table border=\"1\" class=\"dataframe\">\n",
       "  <thead>\n",
       "    <tr style=\"text-align: right;\">\n",
       "      <th></th>\n",
       "      <th>Applicant_ID</th>\n",
       "      <th>probability (%)</th>\n",
       "      <th>default_status</th>\n",
       "    </tr>\n",
       "  </thead>\n",
       "  <tbody>\n",
       "    <tr>\n",
       "      <td>0</td>\n",
       "      <td>Apcnt_1000032</td>\n",
       "      <td>69.716082</td>\n",
       "      <td>1</td>\n",
       "    </tr>\n",
       "    <tr>\n",
       "      <td>1</td>\n",
       "      <td>Apcnt_1000048</td>\n",
       "      <td>60.981353</td>\n",
       "      <td>1</td>\n",
       "    </tr>\n",
       "    <tr>\n",
       "      <td>2</td>\n",
       "      <td>Apcnt_1000052</td>\n",
       "      <td>73.874773</td>\n",
       "      <td>1</td>\n",
       "    </tr>\n",
       "    <tr>\n",
       "      <td>3</td>\n",
       "      <td>Apcnt_1000076</td>\n",
       "      <td>15.243117</td>\n",
       "      <td>0</td>\n",
       "    </tr>\n",
       "    <tr>\n",
       "      <td>4</td>\n",
       "      <td>Apcnt_1000080</td>\n",
       "      <td>92.845085</td>\n",
       "      <td>1</td>\n",
       "    </tr>\n",
       "  </tbody>\n",
       "</table>\n",
       "</div>"
      ],
      "text/plain": [
       "    Applicant_ID  probability (%)  default_status\n",
       "0  Apcnt_1000032        69.716082               1\n",
       "1  Apcnt_1000048        60.981353               1\n",
       "2  Apcnt_1000052        73.874773               1\n",
       "3  Apcnt_1000076        15.243117               0\n",
       "4  Apcnt_1000080        92.845085               1"
      ]
     },
     "execution_count": 64,
     "metadata": {},
     "output_type": "execute_result"
    }
   ],
   "source": [
    "submissions.head()"
   ]
  },
  {
   "cell_type": "code",
   "execution_count": 65,
   "metadata": {},
   "outputs": [],
   "source": [
    "submissions.to_csv('submissions_1.csv', index=False)"
   ]
  },
  {
   "cell_type": "code",
   "execution_count": null,
   "metadata": {},
   "outputs": [],
   "source": []
  }
 ],
 "metadata": {
  "kernelspec": {
   "display_name": "Python 3",
   "language": "python",
   "name": "python3"
  },
  "language_info": {
   "codemirror_mode": {
    "name": "ipython",
    "version": 3
   },
   "file_extension": ".py",
   "mimetype": "text/x-python",
   "name": "python",
   "nbconvert_exporter": "python",
   "pygments_lexer": "ipython3",
   "version": "3.7.4"
  }
 },
 "nbformat": 4,
 "nbformat_minor": 2
}
