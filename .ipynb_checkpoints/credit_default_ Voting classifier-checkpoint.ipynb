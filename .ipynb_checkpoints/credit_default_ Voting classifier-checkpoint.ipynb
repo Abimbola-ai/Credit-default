{
 "cells": [
  {
   "cell_type": "code",
   "execution_count": 1,
   "metadata": {},
   "outputs": [
    {
     "name": "stderr",
     "output_type": "stream",
     "text": [
      "/Applications/anaconda3/lib/python3.7/site-packages/lightgbm/__init__.py:48: UserWarning: Starting from version 2.2.1, the library file in distribution wheels for macOS is built by the Apple Clang (Xcode_8.3.3) compiler.\n",
      "This means that in case of installing LightGBM from PyPI via the ``pip install lightgbm`` command, you don't need to install the gcc compiler anymore.\n",
      "Instead of that, you need to install the OpenMP library, which is required for running LightGBM on the system with the Apple Clang compiler.\n",
      "You can install the OpenMP library by the following command: ``brew install libomp``.\n",
      "  \"You can install the OpenMP library by the following command: ``brew install libomp``.\", UserWarning)\n"
     ]
    }
   ],
   "source": [
    "import pandas as pd\n",
    "import numpy as np\n",
    "\n",
    "import matplotlib.pyplot as plt\n",
    "import seaborn as sns\n",
    "from sklearn.metrics import roc_auc_score\n",
    "from sklearn.model_selection import KFold\n",
    "from lightgbm import LGBMClassifier\n",
    "from sklearn.model_selection import train_test_split, StratifiedShuffleSplit, cross_val_score, KFold, GridSearchCV, StratifiedKFold\n",
    "from sklearn.metrics import balanced_accuracy_score, auc, mean_squared_error, roc_curve, confusion_matrix, precision_score, recall_score, f1_score,\\\n",
    "log_loss, roc_auc_score\n",
    "import gc\n",
    "from sklearn.preprocessing import LabelEncoder\n",
    "from catboost import CatBoostClassifier, Pool, cv\n",
    "import hyperopt\n",
    "from sklearn.ensemble import ExtraTreesClassifier, RandomForestClassifier,VotingClassifier,AdaBoostClassifier,GradientBoostingClassifier\n",
    "from sklearn.feature_selection import SelectFromModel\n",
    "from sklearn.metrics import confusion_matrix\n",
    "import xgboost as xgb\n",
    "from sklearn.model_selection import RepeatedStratifiedKFold\n",
    "\n",
    "#tuning hyperparameters\n",
    "from bayes_opt import BayesianOptimization\n",
    "from skopt  import BayesSearchCV \n",
    "from skopt.callbacks import DeadlineStopper, VerboseCallback, DeltaXStopper\n",
    "from skopt.space import Real, Categorical, Integer\n",
    "from time import time"
   ]
  },
  {
   "cell_type": "code",
   "execution_count": 2,
   "metadata": {},
   "outputs": [],
   "source": [
    "test = pd.read_csv(\"test_fill.csv\", sep=',', index_col=[0])\n",
    "train = pd.read_csv(\"train_fill.csv\", sep = ',', index_col=[0])\n",
    "submission = pd.read_csv(\"submission.csv\", sep=',',index_col=[0])\n"
   ]
  },
  {
   "cell_type": "code",
   "execution_count": 3,
   "metadata": {},
   "outputs": [
    {
     "name": "stdout",
     "output_type": "stream",
     "text": [
      "(24000, 51) (56000, 52) (24000, 2)\n"
     ]
    }
   ],
   "source": [
    "print(test.shape, train.shape,submission.shape)"
   ]
  },
  {
   "cell_type": "code",
   "execution_count": 4,
   "metadata": {},
   "outputs": [],
   "source": [
    "#train.head()\n"
   ]
  },
  {
   "cell_type": "code",
   "execution_count": 5,
   "metadata": {},
   "outputs": [],
   "source": [
    "#test.head()"
   ]
  },
  {
   "cell_type": "code",
   "execution_count": 6,
   "metadata": {},
   "outputs": [],
   "source": [
    "#train.describe().T"
   ]
  },
  {
   "cell_type": "code",
   "execution_count": 7,
   "metadata": {},
   "outputs": [],
   "source": [
    "target = train[['default_status']]"
   ]
  },
  {
   "cell_type": "code",
   "execution_count": 8,
   "metadata": {},
   "outputs": [],
   "source": [
    "test_d = test.drop(['Applicant_ID'], axis=1)"
   ]
  },
  {
   "cell_type": "code",
   "execution_count": 9,
   "metadata": {},
   "outputs": [],
   "source": [
    "train_d = train.drop(['default_status', 'Applicant_ID'], axis=1)"
   ]
  },
  {
   "cell_type": "code",
   "execution_count": 10,
   "metadata": {},
   "outputs": [
    {
     "name": "stdout",
     "output_type": "stream",
     "text": [
      "(56000, 50) (24000, 50)\n"
     ]
    }
   ],
   "source": [
    "print(train_d.shape, test_d.shape)"
   ]
  },
  {
   "cell_type": "code",
   "execution_count": 11,
   "metadata": {},
   "outputs": [],
   "source": [
    "X = train_d.values\n",
    "y = target.values"
   ]
  },
  {
   "cell_type": "code",
   "execution_count": 12,
   "metadata": {},
   "outputs": [],
   "source": [
    "best_params ={'bagging_temperature': 0.41010395885331385,\n",
    "             'border_count': 186,\n",
    "             'depth': 8,\n",
    "             'iterations': 323,\n",
    "             'l2_leaf_reg': 21,\n",
    "             'learning_rate': 0.0673344419215237,\n",
    "             'random_strength': 4,\n",
    "             'scale_pos_weight': 0.7421091918485163}"
   ]
  },
  {
   "cell_type": "code",
   "execution_count": 13,
   "metadata": {},
   "outputs": [],
   "source": [
    "#categorical_features_indices = np.where(X.dtypes != np.float)[0]"
   ]
  },
  {
   "cell_type": "code",
   "execution_count": 14,
   "metadata": {},
   "outputs": [],
   "source": [
    "xtrain,xtest,ytrain,ytest = train_test_split(X,y,train_size=.85,random_state=42)"
   ]
  },
  {
   "cell_type": "code",
   "execution_count": 15,
   "metadata": {},
   "outputs": [],
   "source": [
    "rand = 42\n",
    "\n",
    "clf1 = LGBMClassifier(n_estimators=1100,\n",
    "        learning_rate=0.01,\n",
    "        reg_lambda=30,\n",
    "        feature_fraction = 0.4, \n",
    "        num_leaves = 50, \n",
    "        max_depth = 50, random_state = rand)\n",
    "\n",
    "clf2 = CatBoostClassifier(**best_params,od_type='Iter',eval_metric = 'AUC', loss_function = 'Logloss',random_state = rand)\n",
    "\n",
    "clf3 = xgb.XGBClassifier(n_estimators = 1200, learning_rate = 0.01,  reg_lambda = 10, random_state = rand,\n",
    "                             max_depth = 7, objective = \"binary:logistic\")"
   ]
  },
  {
   "cell_type": "code",
   "execution_count": 16,
   "metadata": {},
   "outputs": [],
   "source": [
    "\n",
    "\n",
    "from sklearn.ensemble import VotingClassifier\n",
    "\n",
    "ensemble = VotingClassifier(estimators = [('lgb', clf1), ('cat', clf2), ('xgb', clf3)], voting = 'soft', weights = [2, 1, 1])"
   ]
  },
  {
   "cell_type": "code",
   "execution_count": 25,
   "metadata": {
    "scrolled": false
   },
   "outputs": [],
   "source": [
    "# from numpy import mean\n",
    "# from numpy import std\n",
    "\n",
    "\n",
    "# fold = StratifiedKFold(n_splits= 5, shuffle= True, random_state= rand)\n",
    "\n",
    "\n",
    "# n_scores = cross_val_score(ensemble, train_d,target['default_status'].ravel(), cv= fold, scoring = 'roc_auc')\n",
    "\n",
    "\n",
    "# print(\"Scores:\", n_scores)\n",
    "# print(\"Mean:\", n_scores.mean())\n",
    "# print(\"Standard Deviation:\", n_scores.std())\n",
    "\n",
    "\n",
    "              "
   ]
  },
  {
   "cell_type": "code",
   "execution_count": 26,
   "metadata": {},
   "outputs": [],
   "source": [
    "#ensemble.fit(train_d,target['default_status'].ravel())"
   ]
  },
  {
   "cell_type": "code",
   "execution_count": 19,
   "metadata": {},
   "outputs": [],
   "source": [
    "## Got a value of 0.836, not dropping correlated functions gave a score of 0.843 , \n",
    "#fillallna with -999 score = 0.8435"
   ]
  },
  {
   "cell_type": "code",
   "execution_count": 21,
   "metadata": {},
   "outputs": [],
   "source": [
    "pred = ensemble.predict_proba(test_d)[:,1]"
   ]
  },
  {
   "cell_type": "code",
   "execution_count": 22,
   "metadata": {},
   "outputs": [
    {
     "data": {
      "text/plain": [
       "array([0.28648567, 0.32078719, 0.37379826, ..., 0.23578485, 0.5126547 ,\n",
       "       0.15535365])"
      ]
     },
     "execution_count": 22,
     "metadata": {},
     "output_type": "execute_result"
    }
   ],
   "source": [
    "pred"
   ]
  },
  {
   "cell_type": "code",
   "execution_count": 24,
   "metadata": {},
   "outputs": [],
   "source": [
    "submissions = pd.DataFrame()\n",
    "submissions['Applicant_ID'] = test['Applicant_ID']\n",
    "submissions['default_status'] = pred\n",
    "submissions.to_csv('submission_13_vc.csv', index=False, float_format='%.8f')"
   ]
  },
  {
   "cell_type": "markdown",
   "metadata": {},
   "source": [
    "### Score of 0.8442 but time was out ....ouch"
   ]
  },
  {
   "cell_type": "markdown",
   "metadata": {},
   "source": [
    "## Blending"
   ]
  },
  {
   "cell_type": "code",
   "execution_count": null,
   "metadata": {},
   "outputs": [],
   "source": [
    "# df_base0 = pd.read_csv('submission_13_5.csv',names=[\"Applicant_ID\",\"default_status\"], skiprows=[0],header=None)\n",
    "# df_base1 = pd.read_csv('submission_15.csv',names=[\"Applicant_ID\",\"default_status\"], skiprows=[0],header=None)\n",
    "# df_base2 = pd.read_csv('submission_11.csv',names=[\"Applicant_ID\",\"default_status\"], skiprows=[0],header=None)\n",
    "# df_base3 = pd.read_csv('submission_13_4.csv',names=[\"Applicant_ID\",\"default_status\"], skiprows=[0],header=None)"
   ]
  },
  {
   "cell_type": "code",
   "execution_count": null,
   "metadata": {},
   "outputs": [],
   "source": [
    "# df_base = pd.merge(df_base0,df_base1,how='inner',on='Applicant_ID')\n",
    "# df_base = pd.merge(df_base,df_base2,how='inner',on='Applicant_ID')\n",
    "# df_base = pd.merge(df_base,df_base3,how='inner',on='Applicant_ID')"
   ]
  },
  {
   "cell_type": "code",
   "execution_count": null,
   "metadata": {},
   "outputs": [],
   "source": [
    "# df_base"
   ]
  },
  {
   "cell_type": "code",
   "execution_count": null,
   "metadata": {},
   "outputs": [],
   "source": [
    "#CORRELATION MATRIX (Pearson Correlation to measure how similar are 2 solutions)\n",
    "# plt.figure(figsize=(20,20))\n",
    "# sns.heatmap(df_base.iloc[:,1:].corr(),annot=True,fmt=\".2f\")"
   ]
  },
  {
   "cell_type": "code",
   "execution_count": null,
   "metadata": {},
   "outputs": [],
   "source": [
    "#SOLUTION = MEAN OF COLUMNS\n",
    "# df_base['default_status'] = df_base.iloc[:,1:].mean(axis=1)"
   ]
  },
  {
   "cell_type": "code",
   "execution_count": null,
   "metadata": {},
   "outputs": [],
   "source": [
    "#GENERATING FINAL SOLUTION\n",
    "# df_base[['Applicant_ID','default_status']].to_csv(\"blending.csv\",index=False)"
   ]
  },
  {
   "cell_type": "code",
   "execution_count": null,
   "metadata": {},
   "outputs": [],
   "source": []
  }
 ],
 "metadata": {
  "kernelspec": {
   "display_name": "Python 3",
   "language": "python",
   "name": "python3"
  },
  "language_info": {
   "codemirror_mode": {
    "name": "ipython",
    "version": 3
   },
   "file_extension": ".py",
   "mimetype": "text/x-python",
   "name": "python",
   "nbconvert_exporter": "python",
   "pygments_lexer": "ipython3",
   "version": "3.7.4"
  }
 },
 "nbformat": 4,
 "nbformat_minor": 2
}
