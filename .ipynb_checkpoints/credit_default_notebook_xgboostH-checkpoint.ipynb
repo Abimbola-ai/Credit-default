{
 "cells": [
  {
   "cell_type": "code",
   "execution_count": 1,
   "metadata": {},
   "outputs": [],
   "source": [
    "#Import necessary libraries\n",
    "import pandas as pd\n",
    "import seaborn as sns\n",
    "import matplotlib.pyplot as plt\n",
    "import numpy as np\n",
    "import itertools\n",
    "import matplotlib.gridspec as gridspec\n",
    "import warnings\n",
    "warnings.filterwarnings('ignore')\n",
    "\n",
    "%matplotlib inline"
   ]
  },
  {
   "cell_type": "code",
   "execution_count": 2,
   "metadata": {},
   "outputs": [],
   "source": [
    "test = pd.read_csv(\"test.csv\", sep=',',index_col=[0])\n",
    "train = pd.read_csv(\"train.csv\", sep = ',',index_col=[0])\n",
    "submission = pd.read_csv(\"submission.csv\", sep=',',index_col=[0])"
   ]
  },
  {
   "cell_type": "code",
   "execution_count": 3,
   "metadata": {},
   "outputs": [
    {
     "data": {
      "text/html": [
       "<div>\n",
       "<style scoped>\n",
       "    .dataframe tbody tr th:only-of-type {\n",
       "        vertical-align: middle;\n",
       "    }\n",
       "\n",
       "    .dataframe tbody tr th {\n",
       "        vertical-align: top;\n",
       "    }\n",
       "\n",
       "    .dataframe thead th {\n",
       "        text-align: right;\n",
       "    }\n",
       "</style>\n",
       "<table border=\"1\" class=\"dataframe\">\n",
       "  <thead>\n",
       "    <tr style=\"text-align: right;\">\n",
       "      <th></th>\n",
       "      <th>Applicant_ID</th>\n",
       "      <th>form_field1</th>\n",
       "      <th>form_field2</th>\n",
       "      <th>form_field3</th>\n",
       "      <th>form_field4</th>\n",
       "      <th>form_field5</th>\n",
       "      <th>form_field6</th>\n",
       "      <th>form_field7</th>\n",
       "      <th>form_field8</th>\n",
       "      <th>form_field9</th>\n",
       "      <th>...</th>\n",
       "      <th>form_field41</th>\n",
       "      <th>form_field42</th>\n",
       "      <th>form_field43</th>\n",
       "      <th>form_field44</th>\n",
       "      <th>form_field45</th>\n",
       "      <th>form_field46</th>\n",
       "      <th>form_field47</th>\n",
       "      <th>form_field48</th>\n",
       "      <th>form_field49</th>\n",
       "      <th>form_field50</th>\n",
       "    </tr>\n",
       "  </thead>\n",
       "  <tbody>\n",
       "    <tr>\n",
       "      <td>0</td>\n",
       "      <td>Apcnt_1000032</td>\n",
       "      <td>3236.0</td>\n",
       "      <td>0.34875</td>\n",
       "      <td>10.2006</td>\n",
       "      <td>0.0000</td>\n",
       "      <td>0.0</td>\n",
       "      <td>418564.0</td>\n",
       "      <td>418564.0</td>\n",
       "      <td>418564.0</td>\n",
       "      <td>540710.0</td>\n",
       "      <td>...</td>\n",
       "      <td>NaN</td>\n",
       "      <td>0.825000</td>\n",
       "      <td>1.01</td>\n",
       "      <td>0.800000</td>\n",
       "      <td>NaN</td>\n",
       "      <td>0.0</td>\n",
       "      <td>charge</td>\n",
       "      <td>NaN</td>\n",
       "      <td>0.000000</td>\n",
       "      <td>0.011221</td>\n",
       "    </tr>\n",
       "    <tr>\n",
       "      <td>1</td>\n",
       "      <td>Apcnt_1000048</td>\n",
       "      <td>3284.0</td>\n",
       "      <td>1.27360</td>\n",
       "      <td>2.9606</td>\n",
       "      <td>9.0198</td>\n",
       "      <td>0.0</td>\n",
       "      <td>0.0</td>\n",
       "      <td>9858816.0</td>\n",
       "      <td>49014.0</td>\n",
       "      <td>1510098.0</td>\n",
       "      <td>...</td>\n",
       "      <td>18.8415</td>\n",
       "      <td>0.507694</td>\n",
       "      <td>4.04</td>\n",
       "      <td>0.623248</td>\n",
       "      <td>1.0</td>\n",
       "      <td>0.0</td>\n",
       "      <td>lending</td>\n",
       "      <td>NaN</td>\n",
       "      <td>0.504974</td>\n",
       "      <td>0.043525</td>\n",
       "    </tr>\n",
       "    <tr>\n",
       "      <td>2</td>\n",
       "      <td>Apcnt_1000052</td>\n",
       "      <td>NaN</td>\n",
       "      <td>0.27505</td>\n",
       "      <td>0.0600</td>\n",
       "      <td>0.0000</td>\n",
       "      <td>0.0</td>\n",
       "      <td>NaN</td>\n",
       "      <td>NaN</td>\n",
       "      <td>NaN</td>\n",
       "      <td>NaN</td>\n",
       "      <td>...</td>\n",
       "      <td>NaN</td>\n",
       "      <td>NaN</td>\n",
       "      <td>0.00</td>\n",
       "      <td>NaN</td>\n",
       "      <td>NaN</td>\n",
       "      <td>NaN</td>\n",
       "      <td>charge</td>\n",
       "      <td>NaN</td>\n",
       "      <td>0.000000</td>\n",
       "      <td>NaN</td>\n",
       "    </tr>\n",
       "    <tr>\n",
       "      <td>3</td>\n",
       "      <td>Apcnt_1000076</td>\n",
       "      <td>3232.0</td>\n",
       "      <td>0.28505</td>\n",
       "      <td>2.8032</td>\n",
       "      <td>0.0000</td>\n",
       "      <td>0.0</td>\n",
       "      <td>0.0</td>\n",
       "      <td>473802.0</td>\n",
       "      <td>473802.0</td>\n",
       "      <td>1724437.0</td>\n",
       "      <td>...</td>\n",
       "      <td>NaN</td>\n",
       "      <td>0.916663</td>\n",
       "      <td>2.02</td>\n",
       "      <td>0.464224</td>\n",
       "      <td>NaN</td>\n",
       "      <td>NaN</td>\n",
       "      <td>charge</td>\n",
       "      <td>90.163742</td>\n",
       "      <td>0.788809</td>\n",
       "      <td>0.104029</td>\n",
       "    </tr>\n",
       "    <tr>\n",
       "      <td>4</td>\n",
       "      <td>Apcnt_1000080</td>\n",
       "      <td>3466.0</td>\n",
       "      <td>2.09545</td>\n",
       "      <td>0.8318</td>\n",
       "      <td>2.5182</td>\n",
       "      <td>0.0</td>\n",
       "      <td>19839.0</td>\n",
       "      <td>1150662.0</td>\n",
       "      <td>1150662.0</td>\n",
       "      <td>7860523.0</td>\n",
       "      <td>...</td>\n",
       "      <td>NaN</td>\n",
       "      <td>0.234047</td>\n",
       "      <td>23.23</td>\n",
       "      <td>0.726688</td>\n",
       "      <td>0.0</td>\n",
       "      <td>0.0</td>\n",
       "      <td>lending</td>\n",
       "      <td>1303.587148</td>\n",
       "      <td>1.637733</td>\n",
       "      <td>0.163124</td>\n",
       "    </tr>\n",
       "  </tbody>\n",
       "</table>\n",
       "<p>5 rows × 51 columns</p>\n",
       "</div>"
      ],
      "text/plain": [
       "    Applicant_ID  form_field1  form_field2  form_field3  form_field4  \\\n",
       "0  Apcnt_1000032       3236.0      0.34875      10.2006       0.0000   \n",
       "1  Apcnt_1000048       3284.0      1.27360       2.9606       9.0198   \n",
       "2  Apcnt_1000052          NaN      0.27505       0.0600       0.0000   \n",
       "3  Apcnt_1000076       3232.0      0.28505       2.8032       0.0000   \n",
       "4  Apcnt_1000080       3466.0      2.09545       0.8318       2.5182   \n",
       "\n",
       "   form_field5  form_field6  form_field7  form_field8  form_field9  ...  \\\n",
       "0          0.0     418564.0     418564.0     418564.0     540710.0  ...   \n",
       "1          0.0          0.0    9858816.0      49014.0    1510098.0  ...   \n",
       "2          0.0          NaN          NaN          NaN          NaN  ...   \n",
       "3          0.0          0.0     473802.0     473802.0    1724437.0  ...   \n",
       "4          0.0      19839.0    1150662.0    1150662.0    7860523.0  ...   \n",
       "\n",
       "   form_field41  form_field42  form_field43  form_field44  form_field45  \\\n",
       "0           NaN      0.825000          1.01      0.800000           NaN   \n",
       "1       18.8415      0.507694          4.04      0.623248           1.0   \n",
       "2           NaN           NaN          0.00           NaN           NaN   \n",
       "3           NaN      0.916663          2.02      0.464224           NaN   \n",
       "4           NaN      0.234047         23.23      0.726688           0.0   \n",
       "\n",
       "   form_field46  form_field47  form_field48  form_field49  form_field50  \n",
       "0           0.0        charge           NaN      0.000000      0.011221  \n",
       "1           0.0       lending           NaN      0.504974      0.043525  \n",
       "2           NaN        charge           NaN      0.000000           NaN  \n",
       "3           NaN        charge     90.163742      0.788809      0.104029  \n",
       "4           0.0       lending   1303.587148      1.637733      0.163124  \n",
       "\n",
       "[5 rows x 51 columns]"
      ]
     },
     "execution_count": 3,
     "metadata": {},
     "output_type": "execute_result"
    }
   ],
   "source": [
    "test.head()"
   ]
  },
  {
   "cell_type": "code",
   "execution_count": 4,
   "metadata": {},
   "outputs": [],
   "source": [
    "#train.dtypes"
   ]
  },
  {
   "cell_type": "code",
   "execution_count": 5,
   "metadata": {},
   "outputs": [],
   "source": [
    "test.to_csv('test.csv')\n",
    "train.to_csv('train.csv')\n",
    "submission.to_csv('submission.csv')"
   ]
  },
  {
   "cell_type": "code",
   "execution_count": 6,
   "metadata": {},
   "outputs": [],
   "source": [
    "#train.head().T"
   ]
  },
  {
   "cell_type": "code",
   "execution_count": 7,
   "metadata": {},
   "outputs": [],
   "source": [
    "# Convert ff47 and ff50 categorical variables to 0 and 1\n",
    "new_train = pd.get_dummies(train, columns=['form_field47','default_status'])"
   ]
  },
  {
   "cell_type": "code",
   "execution_count": 8,
   "metadata": {},
   "outputs": [],
   "source": [
    "# Drop duplicate columns\n",
    "train_drop = new_train.drop(['form_field47_lending','default_status_yes'], axis=1)"
   ]
  },
  {
   "cell_type": "code",
   "execution_count": 9,
   "metadata": {},
   "outputs": [],
   "source": [
    "# Rename the columns\n",
    "train_rename = train_drop.rename(columns = {\"form_field1\":'Creditworthiness_score',\"form_field2\":'CreditEnquiredRisk',\n",
    "                                            \"form_field3\":'LoanDefaultSeverityAll',\"form_field4\":'LoanDefaultSeverityAuto',\n",
    "                                            \"form_field5\":'LoanDefaultSeverityEdu',\"form_field6\":'MinCreditAvailAfterPayments',\n",
    "                                            \"form_field7\":'MaxCreditAvailActiveAll',\"form_field8\":'MaxCreditAvailAfterPayments',\"form_field9\":'SumOfAvailCreditMissed1Pay',\n",
    "                                            \"form_field10\":'TotalCreditAvailActiveAll',\"form_field11\":'PostDefaultDuesCollectedA500',\n",
    "                                            \"form_field12\":'TotalDueActive',\"form_field13\":'AllAnnualPaidPreviousYear',\n",
    "                                            \"form_field14\":'AnnualIncome',\"form_field15\":'PropertyMarketValue',\n",
    "                                            \"form_field16\":'NumActiveCCardsPaidOffFullCreditUsed',\"form_field17\":'NumActiveCCardsFullCreditUsed',\n",
    "                                            \"form_field18\":'NumActiveFullCLinesFullCreditUsed',\"form_field19\":'NumActiveCCards75pCreditUsed',\n",
    "                                            \"form_field20\":'NumActiveCLines75pCreditUsed',\"form_field21\":'%AverageUseOfCCardLoans',\n",
    "                                            \"form_field22\":'%AverageUseOfCLines2Yrs',\"form_field23\":'%AverageUseOfCCards1Yr',\n",
    "                                            \"form_field24\":'%AverageUseOfCLines6MoMiss1',\"form_field25\":'AverageTenureofActiveRevolveCardsinDays',\n",
    "                                            \"form_field26\":'TenureofOldestCCardsinDays',\"form_field27\":'TenureofOldestRevolvingCCardsinDays',\n",
    "                                            \"form_field28\":'NumOfDaysonlastmissedCLine',\"form_field29\":'TenureofOldestCLineinDays',\n",
    "                                            \"form_field30\":'MaxTenureonAutoLoansinDays',\"form_field31\":'MaxTenureonEduLoansinDays',\n",
    "                                            \"form_field32\":'SumTenureonActiveCCardsinMonth',\"form_field33\":'SumTenureonActiveCLinesinMonth',\n",
    "                                            \"form_field34\":'NumOfCLineslast6MoMiss1', \"form_field35\":'NumOfRevolveCCardslast2YrMiss1',\n",
    "                                            \"form_field36\":'NumActiveCLines',\"form_field37\":'NumCCardsActiveTenure2Yrs',\n",
    "                                            \"form_field38\":'ActivatedCLinesinlast2Yrs',\"form_field39\":'NumActiveCLinesDeliquent',\n",
    "                                            \"form_field40\":'%UseCLinesonEduLoan',\"form_field41\":'%UseCLinesonAutoLoan',\n",
    "                                            \"form_field42\":'FinanceStressIndex',\"form_field43\":'NumberCLinesPaidHighRisk',\n",
    "                                            \"form_field44\":'DebtRatio1Max',\"form_field45\":'NumOfHomeLoansMissed2x',\n",
    "                                            \"form_field46\":'NumOfAutoLoansMissed2x',\"form_field50\":'DebtRatio1Min',\n",
    "                                            'form_field47_charge': 'ProductApplicatn', 'default_status_no': 'default_status'}, inplace = False)"
   ]
  },
  {
   "cell_type": "code",
   "execution_count": 10,
   "metadata": {},
   "outputs": [],
   "source": [
    "# Begin cleaning process\n",
    "#Fill with mean\n",
    "train_rename['Creditworthiness_score'] = train_rename['Creditworthiness_score'].fillna(train_rename['Creditworthiness_score'].mean())\n",
    "\n"
   ]
  },
  {
   "cell_type": "code",
   "execution_count": 11,
   "metadata": {},
   "outputs": [],
   "source": [
    "train_final = train_rename.dropna()"
   ]
  },
  {
   "cell_type": "code",
   "execution_count": 12,
   "metadata": {},
   "outputs": [],
   "source": [
    "#train_final.fillna(0, inplace=True)"
   ]
  },
  {
   "cell_type": "code",
   "execution_count": 13,
   "metadata": {},
   "outputs": [
    {
     "data": {
      "text/plain": [
       "(195, 52)"
      ]
     },
     "execution_count": 13,
     "metadata": {},
     "output_type": "execute_result"
    }
   ],
   "source": [
    "train_final.shape"
   ]
  },
  {
   "cell_type": "code",
   "execution_count": 14,
   "metadata": {},
   "outputs": [],
   "source": [
    "#train_rename.tail(20)"
   ]
  },
  {
   "cell_type": "code",
   "execution_count": 15,
   "metadata": {},
   "outputs": [],
   "source": [
    "#train_rename['Creditworthiness_score'] = pd.to_numeric(train_rename['Creditworthiness_score'], errors='coerce')"
   ]
  },
  {
   "cell_type": "code",
   "execution_count": 16,
   "metadata": {},
   "outputs": [],
   "source": [
    "#train_rename.isnull().sum() #Investigate each variable to determine what to do with the null values"
   ]
  },
  {
   "cell_type": "code",
   "execution_count": 17,
   "metadata": {},
   "outputs": [],
   "source": [
    "#train_rename.isnull()==True"
   ]
  },
  {
   "cell_type": "code",
   "execution_count": 18,
   "metadata": {},
   "outputs": [],
   "source": [
    "#Exploratory data analysis\n",
    "#train_rename.describe().T"
   ]
  },
  {
   "cell_type": "code",
   "execution_count": 19,
   "metadata": {},
   "outputs": [],
   "source": [
    "#train_rename.head(20)"
   ]
  },
  {
   "cell_type": "code",
   "execution_count": 20,
   "metadata": {},
   "outputs": [
    {
     "data": {
      "text/plain": [
       "1    0.755089\n",
       "0    0.244911\n",
       "Name: default_status, dtype: float64"
      ]
     },
     "execution_count": 20,
     "metadata": {},
     "output_type": "execute_result"
    }
   ],
   "source": [
    "train_rename['default_status'].value_counts(normalize=True)"
   ]
  },
  {
   "cell_type": "code",
   "execution_count": 21,
   "metadata": {},
   "outputs": [],
   "source": [
    "#train_rename.info()"
   ]
  },
  {
   "cell_type": "code",
   "execution_count": 22,
   "metadata": {},
   "outputs": [],
   "source": [
    "#Fill with mode\n",
    "#cols = ['LoanDefaultSeverityAll','LoanDefaultSeverityAuto', 'LoanDefaultSeverityEdu']\n",
    "#train_rename['LoanDefaultSeverityAll'] = train_rename['LoanDefaultSeverityAll'].fillna(train_rename['LoanDefaultSeverityAll'].mode()[0])\n",
    "#train_rename['LoanDefaultSeverityAuto'].fillna(train_rename['LoanDefaultSeverityAuto'].mode()[0])\n",
    "#train_rename['LoanDefaultSeverityEdu'].fillna(train_rename['LoanDefaultSeverityEdu'].mode()[0])\n",
    "\n",
    "#Fill with zero\n",
    "#train_rename[cols]=train_rename.filter(cols).fillna(mode.iloc[0])\n"
   ]
  },
  {
   "cell_type": "code",
   "execution_count": 23,
   "metadata": {},
   "outputs": [],
   "source": [
    "train_feature = train_final.drop(['Applicant_ID'], axis=1)"
   ]
  },
  {
   "cell_type": "markdown",
   "metadata": {},
   "source": [
    "## Model"
   ]
  },
  {
   "cell_type": "code",
   "execution_count": 24,
   "metadata": {},
   "outputs": [],
   "source": [
    "from sklearn.preprocessing import StandardScaler, MinMaxScaler\n",
    "from sklearn.model_selection import train_test_split\n",
    "from sklearn.metrics import accuracy_score, precision_score, recall_score, confusion_matrix, precision_recall_curve, f1_score\n",
    "from sklearn.decomposition import PCA\n",
    "from sklearn import linear_model\n",
    "from sklearn.pipeline import Pipeline\n",
    "from sklearn.preprocessing import RobustScaler"
   ]
  },
  {
   "cell_type": "code",
   "execution_count": 25,
   "metadata": {},
   "outputs": [],
   "source": [
    "#Values for predictor, dropping off the target\n",
    "X = train_feature.drop(['default_status'], axis=1)\n",
    "\n",
    "#Values for target\n",
    "y = train_feature['default_status'].values # y is output (or dependent) variable\n",
    "\n",
    "# Standardize the data\n",
    "X = RobustScaler().fit_transform(X)"
   ]
  },
  {
   "cell_type": "code",
   "execution_count": 26,
   "metadata": {},
   "outputs": [],
   "source": [
    "number_features = len(train_feature.columns)"
   ]
  },
  {
   "cell_type": "code",
   "execution_count": 27,
   "metadata": {},
   "outputs": [
    {
     "data": {
      "text/plain": [
       "51"
      ]
     },
     "execution_count": 27,
     "metadata": {},
     "output_type": "execute_result"
    }
   ],
   "source": [
    "number_features"
   ]
  },
  {
   "cell_type": "code",
   "execution_count": 28,
   "metadata": {},
   "outputs": [
    {
     "data": {
      "text/plain": [
       "PCA()"
      ]
     },
     "execution_count": 28,
     "metadata": {},
     "output_type": "execute_result"
    }
   ],
   "source": [
    "pca=PCA()                                    \n",
    "pca.fit(X)  "
   ]
  },
  {
   "cell_type": "code",
   "execution_count": 29,
   "metadata": {},
   "outputs": [
    {
     "data": {
      "text/plain": [
       "array([[ 8.61858608e-09,  1.17305261e-08,  1.48155565e-09, ...,\n",
       "        -8.75814101e-11,  1.00000000e+00, -7.84169669e-09],\n",
       "       [ 3.95967973e-05,  7.41744301e-07, -4.39840107e-05, ...,\n",
       "        -1.46831409e-05,  2.57190784e-06, -1.20218284e-05],\n",
       "       [ 7.08519903e-03, -1.82649697e-03, -1.07708222e-02, ...,\n",
       "         6.36838654e-04,  6.48379660e-08, -2.23450153e-03],\n",
       "       ...,\n",
       "       [-3.41301049e-03, -2.37648523e-02,  8.58457482e-03, ...,\n",
       "         4.54166056e-02, -1.47279491e-09, -1.04408438e-01],\n",
       "       [ 2.87964538e-03, -1.41405927e-02, -5.86589215e-02, ...,\n",
       "        -2.36559453e-02,  6.94917773e-10, -2.10472426e-02],\n",
       "       [ 5.99537237e-03, -9.18124413e-03, -1.66406126e-02, ...,\n",
       "        -1.34551540e-02, -7.00041899e-11,  9.11799733e-03]])"
      ]
     },
     "execution_count": 29,
     "metadata": {},
     "output_type": "execute_result"
    }
   ],
   "source": [
    "PCA(copy=True, n_components=None, whiten=False)\n",
    "pca.components_"
   ]
  },
  {
   "cell_type": "code",
   "execution_count": 30,
   "metadata": {},
   "outputs": [
    {
     "data": {
      "text/plain": [
       "array([9.99999963e-01, 3.70949448e-08, 5.98753348e-12, 1.56405628e-12,\n",
       "       2.20856199e-13, 1.78243884e-13, 1.37433920e-13, 7.27182719e-14,\n",
       "       5.60232990e-14, 5.19468738e-14, 4.06656653e-14, 2.75914517e-14,\n",
       "       2.67258739e-14, 2.26523277e-14, 2.13487796e-14, 1.78524532e-14,\n",
       "       1.55255113e-14, 1.40377047e-14, 1.25397445e-14, 1.07509087e-14,\n",
       "       9.91965342e-15, 9.26701483e-15, 8.29377471e-15, 7.44399102e-15,\n",
       "       6.99540792e-15, 6.61299650e-15, 6.08335491e-15, 5.19059892e-15,\n",
       "       4.49241473e-15, 3.85348501e-15, 3.65179618e-15, 3.36492932e-15,\n",
       "       3.10697998e-15, 2.58493899e-15, 2.30506161e-15, 2.03728083e-15,\n",
       "       1.97794577e-15, 1.69342612e-15, 1.53834245e-15, 1.33655062e-15,\n",
       "       1.09987730e-15, 1.02610338e-15, 7.61846263e-16, 7.01292795e-16,\n",
       "       5.93579510e-16, 5.42526722e-16, 3.55569941e-16, 2.21156946e-16,\n",
       "       1.02992063e-16, 4.60237738e-17])"
      ]
     },
     "execution_count": 30,
     "metadata": {},
     "output_type": "execute_result"
    }
   ],
   "source": [
    "pca.explained_variance_ratio_"
   ]
  },
  {
   "cell_type": "code",
   "execution_count": 31,
   "metadata": {},
   "outputs": [
    {
     "data": {
      "text/plain": [
       "array([6.54381769e+13, 2.42742565e+06, 3.91813290e+02, 1.02348995e+02,\n",
       "       1.44524276e+01, 1.16639553e+01, 8.99342549e+00, 4.75855132e+00,\n",
       "       3.66606269e+00, 3.39930884e+00, 2.66108710e+00, 1.80553436e+00,\n",
       "       1.74889253e+00, 1.48232708e+00, 1.39702527e+00, 1.16823204e+00,\n",
       "       1.01596119e+00, 9.18601839e-01, 8.20578047e-01, 7.03519892e-01,\n",
       "       6.49124059e-01, 6.06416578e-01, 5.42729517e-01, 4.87121219e-01,\n",
       "       4.57766758e-01, 4.32742451e-01, 3.98083670e-01, 3.39663343e-01,\n",
       "       2.93975441e-01, 2.52165043e-01, 2.38966894e-01, 2.20194849e-01,\n",
       "       2.03315113e-01, 1.69153701e-01, 1.50839035e-01, 1.33315948e-01,\n",
       "       1.29433170e-01, 1.10814722e-01, 1.00666329e-01, 8.74614391e-02,\n",
       "       7.19739677e-02, 6.71463369e-02, 4.98538324e-02, 4.58913237e-02,\n",
       "       3.88427624e-02, 3.55019610e-02, 2.32678496e-02, 1.44721079e-02,\n",
       "       6.73961308e-03, 3.01171197e-03])"
      ]
     },
     "execution_count": 31,
     "metadata": {},
     "output_type": "execute_result"
    }
   ],
   "source": [
    "pca.explained_variance_"
   ]
  },
  {
   "cell_type": "code",
   "execution_count": 32,
   "metadata": {},
   "outputs": [
    {
     "data": {
      "text/plain": [
       "array([100., 100., 100., 100., 100., 100., 100., 100., 100., 100., 100.,\n",
       "       100., 100., 100., 100., 100., 100., 100., 100., 100., 100., 100.,\n",
       "       100., 100., 100., 100., 100., 100., 100., 100., 100., 100., 100.,\n",
       "       100., 100., 100., 100., 100., 100., 100., 100., 100., 100., 100.,\n",
       "       100., 100., 100., 100., 100., 100.])"
      ]
     },
     "execution_count": 32,
     "metadata": {},
     "output_type": "execute_result"
    }
   ],
   "source": [
    "variance = np.cumsum(np.round(pca.explained_variance_ratio_, decimals=3)*100)\n",
    "variance"
   ]
  },
  {
   "cell_type": "code",
   "execution_count": 33,
   "metadata": {},
   "outputs": [
    {
     "data": {
      "text/plain": [
       "[<matplotlib.lines.Line2D at 0x7fa3b0420310>]"
      ]
     },
     "execution_count": 33,
     "metadata": {},
     "output_type": "execute_result"
    },
    {
     "data": {
      "image/png": "[encoded data removed]",
      "text/plain": [
       "<Figure size 432x288 with 1 Axes>"
      ]
     },
     "metadata": {
      "needs_background": "light"
     },
     "output_type": "display_data"
    }
   ],
   "source": [
    "plt.ylabel('% Cumulative Variance')\n",
    "plt.xlabel('Principal Componenet')\n",
    "plt.title('PCA Analysis')\n",
    "plt.ylim(30,100.5)\n",
    "plt.style.context('seaborn-whitegrid')\n",
    "\n",
    "\n",
    "plt.plot(variance)"
   ]
  },
  {
   "cell_type": "code",
   "execution_count": 34,
   "metadata": {},
   "outputs": [],
   "source": [
    "pca = PCA(n_components=10)\n",
    "X_r = pca.fit(X).transform(X)\n",
    "import xgboost as xgb\n",
    "model=xgb.XGBClassifier(random_state=1,learning_rate=0.01)\n",
    "pipeline = Pipeline(steps=[('pca', pca), ('model', model)])"
   ]
  },
  {
   "cell_type": "code",
   "execution_count": 35,
   "metadata": {},
   "outputs": [],
   "source": [
    "#import xgboost as xgb\n",
    "#model=xgb.XGBClassifier(random_state=1,learning_rate=0.01)\n",
    "#model.fit(X_train, y_train"
   ]
  },
  {
   "cell_type": "code",
   "execution_count": 36,
   "metadata": {},
   "outputs": [
    {
     "data": {
      "text/plain": [
       "((156, 50), (39, 50), (156,), (39,))"
      ]
     },
     "execution_count": 36,
     "metadata": {},
     "output_type": "execute_result"
    }
   ],
   "source": [
    "#Train Test split \n",
    "\n",
    "X_train, X_test, y_train, y_test = train_test_split(X,y, test_size=0.20, stratify=y\n",
    "                                                   , random_state=42)\n",
    "X_train.shape, X_test.shape, y_train.shape, y_test.shape"
   ]
  },
  {
   "cell_type": "code",
   "execution_count": 37,
   "metadata": {},
   "outputs": [
    {
     "data": {
      "text/plain": [
       "Pipeline(steps=[('pca', PCA(n_components=10)),\n",
       "                ('model', XGBClassifier(learning_rate=0.01, random_state=1))])"
      ]
     },
     "execution_count": 37,
     "metadata": {},
     "output_type": "execute_result"
    }
   ],
   "source": [
    "pipeline.fit(X_train, y_train) # Add solver='lbfgs' to get rid of the deprecation warning"
   ]
  },
  {
   "cell_type": "code",
   "execution_count": 38,
   "metadata": {},
   "outputs": [],
   "source": [
    "y_pred = pipeline.predict(X_test)"
   ]
  },
  {
   "cell_type": "code",
   "execution_count": 39,
   "metadata": {},
   "outputs": [
    {
     "data": {
      "text/plain": [
       "0.6153846153846154"
      ]
     },
     "execution_count": 39,
     "metadata": {},
     "output_type": "execute_result"
    }
   ],
   "source": [
    "pipeline.score(X_test, y_test)"
   ]
  },
  {
   "cell_type": "code",
   "execution_count": 40,
   "metadata": {},
   "outputs": [
    {
     "data": {
      "text/plain": [
       "0.6153846153846154"
      ]
     },
     "execution_count": 40,
     "metadata": {},
     "output_type": "execute_result"
    }
   ],
   "source": [
    "f1_score(y_test, y_pred, average='micro')"
   ]
  },
  {
   "cell_type": "markdown",
   "metadata": {},
   "source": [
    "## Test Data"
   ]
  },
  {
   "cell_type": "code",
   "execution_count": 41,
   "metadata": {},
   "outputs": [],
   "source": [
    "test_rename = test.rename(columns = {\"form_field1\":'Creditworthiness_score',\"form_field2\":'CreditEnquiredRisk',\n",
    "                                            \"form_field3\":'LoanDefaultSeverityAll',\"form_field4\":'LoanDefaultSeverityAuto',\n",
    "                                            \"form_field5\":'LoanDefaultSeverityEdu',\"form_field6\":'MinCreditAvailAfterPayments',\n",
    "                                            \"form_field7\":'MaxCreditAvailActiveAll',\"form_field8\":'MaxCreditAvailAfterPayments',\"form_field9\":'SumOfAvailCreditMissed1Pay',\n",
    "                                            \"form_field10\":'TotalCreditAvailActiveAll',\"form_field11\":'PostDefaultDuesCollectedA500',\n",
    "                                            \"form_field12\":'TotalDueActive',\"form_field13\":'AllAnnualPaidPreviousYear',\n",
    "                                            \"form_field14\":'AnnualIncome',\"form_field15\":'PropertyMarketValue',\n",
    "                                            \"form_field16\":'NumActiveCCardsPaidOffFullCreditUsed',\"form_field17\":'NumActiveCCardsFullCreditUsed',\n",
    "                                            \"form_field18\":'NumActiveFullCLinesFullCreditUsed',\"form_field19\":'NumActiveCCards75pCreditUsed',\n",
    "                                            \"form_field20\":'NumActiveCLines75pCreditUsed',\"form_field21\":'%AverageUseOfCCardLoans',\n",
    "                                            \"form_field22\":'%AverageUseOfCLines2Yrs',\"form_field23\":'%AverageUseOfCCards1Yr',\n",
    "                                            \"form_field24\":'%AverageUseOfCLines6MoMiss1',\"form_field25\":'AverageTenureofActiveRevolveCardsinDays',\n",
    "                                            \"form_field26\":'TenureofOldestCCardsinDays',\"form_field27\":'TenureofOldestRevolvingCCardsinDays',\n",
    "                                            \"form_field28\":'NumOfDaysonlastmissedCLine',\"form_field29\":'TenureofOldestCLineinDays',\n",
    "                                            \"form_field30\":'MaxTenureonAutoLoansinDays',\"form_field31\":'MaxTenureonEduLoansinDays',\n",
    "                                            \"form_field32\":'SumTenureonActiveCCardsinMonth',\"form_field33\":'SumTenureonActiveCLinesinMonth',\n",
    "                                            \"form_field34\":'NumOfCLineslast6MoMiss1', \"form_field35\":'NumOfRevolveCCardslast2YrMiss1',\n",
    "                                            \"form_field36\":'NumActiveCLines',\"form_field37\":'NumCCardsActiveTenure2Yrs',\n",
    "                                            \"form_field38\":'ActivatedCLinesinlast2Yrs',\"form_field39\":'NumActiveCLinesDeliquent',\n",
    "                                            \"form_field40\":'%UseCLinesonEduLoan',\"form_field41\":'%UseCLinesonAutoLoan',\n",
    "                                            \"form_field42\":'FinanceStressIndex',\"form_field43\":'NumberCLinesPaidHighRisk',\n",
    "                                            \"form_field44\":'DebtRatio1Max',\"form_field45\":'NumOfHomeLoansMissed2x',\n",
    "                                            \"form_field46\":'NumOfAutoLoansMissed2x',\"form_field50\":'DebtRatio1Min',\n",
    "                                            'form_field47_charge': 'ProductApplicatn', 'default_status_no': 'default_status'}, inplace = False)"
   ]
  },
  {
   "cell_type": "code",
   "execution_count": 42,
   "metadata": {},
   "outputs": [
    {
     "data": {
      "text/html": [
       "<div>\n",
       "<style scoped>\n",
       "    .dataframe tbody tr th:only-of-type {\n",
       "        vertical-align: middle;\n",
       "    }\n",
       "\n",
       "    .dataframe tbody tr th {\n",
       "        vertical-align: top;\n",
       "    }\n",
       "\n",
       "    .dataframe thead th {\n",
       "        text-align: right;\n",
       "    }\n",
       "</style>\n",
       "<table border=\"1\" class=\"dataframe\">\n",
       "  <thead>\n",
       "    <tr style=\"text-align: right;\">\n",
       "      <th></th>\n",
       "      <th>Applicant_ID</th>\n",
       "      <th>Creditworthiness_score</th>\n",
       "      <th>CreditEnquiredRisk</th>\n",
       "      <th>LoanDefaultSeverityAll</th>\n",
       "      <th>LoanDefaultSeverityAuto</th>\n",
       "      <th>LoanDefaultSeverityEdu</th>\n",
       "      <th>MinCreditAvailAfterPayments</th>\n",
       "      <th>MaxCreditAvailActiveAll</th>\n",
       "      <th>MaxCreditAvailAfterPayments</th>\n",
       "      <th>SumOfAvailCreditMissed1Pay</th>\n",
       "      <th>...</th>\n",
       "      <th>%UseCLinesonAutoLoan</th>\n",
       "      <th>FinanceStressIndex</th>\n",
       "      <th>NumberCLinesPaidHighRisk</th>\n",
       "      <th>DebtRatio1Max</th>\n",
       "      <th>NumOfHomeLoansMissed2x</th>\n",
       "      <th>NumOfAutoLoansMissed2x</th>\n",
       "      <th>form_field47</th>\n",
       "      <th>form_field48</th>\n",
       "      <th>form_field49</th>\n",
       "      <th>DebtRatio1Min</th>\n",
       "    </tr>\n",
       "  </thead>\n",
       "  <tbody>\n",
       "    <tr>\n",
       "      <td>0</td>\n",
       "      <td>Apcnt_1000032</td>\n",
       "      <td>3236.0</td>\n",
       "      <td>0.34875</td>\n",
       "      <td>10.2006</td>\n",
       "      <td>0.0000</td>\n",
       "      <td>0.0</td>\n",
       "      <td>418564.0</td>\n",
       "      <td>418564.0</td>\n",
       "      <td>418564.0</td>\n",
       "      <td>540710.0</td>\n",
       "      <td>...</td>\n",
       "      <td>NaN</td>\n",
       "      <td>0.825000</td>\n",
       "      <td>1.01</td>\n",
       "      <td>0.800000</td>\n",
       "      <td>NaN</td>\n",
       "      <td>0.0</td>\n",
       "      <td>charge</td>\n",
       "      <td>NaN</td>\n",
       "      <td>0.000000</td>\n",
       "      <td>0.011221</td>\n",
       "    </tr>\n",
       "    <tr>\n",
       "      <td>1</td>\n",
       "      <td>Apcnt_1000048</td>\n",
       "      <td>3284.0</td>\n",
       "      <td>1.27360</td>\n",
       "      <td>2.9606</td>\n",
       "      <td>9.0198</td>\n",
       "      <td>0.0</td>\n",
       "      <td>0.0</td>\n",
       "      <td>9858816.0</td>\n",
       "      <td>49014.0</td>\n",
       "      <td>1510098.0</td>\n",
       "      <td>...</td>\n",
       "      <td>18.8415</td>\n",
       "      <td>0.507694</td>\n",
       "      <td>4.04</td>\n",
       "      <td>0.623248</td>\n",
       "      <td>1.0</td>\n",
       "      <td>0.0</td>\n",
       "      <td>lending</td>\n",
       "      <td>NaN</td>\n",
       "      <td>0.504974</td>\n",
       "      <td>0.043525</td>\n",
       "    </tr>\n",
       "    <tr>\n",
       "      <td>2</td>\n",
       "      <td>Apcnt_1000052</td>\n",
       "      <td>NaN</td>\n",
       "      <td>0.27505</td>\n",
       "      <td>0.0600</td>\n",
       "      <td>0.0000</td>\n",
       "      <td>0.0</td>\n",
       "      <td>NaN</td>\n",
       "      <td>NaN</td>\n",
       "      <td>NaN</td>\n",
       "      <td>NaN</td>\n",
       "      <td>...</td>\n",
       "      <td>NaN</td>\n",
       "      <td>NaN</td>\n",
       "      <td>0.00</td>\n",
       "      <td>NaN</td>\n",
       "      <td>NaN</td>\n",
       "      <td>NaN</td>\n",
       "      <td>charge</td>\n",
       "      <td>NaN</td>\n",
       "      <td>0.000000</td>\n",
       "      <td>NaN</td>\n",
       "    </tr>\n",
       "    <tr>\n",
       "      <td>3</td>\n",
       "      <td>Apcnt_1000076</td>\n",
       "      <td>3232.0</td>\n",
       "      <td>0.28505</td>\n",
       "      <td>2.8032</td>\n",
       "      <td>0.0000</td>\n",
       "      <td>0.0</td>\n",
       "      <td>0.0</td>\n",
       "      <td>473802.0</td>\n",
       "      <td>473802.0</td>\n",
       "      <td>1724437.0</td>\n",
       "      <td>...</td>\n",
       "      <td>NaN</td>\n",
       "      <td>0.916663</td>\n",
       "      <td>2.02</td>\n",
       "      <td>0.464224</td>\n",
       "      <td>NaN</td>\n",
       "      <td>NaN</td>\n",
       "      <td>charge</td>\n",
       "      <td>90.163742</td>\n",
       "      <td>0.788809</td>\n",
       "      <td>0.104029</td>\n",
       "    </tr>\n",
       "    <tr>\n",
       "      <td>4</td>\n",
       "      <td>Apcnt_1000080</td>\n",
       "      <td>3466.0</td>\n",
       "      <td>2.09545</td>\n",
       "      <td>0.8318</td>\n",
       "      <td>2.5182</td>\n",
       "      <td>0.0</td>\n",
       "      <td>19839.0</td>\n",
       "      <td>1150662.0</td>\n",
       "      <td>1150662.0</td>\n",
       "      <td>7860523.0</td>\n",
       "      <td>...</td>\n",
       "      <td>NaN</td>\n",
       "      <td>0.234047</td>\n",
       "      <td>23.23</td>\n",
       "      <td>0.726688</td>\n",
       "      <td>0.0</td>\n",
       "      <td>0.0</td>\n",
       "      <td>lending</td>\n",
       "      <td>1303.587148</td>\n",
       "      <td>1.637733</td>\n",
       "      <td>0.163124</td>\n",
       "    </tr>\n",
       "  </tbody>\n",
       "</table>\n",
       "<p>5 rows × 51 columns</p>\n",
       "</div>"
      ],
      "text/plain": [
       "    Applicant_ID  Creditworthiness_score  CreditEnquiredRisk  \\\n",
       "0  Apcnt_1000032                  3236.0             0.34875   \n",
       "1  Apcnt_1000048                  3284.0             1.27360   \n",
       "2  Apcnt_1000052                     NaN             0.27505   \n",
       "3  Apcnt_1000076                  3232.0             0.28505   \n",
       "4  Apcnt_1000080                  3466.0             2.09545   \n",
       "\n",
       "   LoanDefaultSeverityAll  LoanDefaultSeverityAuto  LoanDefaultSeverityEdu  \\\n",
       "0                 10.2006                   0.0000                     0.0   \n",
       "1                  2.9606                   9.0198                     0.0   \n",
       "2                  0.0600                   0.0000                     0.0   \n",
       "3                  2.8032                   0.0000                     0.0   \n",
       "4                  0.8318                   2.5182                     0.0   \n",
       "\n",
       "   MinCreditAvailAfterPayments  MaxCreditAvailActiveAll  \\\n",
       "0                     418564.0                 418564.0   \n",
       "1                          0.0                9858816.0   \n",
       "2                          NaN                      NaN   \n",
       "3                          0.0                 473802.0   \n",
       "4                      19839.0                1150662.0   \n",
       "\n",
       "   MaxCreditAvailAfterPayments  SumOfAvailCreditMissed1Pay  ...  \\\n",
       "0                     418564.0                    540710.0  ...   \n",
       "1                      49014.0                   1510098.0  ...   \n",
       "2                          NaN                         NaN  ...   \n",
       "3                     473802.0                   1724437.0  ...   \n",
       "4                    1150662.0                   7860523.0  ...   \n",
       "\n",
       "   %UseCLinesonAutoLoan  FinanceStressIndex  NumberCLinesPaidHighRisk  \\\n",
       "0                   NaN            0.825000                      1.01   \n",
       "1               18.8415            0.507694                      4.04   \n",
       "2                   NaN                 NaN                      0.00   \n",
       "3                   NaN            0.916663                      2.02   \n",
       "4                   NaN            0.234047                     23.23   \n",
       "\n",
       "   DebtRatio1Max  NumOfHomeLoansMissed2x  NumOfAutoLoansMissed2x  \\\n",
       "0       0.800000                     NaN                     0.0   \n",
       "1       0.623248                     1.0                     0.0   \n",
       "2            NaN                     NaN                     NaN   \n",
       "3       0.464224                     NaN                     NaN   \n",
       "4       0.726688                     0.0                     0.0   \n",
       "\n",
       "   form_field47  form_field48  form_field49  DebtRatio1Min  \n",
       "0        charge           NaN      0.000000       0.011221  \n",
       "1       lending           NaN      0.504974       0.043525  \n",
       "2        charge           NaN      0.000000            NaN  \n",
       "3        charge     90.163742      0.788809       0.104029  \n",
       "4       lending   1303.587148      1.637733       0.163124  \n",
       "\n",
       "[5 rows x 51 columns]"
      ]
     },
     "execution_count": 42,
     "metadata": {},
     "output_type": "execute_result"
    }
   ],
   "source": [
    "test_rename.head()"
   ]
  },
  {
   "cell_type": "code",
   "execution_count": 43,
   "metadata": {},
   "outputs": [],
   "source": [
    "# Convert ff47 and ff50 categorical variables to 0 and 1\n",
    "new_test = pd.get_dummies(test, columns=['form_field47'])"
   ]
  },
  {
   "cell_type": "code",
   "execution_count": 44,
   "metadata": {},
   "outputs": [],
   "source": [
    "# Drop duplicate columns\n",
    "test_drop = new_test.drop(['form_field47_lending'], axis=1)"
   ]
  },
  {
   "cell_type": "code",
   "execution_count": 45,
   "metadata": {},
   "outputs": [],
   "source": [
    "# Rename the columns\n",
    "test_rename = test_drop.rename(columns = {\"form_field1\":'Creditworthiness_score',\"form_field2\":'CreditEnquiredRisk',\n",
    "                                            \"form_field3\":'LoanDefaultSeverityAll',\"form_field4\":'LoanDefaultSeverityAuto',\n",
    "                                            \"form_field5\":'LoanDefaultSeverityEdu',\"form_field6\":'MinCreditAvailAfterPayments',\n",
    "                                            \"form_field7\":'MaxCreditAvailActiveAll',\"form_field8\":'MaxCreditAvailAfterPayments',\"form_field9\":'SumOfAvailCreditMissed1Pay',\n",
    "                                            \"form_field10\":'TotalCreditAvailActiveAll',\"form_field11\":'PostDefaultDuesCollectedA500',\n",
    "                                            \"form_field12\":'TotalDueActive',\"form_field13\":'AllAnnualPaidPreviousYear',\n",
    "                                            \"form_field14\":'AnnualIncome',\"form_field15\":'PropertyMarketValue',\n",
    "                                            \"form_field16\":'NumActiveCCardsPaidOffFullCreditUsed',\"form_field17\":'NumActiveCCardsFullCreditUsed',\n",
    "                                            \"form_field18\":'NumActiveFullCLinesFullCreditUsed',\"form_field19\":'NumActiveCCards75pCreditUsed',\n",
    "                                            \"form_field20\":'NumActiveCLines75pCreditUsed',\"form_field21\":'%AverageUseOfCCardLoans',\n",
    "                                            \"form_field22\":'%AverageUseOfCLines2Yrs',\"form_field23\":'%AverageUseOfCCards1Yr',\n",
    "                                            \"form_field24\":'%AverageUseOfCLines6MoMiss1',\"form_field25\":'AverageTenureofActiveRevolveCardsinDays',\n",
    "                                            \"form_field26\":'TenureofOldestCCardsinDays',\"form_field27\":'TenureofOldestRevolvingCCardsinDays',\n",
    "                                            \"form_field28\":'NumOfDaysonlastmissedCLine',\"form_field29\":'TenureofOldestCLineinDays',\n",
    "                                            \"form_field30\":'MaxTenureonAutoLoansinDays',\"form_field31\":'MaxTenureonEduLoansinDays',\n",
    "                                            \"form_field32\":'SumTenureonActiveCCardsinMonth',\"form_field33\":'SumTenureonActiveCLinesinMonth',\n",
    "                                            \"form_field34\":'NumOfCLineslast6MoMiss1', \"form_field35\":'NumOfRevolveCCardslast2YrMiss1',\n",
    "                                            \"form_field36\":'NumActiveCLines',\"form_field37\":'NumCCardsActiveTenure2Yrs',\n",
    "                                            \"form_field38\":'ActivatedCLinesinlast2Yrs',\"form_field39\":'NumActiveCLinesDeliquent',\n",
    "                                            \"form_field40\":'%UseCLinesonEduLoan',\"form_field41\":'%UseCLinesonAutoLoan',\n",
    "                                            \"form_field42\":'FinanceStressIndex',\"form_field43\":'NumberCLinesPaidHighRisk',\n",
    "                                            \"form_field44\":'DebtRatio1Max',\"form_field45\":'NumOfHomeLoansMissed2x',\n",
    "                                            \"form_field46\":'NumOfAutoLoansMissed2x',\"form_field50\":'DebtRatio1Min',\n",
    "                                            'form_field47_charge': 'ProductApplicatn', 'default_status_no': 'default_status'}, inplace = False)"
   ]
  },
  {
   "cell_type": "code",
   "execution_count": 46,
   "metadata": {},
   "outputs": [
    {
     "data": {
      "text/plain": [
       "Index(['Applicant_ID', 'Creditworthiness_score', 'CreditEnquiredRisk',\n",
       "       'LoanDefaultSeverityAll', 'LoanDefaultSeverityAuto',\n",
       "       'LoanDefaultSeverityEdu', 'MinCreditAvailAfterPayments',\n",
       "       'MaxCreditAvailActiveAll', 'MaxCreditAvailAfterPayments',\n",
       "       'SumOfAvailCreditMissed1Pay', 'TotalCreditAvailActiveAll',\n",
       "       'PostDefaultDuesCollectedA500', 'TotalDueActive',\n",
       "       'AllAnnualPaidPreviousYear', 'AnnualIncome', 'PropertyMarketValue',\n",
       "       'NumActiveCCardsPaidOffFullCreditUsed', 'NumActiveCCardsFullCreditUsed',\n",
       "       'NumActiveFullCLinesFullCreditUsed', 'NumActiveCCards75pCreditUsed',\n",
       "       'NumActiveCLines75pCreditUsed', '%AverageUseOfCCardLoans',\n",
       "       '%AverageUseOfCLines2Yrs', '%AverageUseOfCCards1Yr',\n",
       "       '%AverageUseOfCLines6MoMiss1',\n",
       "       'AverageTenureofActiveRevolveCardsinDays', 'TenureofOldestCCardsinDays',\n",
       "       'TenureofOldestRevolvingCCardsinDays', 'NumOfDaysonlastmissedCLine',\n",
       "       'TenureofOldestCLineinDays', 'MaxTenureonAutoLoansinDays',\n",
       "       'MaxTenureonEduLoansinDays', 'SumTenureonActiveCCardsinMonth',\n",
       "       'SumTenureonActiveCLinesinMonth', 'NumOfCLineslast6MoMiss1',\n",
       "       'NumOfRevolveCCardslast2YrMiss1', 'NumActiveCLines',\n",
       "       'NumCCardsActiveTenure2Yrs', 'ActivatedCLinesinlast2Yrs',\n",
       "       'NumActiveCLinesDeliquent', '%UseCLinesonEduLoan',\n",
       "       '%UseCLinesonAutoLoan', 'FinanceStressIndex',\n",
       "       'NumberCLinesPaidHighRisk', 'DebtRatio1Max', 'NumOfHomeLoansMissed2x',\n",
       "       'NumOfAutoLoansMissed2x', 'form_field48', 'form_field49',\n",
       "       'DebtRatio1Min', 'ProductApplicatn'],\n",
       "      dtype='object')"
      ]
     },
     "execution_count": 46,
     "metadata": {},
     "output_type": "execute_result"
    }
   ],
   "source": [
    "test_rename.columns"
   ]
  },
  {
   "cell_type": "code",
   "execution_count": 47,
   "metadata": {},
   "outputs": [],
   "source": [
    "#Fill with mean\n",
    "test_rename['Creditworthiness_score'] = test_rename['Creditworthiness_score'].fillna(test_rename['Creditworthiness_score'].mean())"
   ]
  },
  {
   "cell_type": "code",
   "execution_count": 48,
   "metadata": {},
   "outputs": [
    {
     "data": {
      "text/plain": [
       "(24000, 51)"
      ]
     },
     "execution_count": 48,
     "metadata": {},
     "output_type": "execute_result"
    }
   ],
   "source": [
    "test_rename.shape"
   ]
  },
  {
   "cell_type": "code",
   "execution_count": 49,
   "metadata": {},
   "outputs": [],
   "source": [
    "#test_final = test_rename"
   ]
  },
  {
   "cell_type": "code",
   "execution_count": 50,
   "metadata": {},
   "outputs": [],
   "source": [
    "test_rename.fillna(0, inplace=True)"
   ]
  },
  {
   "cell_type": "code",
   "execution_count": 51,
   "metadata": {},
   "outputs": [
    {
     "data": {
      "text/html": [
       "<div>\n",
       "<style scoped>\n",
       "    .dataframe tbody tr th:only-of-type {\n",
       "        vertical-align: middle;\n",
       "    }\n",
       "\n",
       "    .dataframe tbody tr th {\n",
       "        vertical-align: top;\n",
       "    }\n",
       "\n",
       "    .dataframe thead th {\n",
       "        text-align: right;\n",
       "    }\n",
       "</style>\n",
       "<table border=\"1\" class=\"dataframe\">\n",
       "  <thead>\n",
       "    <tr style=\"text-align: right;\">\n",
       "      <th></th>\n",
       "      <th>Applicant_ID</th>\n",
       "      <th>Creditworthiness_score</th>\n",
       "      <th>CreditEnquiredRisk</th>\n",
       "      <th>LoanDefaultSeverityAll</th>\n",
       "      <th>LoanDefaultSeverityAuto</th>\n",
       "      <th>LoanDefaultSeverityEdu</th>\n",
       "      <th>MinCreditAvailAfterPayments</th>\n",
       "      <th>MaxCreditAvailActiveAll</th>\n",
       "      <th>MaxCreditAvailAfterPayments</th>\n",
       "      <th>SumOfAvailCreditMissed1Pay</th>\n",
       "      <th>...</th>\n",
       "      <th>%UseCLinesonAutoLoan</th>\n",
       "      <th>FinanceStressIndex</th>\n",
       "      <th>NumberCLinesPaidHighRisk</th>\n",
       "      <th>DebtRatio1Max</th>\n",
       "      <th>NumOfHomeLoansMissed2x</th>\n",
       "      <th>NumOfAutoLoansMissed2x</th>\n",
       "      <th>form_field48</th>\n",
       "      <th>form_field49</th>\n",
       "      <th>DebtRatio1Min</th>\n",
       "      <th>ProductApplicatn</th>\n",
       "    </tr>\n",
       "  </thead>\n",
       "  <tbody>\n",
       "    <tr>\n",
       "      <td>0</td>\n",
       "      <td>Apcnt_1000032</td>\n",
       "      <td>3236.000000</td>\n",
       "      <td>0.34875</td>\n",
       "      <td>10.2006</td>\n",
       "      <td>0.0000</td>\n",
       "      <td>0.0</td>\n",
       "      <td>418564.0</td>\n",
       "      <td>418564.0</td>\n",
       "      <td>418564.0</td>\n",
       "      <td>540710.0</td>\n",
       "      <td>...</td>\n",
       "      <td>0.0000</td>\n",
       "      <td>0.825000</td>\n",
       "      <td>1.01</td>\n",
       "      <td>0.800000</td>\n",
       "      <td>0.0</td>\n",
       "      <td>0.0</td>\n",
       "      <td>0.000000</td>\n",
       "      <td>0.000000</td>\n",
       "      <td>0.011221</td>\n",
       "      <td>1</td>\n",
       "    </tr>\n",
       "    <tr>\n",
       "      <td>1</td>\n",
       "      <td>Apcnt_1000048</td>\n",
       "      <td>3284.000000</td>\n",
       "      <td>1.27360</td>\n",
       "      <td>2.9606</td>\n",
       "      <td>9.0198</td>\n",
       "      <td>0.0</td>\n",
       "      <td>0.0</td>\n",
       "      <td>9858816.0</td>\n",
       "      <td>49014.0</td>\n",
       "      <td>1510098.0</td>\n",
       "      <td>...</td>\n",
       "      <td>18.8415</td>\n",
       "      <td>0.507694</td>\n",
       "      <td>4.04</td>\n",
       "      <td>0.623248</td>\n",
       "      <td>1.0</td>\n",
       "      <td>0.0</td>\n",
       "      <td>0.000000</td>\n",
       "      <td>0.504974</td>\n",
       "      <td>0.043525</td>\n",
       "      <td>0</td>\n",
       "    </tr>\n",
       "    <tr>\n",
       "      <td>2</td>\n",
       "      <td>Apcnt_1000052</td>\n",
       "      <td>3492.284404</td>\n",
       "      <td>0.27505</td>\n",
       "      <td>0.0600</td>\n",
       "      <td>0.0000</td>\n",
       "      <td>0.0</td>\n",
       "      <td>0.0</td>\n",
       "      <td>0.0</td>\n",
       "      <td>0.0</td>\n",
       "      <td>0.0</td>\n",
       "      <td>...</td>\n",
       "      <td>0.0000</td>\n",
       "      <td>0.000000</td>\n",
       "      <td>0.00</td>\n",
       "      <td>0.000000</td>\n",
       "      <td>0.0</td>\n",
       "      <td>0.0</td>\n",
       "      <td>0.000000</td>\n",
       "      <td>0.000000</td>\n",
       "      <td>0.000000</td>\n",
       "      <td>1</td>\n",
       "    </tr>\n",
       "    <tr>\n",
       "      <td>3</td>\n",
       "      <td>Apcnt_1000076</td>\n",
       "      <td>3232.000000</td>\n",
       "      <td>0.28505</td>\n",
       "      <td>2.8032</td>\n",
       "      <td>0.0000</td>\n",
       "      <td>0.0</td>\n",
       "      <td>0.0</td>\n",
       "      <td>473802.0</td>\n",
       "      <td>473802.0</td>\n",
       "      <td>1724437.0</td>\n",
       "      <td>...</td>\n",
       "      <td>0.0000</td>\n",
       "      <td>0.916663</td>\n",
       "      <td>2.02</td>\n",
       "      <td>0.464224</td>\n",
       "      <td>0.0</td>\n",
       "      <td>0.0</td>\n",
       "      <td>90.163742</td>\n",
       "      <td>0.788809</td>\n",
       "      <td>0.104029</td>\n",
       "      <td>1</td>\n",
       "    </tr>\n",
       "    <tr>\n",
       "      <td>4</td>\n",
       "      <td>Apcnt_1000080</td>\n",
       "      <td>3466.000000</td>\n",
       "      <td>2.09545</td>\n",
       "      <td>0.8318</td>\n",
       "      <td>2.5182</td>\n",
       "      <td>0.0</td>\n",
       "      <td>19839.0</td>\n",
       "      <td>1150662.0</td>\n",
       "      <td>1150662.0</td>\n",
       "      <td>7860523.0</td>\n",
       "      <td>...</td>\n",
       "      <td>0.0000</td>\n",
       "      <td>0.234047</td>\n",
       "      <td>23.23</td>\n",
       "      <td>0.726688</td>\n",
       "      <td>0.0</td>\n",
       "      <td>0.0</td>\n",
       "      <td>1303.587148</td>\n",
       "      <td>1.637733</td>\n",
       "      <td>0.163124</td>\n",
       "      <td>0</td>\n",
       "    </tr>\n",
       "  </tbody>\n",
       "</table>\n",
       "<p>5 rows × 51 columns</p>\n",
       "</div>"
      ],
      "text/plain": [
       "    Applicant_ID  Creditworthiness_score  CreditEnquiredRisk  \\\n",
       "0  Apcnt_1000032             3236.000000             0.34875   \n",
       "1  Apcnt_1000048             3284.000000             1.27360   \n",
       "2  Apcnt_1000052             3492.284404             0.27505   \n",
       "3  Apcnt_1000076             3232.000000             0.28505   \n",
       "4  Apcnt_1000080             3466.000000             2.09545   \n",
       "\n",
       "   LoanDefaultSeverityAll  LoanDefaultSeverityAuto  LoanDefaultSeverityEdu  \\\n",
       "0                 10.2006                   0.0000                     0.0   \n",
       "1                  2.9606                   9.0198                     0.0   \n",
       "2                  0.0600                   0.0000                     0.0   \n",
       "3                  2.8032                   0.0000                     0.0   \n",
       "4                  0.8318                   2.5182                     0.0   \n",
       "\n",
       "   MinCreditAvailAfterPayments  MaxCreditAvailActiveAll  \\\n",
       "0                     418564.0                 418564.0   \n",
       "1                          0.0                9858816.0   \n",
       "2                          0.0                      0.0   \n",
       "3                          0.0                 473802.0   \n",
       "4                      19839.0                1150662.0   \n",
       "\n",
       "   MaxCreditAvailAfterPayments  SumOfAvailCreditMissed1Pay  ...  \\\n",
       "0                     418564.0                    540710.0  ...   \n",
       "1                      49014.0                   1510098.0  ...   \n",
       "2                          0.0                         0.0  ...   \n",
       "3                     473802.0                   1724437.0  ...   \n",
       "4                    1150662.0                   7860523.0  ...   \n",
       "\n",
       "   %UseCLinesonAutoLoan  FinanceStressIndex  NumberCLinesPaidHighRisk  \\\n",
       "0                0.0000            0.825000                      1.01   \n",
       "1               18.8415            0.507694                      4.04   \n",
       "2                0.0000            0.000000                      0.00   \n",
       "3                0.0000            0.916663                      2.02   \n",
       "4                0.0000            0.234047                     23.23   \n",
       "\n",
       "   DebtRatio1Max  NumOfHomeLoansMissed2x  NumOfAutoLoansMissed2x  \\\n",
       "0       0.800000                     0.0                     0.0   \n",
       "1       0.623248                     1.0                     0.0   \n",
       "2       0.000000                     0.0                     0.0   \n",
       "3       0.464224                     0.0                     0.0   \n",
       "4       0.726688                     0.0                     0.0   \n",
       "\n",
       "   form_field48  form_field49  DebtRatio1Min  ProductApplicatn  \n",
       "0      0.000000      0.000000       0.011221                 1  \n",
       "1      0.000000      0.504974       0.043525                 0  \n",
       "2      0.000000      0.000000       0.000000                 1  \n",
       "3     90.163742      0.788809       0.104029                 1  \n",
       "4   1303.587148      1.637733       0.163124                 0  \n",
       "\n",
       "[5 rows x 51 columns]"
      ]
     },
     "execution_count": 51,
     "metadata": {},
     "output_type": "execute_result"
    }
   ],
   "source": [
    "test_rename.head()"
   ]
  },
  {
   "cell_type": "code",
   "execution_count": 52,
   "metadata": {},
   "outputs": [
    {
     "data": {
      "text/plain": [
       "(24000, 51)"
      ]
     },
     "execution_count": 52,
     "metadata": {},
     "output_type": "execute_result"
    }
   ],
   "source": [
    "test_rename.shape"
   ]
  },
  {
   "cell_type": "code",
   "execution_count": 53,
   "metadata": {},
   "outputs": [
    {
     "data": {
      "text/plain": [
       "Index(['Creditworthiness_score', 'CreditEnquiredRisk',\n",
       "       'LoanDefaultSeverityAll', 'LoanDefaultSeverityAuto',\n",
       "       'LoanDefaultSeverityEdu', 'MinCreditAvailAfterPayments',\n",
       "       'MaxCreditAvailActiveAll', 'MaxCreditAvailAfterPayments',\n",
       "       'SumOfAvailCreditMissed1Pay', 'TotalCreditAvailActiveAll',\n",
       "       'PostDefaultDuesCollectedA500', 'TotalDueActive',\n",
       "       'AllAnnualPaidPreviousYear', 'AnnualIncome', 'PropertyMarketValue',\n",
       "       'NumActiveCCardsPaidOffFullCreditUsed', 'NumActiveCCardsFullCreditUsed',\n",
       "       'NumActiveFullCLinesFullCreditUsed', 'NumActiveCCards75pCreditUsed',\n",
       "       'NumActiveCLines75pCreditUsed', '%AverageUseOfCCardLoans',\n",
       "       '%AverageUseOfCLines2Yrs', '%AverageUseOfCCards1Yr',\n",
       "       '%AverageUseOfCLines6MoMiss1',\n",
       "       'AverageTenureofActiveRevolveCardsinDays', 'TenureofOldestCCardsinDays',\n",
       "       'TenureofOldestRevolvingCCardsinDays', 'NumOfDaysonlastmissedCLine',\n",
       "       'TenureofOldestCLineinDays', 'MaxTenureonAutoLoansinDays',\n",
       "       'MaxTenureonEduLoansinDays', 'SumTenureonActiveCCardsinMonth',\n",
       "       'SumTenureonActiveCLinesinMonth', 'NumOfCLineslast6MoMiss1',\n",
       "       'NumOfRevolveCCardslast2YrMiss1', 'NumActiveCLines',\n",
       "       'NumCCardsActiveTenure2Yrs', 'ActivatedCLinesinlast2Yrs',\n",
       "       'NumActiveCLinesDeliquent', '%UseCLinesonEduLoan',\n",
       "       '%UseCLinesonAutoLoan', 'FinanceStressIndex',\n",
       "       'NumberCLinesPaidHighRisk', 'DebtRatio1Max', 'NumOfHomeLoansMissed2x',\n",
       "       'NumOfAutoLoansMissed2x', 'form_field48', 'form_field49',\n",
       "       'DebtRatio1Min', 'ProductApplicatn', 'default_status'],\n",
       "      dtype='object')"
      ]
     },
     "execution_count": 53,
     "metadata": {},
     "output_type": "execute_result"
    }
   ],
   "source": [
    "train_feature.columns"
   ]
  },
  {
   "cell_type": "code",
   "execution_count": 54,
   "metadata": {},
   "outputs": [],
   "source": [
    "new_columns = ['Creditworthiness_score', 'CreditEnquiredRisk',\n",
    "       'LoanDefaultSeverityAll', 'LoanDefaultSeverityAuto',\n",
    "       'LoanDefaultSeverityEdu', 'MinCreditAvailAfterPayments',\n",
    "       'MaxCreditAvailActiveAll', 'MaxCreditAvailAfterPayments',\n",
    "       'SumOfAvailCreditMissed1Pay', 'TotalCreditAvailActiveAll',\n",
    "       'PostDefaultDuesCollectedA500', 'TotalDueActive',\n",
    "       'AllAnnualPaidPreviousYear', 'AnnualIncome', 'PropertyMarketValue',\n",
    "       'NumActiveCCardsPaidOffFullCreditUsed', 'NumActiveCCardsFullCreditUsed',\n",
    "       'NumActiveFullCLinesFullCreditUsed', 'NumActiveCCards75pCreditUsed',\n",
    "       'NumActiveCLines75pCreditUsed', '%AverageUseOfCCardLoans',\n",
    "       '%AverageUseOfCLines2Yrs', '%AverageUseOfCCards1Yr',\n",
    "       '%AverageUseOfCLines6MoMiss1',\n",
    "       'AverageTenureofActiveRevolveCardsinDays', 'TenureofOldestCCardsinDays',\n",
    "       'TenureofOldestRevolvingCCardsinDays', 'NumOfDaysonlastmissedCLine',\n",
    "       'TenureofOldestCLineinDays', 'MaxTenureonAutoLoansinDays',\n",
    "       'MaxTenureonEduLoansinDays', 'SumTenureonActiveCCardsinMonth',\n",
    "       'SumTenureonActiveCLinesinMonth', 'NumOfCLineslast6MoMiss1',\n",
    "       'NumOfRevolveCCardslast2YrMiss1', 'NumActiveCLines',\n",
    "       'NumCCardsActiveTenure2Yrs', 'ActivatedCLinesinlast2Yrs',\n",
    "       'NumActiveCLinesDeliquent', '%UseCLinesonEduLoan',\n",
    "       '%UseCLinesonAutoLoan', 'FinanceStressIndex',\n",
    "       'NumberCLinesPaidHighRisk', 'DebtRatio1Max', 'NumOfHomeLoansMissed2x',\n",
    "       'NumOfAutoLoansMissed2x', 'form_field48', 'form_field49',\n",
    "       'DebtRatio1Min', 'ProductApplicatn']"
   ]
  },
  {
   "cell_type": "code",
   "execution_count": 55,
   "metadata": {},
   "outputs": [],
   "source": [
    "test_final = test_rename[new_columns]"
   ]
  },
  {
   "cell_type": "code",
   "execution_count": 56,
   "metadata": {},
   "outputs": [
    {
     "data": {
      "text/html": [
       "<div>\n",
       "<style scoped>\n",
       "    .dataframe tbody tr th:only-of-type {\n",
       "        vertical-align: middle;\n",
       "    }\n",
       "\n",
       "    .dataframe tbody tr th {\n",
       "        vertical-align: top;\n",
       "    }\n",
       "\n",
       "    .dataframe thead th {\n",
       "        text-align: right;\n",
       "    }\n",
       "</style>\n",
       "<table border=\"1\" class=\"dataframe\">\n",
       "  <thead>\n",
       "    <tr style=\"text-align: right;\">\n",
       "      <th></th>\n",
       "      <th>Creditworthiness_score</th>\n",
       "      <th>CreditEnquiredRisk</th>\n",
       "      <th>LoanDefaultSeverityAll</th>\n",
       "      <th>LoanDefaultSeverityAuto</th>\n",
       "      <th>LoanDefaultSeverityEdu</th>\n",
       "      <th>MinCreditAvailAfterPayments</th>\n",
       "      <th>MaxCreditAvailActiveAll</th>\n",
       "      <th>MaxCreditAvailAfterPayments</th>\n",
       "      <th>SumOfAvailCreditMissed1Pay</th>\n",
       "      <th>TotalCreditAvailActiveAll</th>\n",
       "      <th>...</th>\n",
       "      <th>%UseCLinesonAutoLoan</th>\n",
       "      <th>FinanceStressIndex</th>\n",
       "      <th>NumberCLinesPaidHighRisk</th>\n",
       "      <th>DebtRatio1Max</th>\n",
       "      <th>NumOfHomeLoansMissed2x</th>\n",
       "      <th>NumOfAutoLoansMissed2x</th>\n",
       "      <th>form_field48</th>\n",
       "      <th>form_field49</th>\n",
       "      <th>DebtRatio1Min</th>\n",
       "      <th>ProductApplicatn</th>\n",
       "    </tr>\n",
       "  </thead>\n",
       "  <tbody>\n",
       "    <tr>\n",
       "      <td>0</td>\n",
       "      <td>3236.000000</td>\n",
       "      <td>0.34875</td>\n",
       "      <td>10.2006</td>\n",
       "      <td>0.0000</td>\n",
       "      <td>0.0</td>\n",
       "      <td>418564.0</td>\n",
       "      <td>418564.0</td>\n",
       "      <td>418564.0</td>\n",
       "      <td>540710.0</td>\n",
       "      <td>0.0</td>\n",
       "      <td>...</td>\n",
       "      <td>0.0000</td>\n",
       "      <td>0.825000</td>\n",
       "      <td>1.01</td>\n",
       "      <td>0.800000</td>\n",
       "      <td>0.0</td>\n",
       "      <td>0.0</td>\n",
       "      <td>0.000000</td>\n",
       "      <td>0.000000</td>\n",
       "      <td>0.011221</td>\n",
       "      <td>1</td>\n",
       "    </tr>\n",
       "    <tr>\n",
       "      <td>1</td>\n",
       "      <td>3284.000000</td>\n",
       "      <td>1.27360</td>\n",
       "      <td>2.9606</td>\n",
       "      <td>9.0198</td>\n",
       "      <td>0.0</td>\n",
       "      <td>0.0</td>\n",
       "      <td>9858816.0</td>\n",
       "      <td>49014.0</td>\n",
       "      <td>1510098.0</td>\n",
       "      <td>18308285.0</td>\n",
       "      <td>...</td>\n",
       "      <td>18.8415</td>\n",
       "      <td>0.507694</td>\n",
       "      <td>4.04</td>\n",
       "      <td>0.623248</td>\n",
       "      <td>1.0</td>\n",
       "      <td>0.0</td>\n",
       "      <td>0.000000</td>\n",
       "      <td>0.504974</td>\n",
       "      <td>0.043525</td>\n",
       "      <td>0</td>\n",
       "    </tr>\n",
       "    <tr>\n",
       "      <td>2</td>\n",
       "      <td>3492.284404</td>\n",
       "      <td>0.27505</td>\n",
       "      <td>0.0600</td>\n",
       "      <td>0.0000</td>\n",
       "      <td>0.0</td>\n",
       "      <td>0.0</td>\n",
       "      <td>0.0</td>\n",
       "      <td>0.0</td>\n",
       "      <td>0.0</td>\n",
       "      <td>0.0</td>\n",
       "      <td>...</td>\n",
       "      <td>0.0000</td>\n",
       "      <td>0.000000</td>\n",
       "      <td>0.00</td>\n",
       "      <td>0.000000</td>\n",
       "      <td>0.0</td>\n",
       "      <td>0.0</td>\n",
       "      <td>0.000000</td>\n",
       "      <td>0.000000</td>\n",
       "      <td>0.000000</td>\n",
       "      <td>1</td>\n",
       "    </tr>\n",
       "    <tr>\n",
       "      <td>3</td>\n",
       "      <td>3232.000000</td>\n",
       "      <td>0.28505</td>\n",
       "      <td>2.8032</td>\n",
       "      <td>0.0000</td>\n",
       "      <td>0.0</td>\n",
       "      <td>0.0</td>\n",
       "      <td>473802.0</td>\n",
       "      <td>473802.0</td>\n",
       "      <td>1724437.0</td>\n",
       "      <td>493641.0</td>\n",
       "      <td>...</td>\n",
       "      <td>0.0000</td>\n",
       "      <td>0.916663</td>\n",
       "      <td>2.02</td>\n",
       "      <td>0.464224</td>\n",
       "      <td>0.0</td>\n",
       "      <td>0.0</td>\n",
       "      <td>90.163742</td>\n",
       "      <td>0.788809</td>\n",
       "      <td>0.104029</td>\n",
       "      <td>1</td>\n",
       "    </tr>\n",
       "    <tr>\n",
       "      <td>4</td>\n",
       "      <td>3466.000000</td>\n",
       "      <td>2.09545</td>\n",
       "      <td>0.8318</td>\n",
       "      <td>2.5182</td>\n",
       "      <td>0.0</td>\n",
       "      <td>19839.0</td>\n",
       "      <td>1150662.0</td>\n",
       "      <td>1150662.0</td>\n",
       "      <td>7860523.0</td>\n",
       "      <td>5752921.0</td>\n",
       "      <td>...</td>\n",
       "      <td>0.0000</td>\n",
       "      <td>0.234047</td>\n",
       "      <td>23.23</td>\n",
       "      <td>0.726688</td>\n",
       "      <td>0.0</td>\n",
       "      <td>0.0</td>\n",
       "      <td>1303.587148</td>\n",
       "      <td>1.637733</td>\n",
       "      <td>0.163124</td>\n",
       "      <td>0</td>\n",
       "    </tr>\n",
       "  </tbody>\n",
       "</table>\n",
       "<p>5 rows × 50 columns</p>\n",
       "</div>"
      ],
      "text/plain": [
       "   Creditworthiness_score  CreditEnquiredRisk  LoanDefaultSeverityAll  \\\n",
       "0             3236.000000             0.34875                 10.2006   \n",
       "1             3284.000000             1.27360                  2.9606   \n",
       "2             3492.284404             0.27505                  0.0600   \n",
       "3             3232.000000             0.28505                  2.8032   \n",
       "4             3466.000000             2.09545                  0.8318   \n",
       "\n",
       "   LoanDefaultSeverityAuto  LoanDefaultSeverityEdu  \\\n",
       "0                   0.0000                     0.0   \n",
       "1                   9.0198                     0.0   \n",
       "2                   0.0000                     0.0   \n",
       "3                   0.0000                     0.0   \n",
       "4                   2.5182                     0.0   \n",
       "\n",
       "   MinCreditAvailAfterPayments  MaxCreditAvailActiveAll  \\\n",
       "0                     418564.0                 418564.0   \n",
       "1                          0.0                9858816.0   \n",
       "2                          0.0                      0.0   \n",
       "3                          0.0                 473802.0   \n",
       "4                      19839.0                1150662.0   \n",
       "\n",
       "   MaxCreditAvailAfterPayments  SumOfAvailCreditMissed1Pay  \\\n",
       "0                     418564.0                    540710.0   \n",
       "1                      49014.0                   1510098.0   \n",
       "2                          0.0                         0.0   \n",
       "3                     473802.0                   1724437.0   \n",
       "4                    1150662.0                   7860523.0   \n",
       "\n",
       "   TotalCreditAvailActiveAll  ...  %UseCLinesonAutoLoan  FinanceStressIndex  \\\n",
       "0                        0.0  ...                0.0000            0.825000   \n",
       "1                 18308285.0  ...               18.8415            0.507694   \n",
       "2                        0.0  ...                0.0000            0.000000   \n",
       "3                   493641.0  ...                0.0000            0.916663   \n",
       "4                  5752921.0  ...                0.0000            0.234047   \n",
       "\n",
       "   NumberCLinesPaidHighRisk  DebtRatio1Max  NumOfHomeLoansMissed2x  \\\n",
       "0                      1.01       0.800000                     0.0   \n",
       "1                      4.04       0.623248                     1.0   \n",
       "2                      0.00       0.000000                     0.0   \n",
       "3                      2.02       0.464224                     0.0   \n",
       "4                     23.23       0.726688                     0.0   \n",
       "\n",
       "   NumOfAutoLoansMissed2x  form_field48  form_field49  DebtRatio1Min  \\\n",
       "0                     0.0      0.000000      0.000000       0.011221   \n",
       "1                     0.0      0.000000      0.504974       0.043525   \n",
       "2                     0.0      0.000000      0.000000       0.000000   \n",
       "3                     0.0     90.163742      0.788809       0.104029   \n",
       "4                     0.0   1303.587148      1.637733       0.163124   \n",
       "\n",
       "   ProductApplicatn  \n",
       "0                 1  \n",
       "1                 0  \n",
       "2                 1  \n",
       "3                 1  \n",
       "4                 0  \n",
       "\n",
       "[5 rows x 50 columns]"
      ]
     },
     "execution_count": 56,
     "metadata": {},
     "output_type": "execute_result"
    }
   ],
   "source": [
    "test_final.head()"
   ]
  },
  {
   "cell_type": "code",
   "execution_count": 57,
   "metadata": {},
   "outputs": [],
   "source": [
    "#test_final.columns"
   ]
  },
  {
   "cell_type": "code",
   "execution_count": 58,
   "metadata": {},
   "outputs": [],
   "source": [
    "#test_final2 = test_final.drop(['DebtRatio1'], axis=1)"
   ]
  },
  {
   "cell_type": "code",
   "execution_count": 59,
   "metadata": {},
   "outputs": [],
   "source": [
    "#test_final.columns"
   ]
  },
  {
   "cell_type": "code",
   "execution_count": 60,
   "metadata": {},
   "outputs": [
    {
     "data": {
      "text/plain": [
       "(24000, 51)"
      ]
     },
     "execution_count": 60,
     "metadata": {},
     "output_type": "execute_result"
    }
   ],
   "source": [
    "test.shape"
   ]
  },
  {
   "cell_type": "code",
   "execution_count": 61,
   "metadata": {},
   "outputs": [
    {
     "data": {
      "text/plain": [
       "(24000, 50)"
      ]
     },
     "execution_count": 61,
     "metadata": {},
     "output_type": "execute_result"
    }
   ],
   "source": [
    "test_final.shape"
   ]
  },
  {
   "cell_type": "code",
   "execution_count": 62,
   "metadata": {},
   "outputs": [
    {
     "data": {
      "text/plain": [
       "(195, 51)"
      ]
     },
     "execution_count": 62,
     "metadata": {},
     "output_type": "execute_result"
    }
   ],
   "source": [
    "train_feature.shape"
   ]
  },
  {
   "cell_type": "code",
   "execution_count": 63,
   "metadata": {},
   "outputs": [],
   "source": [
    "test_final = RobustScaler().fit_transform(test_final)"
   ]
  },
  {
   "cell_type": "code",
   "execution_count": 64,
   "metadata": {},
   "outputs": [],
   "source": [
    "submissions = pd.DataFrame()\n",
    "submissions['Applicant_ID'] = test_rename['Applicant_ID']"
   ]
  },
  {
   "cell_type": "code",
   "execution_count": 65,
   "metadata": {},
   "outputs": [],
   "source": [
    "# predict with probability of 80 % and above\n",
    "y_pred_proba = pipeline.predict(test_final)\n",
    "#y_pred_proba = logistic_regression.predict_proba(test_final2)[:,1]\n",
    "y_pred = (y_pred_proba >= 0.8).astype('int')\n",
    "#CM = confusion_matrix(y_pred=y_pred_test, y_true=y_test)\n",
    "#print(\"Recall: \", 100*recall_score(y_pred=y_pred_test, y_true=y_test))\n",
    "#print(\"Precision: \", 100*precision_score(y_pred=y_pred_test, y_true=y_test))\n",
    "#CMatrix(CM)\n",
    "#submissions['probability (%)'] = y_pred_proba*100"
   ]
  },
  {
   "cell_type": "code",
   "execution_count": 66,
   "metadata": {},
   "outputs": [
    {
     "data": {
      "text/plain": [
       "array([1, 1, 1, ..., 1, 0, 1])"
      ]
     },
     "execution_count": 66,
     "metadata": {},
     "output_type": "execute_result"
    }
   ],
   "source": [
    "y_pred"
   ]
  },
  {
   "cell_type": "code",
   "execution_count": 67,
   "metadata": {},
   "outputs": [
    {
     "data": {
      "text/plain": [
       "24000"
      ]
     },
     "execution_count": 67,
     "metadata": {},
     "output_type": "execute_result"
    }
   ],
   "source": [
    "len(y_pred)"
   ]
  },
  {
   "cell_type": "code",
   "execution_count": 68,
   "metadata": {},
   "outputs": [],
   "source": [
    "submissions['default_status'] = y_pred"
   ]
  },
  {
   "cell_type": "code",
   "execution_count": 72,
   "metadata": {},
   "outputs": [
    {
     "data": {
      "text/html": [
       "<div>\n",
       "<style scoped>\n",
       "    .dataframe tbody tr th:only-of-type {\n",
       "        vertical-align: middle;\n",
       "    }\n",
       "\n",
       "    .dataframe tbody tr th {\n",
       "        vertical-align: top;\n",
       "    }\n",
       "\n",
       "    .dataframe thead th {\n",
       "        text-align: right;\n",
       "    }\n",
       "</style>\n",
       "<table border=\"1\" class=\"dataframe\">\n",
       "  <thead>\n",
       "    <tr style=\"text-align: right;\">\n",
       "      <th></th>\n",
       "      <th>Applicant_ID</th>\n",
       "      <th>default_status</th>\n",
       "    </tr>\n",
       "  </thead>\n",
       "  <tbody>\n",
       "    <tr>\n",
       "      <td>0</td>\n",
       "      <td>Apcnt_1000032</td>\n",
       "      <td>1</td>\n",
       "    </tr>\n",
       "    <tr>\n",
       "      <td>1</td>\n",
       "      <td>Apcnt_1000048</td>\n",
       "      <td>1</td>\n",
       "    </tr>\n",
       "    <tr>\n",
       "      <td>2</td>\n",
       "      <td>Apcnt_1000052</td>\n",
       "      <td>1</td>\n",
       "    </tr>\n",
       "    <tr>\n",
       "      <td>3</td>\n",
       "      <td>Apcnt_1000076</td>\n",
       "      <td>1</td>\n",
       "    </tr>\n",
       "    <tr>\n",
       "      <td>4</td>\n",
       "      <td>Apcnt_1000080</td>\n",
       "      <td>1</td>\n",
       "    </tr>\n",
       "    <tr>\n",
       "      <td>5</td>\n",
       "      <td>Apcnt_1000084</td>\n",
       "      <td>1</td>\n",
       "    </tr>\n",
       "    <tr>\n",
       "      <td>6</td>\n",
       "      <td>Apcnt_1000104</td>\n",
       "      <td>0</td>\n",
       "    </tr>\n",
       "    <tr>\n",
       "      <td>7</td>\n",
       "      <td>Apcnt_1000116</td>\n",
       "      <td>0</td>\n",
       "    </tr>\n",
       "    <tr>\n",
       "      <td>8</td>\n",
       "      <td>Apcnt_1000128</td>\n",
       "      <td>1</td>\n",
       "    </tr>\n",
       "    <tr>\n",
       "      <td>9</td>\n",
       "      <td>Apcnt_1000156</td>\n",
       "      <td>1</td>\n",
       "    </tr>\n",
       "    <tr>\n",
       "      <td>10</td>\n",
       "      <td>Apcnt_1000192</td>\n",
       "      <td>1</td>\n",
       "    </tr>\n",
       "    <tr>\n",
       "      <td>11</td>\n",
       "      <td>Apcnt_1000208</td>\n",
       "      <td>1</td>\n",
       "    </tr>\n",
       "    <tr>\n",
       "      <td>12</td>\n",
       "      <td>Apcnt_1000264</td>\n",
       "      <td>1</td>\n",
       "    </tr>\n",
       "    <tr>\n",
       "      <td>13</td>\n",
       "      <td>Apcnt_1000288</td>\n",
       "      <td>1</td>\n",
       "    </tr>\n",
       "    <tr>\n",
       "      <td>14</td>\n",
       "      <td>Apcnt_1000292</td>\n",
       "      <td>0</td>\n",
       "    </tr>\n",
       "    <tr>\n",
       "      <td>15</td>\n",
       "      <td>Apcnt_1000328</td>\n",
       "      <td>1</td>\n",
       "    </tr>\n",
       "    <tr>\n",
       "      <td>16</td>\n",
       "      <td>Apcnt_1000336</td>\n",
       "      <td>0</td>\n",
       "    </tr>\n",
       "    <tr>\n",
       "      <td>17</td>\n",
       "      <td>Apcnt_1000356</td>\n",
       "      <td>1</td>\n",
       "    </tr>\n",
       "    <tr>\n",
       "      <td>18</td>\n",
       "      <td>Apcnt_1000368</td>\n",
       "      <td>1</td>\n",
       "    </tr>\n",
       "    <tr>\n",
       "      <td>19</td>\n",
       "      <td>Apcnt_1000372</td>\n",
       "      <td>0</td>\n",
       "    </tr>\n",
       "  </tbody>\n",
       "</table>\n",
       "</div>"
      ],
      "text/plain": [
       "     Applicant_ID  default_status\n",
       "0   Apcnt_1000032               1\n",
       "1   Apcnt_1000048               1\n",
       "2   Apcnt_1000052               1\n",
       "3   Apcnt_1000076               1\n",
       "4   Apcnt_1000080               1\n",
       "5   Apcnt_1000084               1\n",
       "6   Apcnt_1000104               0\n",
       "7   Apcnt_1000116               0\n",
       "8   Apcnt_1000128               1\n",
       "9   Apcnt_1000156               1\n",
       "10  Apcnt_1000192               1\n",
       "11  Apcnt_1000208               1\n",
       "12  Apcnt_1000264               1\n",
       "13  Apcnt_1000288               1\n",
       "14  Apcnt_1000292               0\n",
       "15  Apcnt_1000328               1\n",
       "16  Apcnt_1000336               0\n",
       "17  Apcnt_1000356               1\n",
       "18  Apcnt_1000368               1\n",
       "19  Apcnt_1000372               0"
      ]
     },
     "execution_count": 72,
     "metadata": {},
     "output_type": "execute_result"
    }
   ],
   "source": [
    "submissions.head(20)"
   ]
  },
  {
   "cell_type": "code",
   "execution_count": 70,
   "metadata": {},
   "outputs": [
    {
     "data": {
      "text/plain": [
       "24000"
      ]
     },
     "execution_count": 70,
     "metadata": {},
     "output_type": "execute_result"
    }
   ],
   "source": [
    "len(submissions)"
   ]
  },
  {
   "cell_type": "code",
   "execution_count": 71,
   "metadata": {},
   "outputs": [],
   "source": [
    "submissions.to_csv('submissions_G.csv', index=False)"
   ]
  },
  {
   "cell_type": "code",
   "execution_count": null,
   "metadata": {},
   "outputs": [],
   "source": []
  }
 ],
 "metadata": {
  "kernelspec": {
   "display_name": "Python 3",
   "language": "python",
   "name": "python3"
  },
  "language_info": {
   "codemirror_mode": {
    "name": "ipython",
    "version": 3
   },
   "file_extension": ".py",
   "mimetype": "text/x-python",
   "name": "python",
   "nbconvert_exporter": "python",
   "pygments_lexer": "ipython3",
   "version": "3.7.4"
  }
 },
 "nbformat": 4,
 "nbformat_minor": 2
}
